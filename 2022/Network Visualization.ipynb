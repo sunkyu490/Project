{
 "cells": [
  {
   "cell_type": "markdown",
   "id": "061710fb-a02b-4702-9f24-3619744ebbbd",
   "metadata": {},
   "source": [
    "# Network Visualization with Bokeh"
   ]
  },
  {
   "cell_type": "markdown",
   "id": "402654bf-e363-4167-8784-81cade9a0d82",
   "metadata": {},
   "source": [
    "###  Importing Libraries"
   ]
  },
  {
   "cell_type": "code",
   "execution_count": 126,
   "id": "e8ef8861-1916-4105-9852-5824fa7746ea",
   "metadata": {},
   "outputs": [],
   "source": [
    "import pandas as pd\n",
    "import networkx\n",
    "import matplotlib.pyplot as plt\n",
    "import numpy as np"
   ]
  },
  {
   "cell_type": "markdown",
   "id": "3557d5e8-261f-4d47-a18a-35f2073f5e82",
   "metadata": {},
   "source": [
    "### Loading the Data Set"
   ]
  },
  {
   "cell_type": "code",
   "execution_count": 127,
   "id": "153324b5-4ae8-4a93-a362-1a5bab94a661",
   "metadata": {},
   "outputs": [],
   "source": [
    "df = pd.read_csv('./drug_gene2.csv')\n",
    "# 데이터 불러오기"
   ]
  },
  {
   "cell_type": "markdown",
   "id": "14367ba3-016a-4ee7-88fa-e10efe5f4914",
   "metadata": {},
   "source": [
    "### Basic Data Exploration"
   ]
  },
  {
   "cell_type": "code",
   "execution_count": 128,
   "id": "e9019c21-4860-43e5-858c-b6cd8fad9e69",
   "metadata": {},
   "outputs": [
    {
     "data": {
      "text/html": [
       "<div>\n",
       "<style scoped>\n",
       "    .dataframe tbody tr th:only-of-type {\n",
       "        vertical-align: middle;\n",
       "    }\n",
       "\n",
       "    .dataframe tbody tr th {\n",
       "        vertical-align: top;\n",
       "    }\n",
       "\n",
       "    .dataframe thead th {\n",
       "        text-align: right;\n",
       "    }\n",
       "</style>\n",
       "<table border=\"1\" class=\"dataframe\">\n",
       "  <thead>\n",
       "    <tr style=\"text-align: right;\">\n",
       "      <th></th>\n",
       "      <th>DRUG_NAME</th>\n",
       "      <th>TARGET_NAME</th>\n",
       "      <th>GENE</th>\n",
       "      <th>ORGANISM</th>\n",
       "    </tr>\n",
       "  </thead>\n",
       "  <tbody>\n",
       "    <tr>\n",
       "      <th>0</th>\n",
       "      <td>levobupivacaine</td>\n",
       "      <td>Sodium channel protein type 4 subunit alpha</td>\n",
       "      <td>SCN4A</td>\n",
       "      <td>Homo sapiens</td>\n",
       "    </tr>\n",
       "    <tr>\n",
       "      <th>1</th>\n",
       "      <td>levobupivacaine</td>\n",
       "      <td>Cytochrome P450 2D6</td>\n",
       "      <td>CYP2D6</td>\n",
       "      <td>Homo sapiens</td>\n",
       "    </tr>\n",
       "    <tr>\n",
       "      <th>2</th>\n",
       "      <td>levobupivacaine</td>\n",
       "      <td>Potassium voltage-gated channel subfamily H me...</td>\n",
       "      <td>KCNH2</td>\n",
       "      <td>Homo sapiens</td>\n",
       "    </tr>\n",
       "    <tr>\n",
       "      <th>3</th>\n",
       "      <td>levobupivacaine</td>\n",
       "      <td>Potassium voltage-gated channel subfamily D me...</td>\n",
       "      <td>KCND3</td>\n",
       "      <td>Homo sapiens</td>\n",
       "    </tr>\n",
       "    <tr>\n",
       "      <th>4</th>\n",
       "      <td>levobupivacaine</td>\n",
       "      <td>Prostaglandin E2 receptor EP1 subtype</td>\n",
       "      <td>PTGER1</td>\n",
       "      <td>Homo sapiens</td>\n",
       "    </tr>\n",
       "    <tr>\n",
       "      <th>...</th>\n",
       "      <td>...</td>\n",
       "      <td>...</td>\n",
       "      <td>...</td>\n",
       "      <td>...</td>\n",
       "    </tr>\n",
       "    <tr>\n",
       "      <th>12106</th>\n",
       "      <td>niraparib</td>\n",
       "      <td>Poly [ADP-ribose] polymerase 2</td>\n",
       "      <td>PARP2</td>\n",
       "      <td>Homo sapiens</td>\n",
       "    </tr>\n",
       "    <tr>\n",
       "      <th>12107</th>\n",
       "      <td>ocrelizumab</td>\n",
       "      <td>B-lymphocyte antigen CD20</td>\n",
       "      <td>MS4A1</td>\n",
       "      <td>Homo sapiens</td>\n",
       "    </tr>\n",
       "    <tr>\n",
       "      <th>12108</th>\n",
       "      <td>dupilumab</td>\n",
       "      <td>Interleukin-4 receptor subunit alpha</td>\n",
       "      <td>IL4R</td>\n",
       "      <td>Homo sapiens</td>\n",
       "    </tr>\n",
       "    <tr>\n",
       "      <th>12109</th>\n",
       "      <td>deutetrabenazine</td>\n",
       "      <td>Synaptic vesicular amine transporter</td>\n",
       "      <td>SLC18A2</td>\n",
       "      <td>Homo sapiens</td>\n",
       "    </tr>\n",
       "    <tr>\n",
       "      <th>12110</th>\n",
       "      <td>valbenazine</td>\n",
       "      <td>Synaptic vesicular amine transporter</td>\n",
       "      <td>SLC18A2</td>\n",
       "      <td>Homo sapiens</td>\n",
       "    </tr>\n",
       "  </tbody>\n",
       "</table>\n",
       "<p>12111 rows × 4 columns</p>\n",
       "</div>"
      ],
      "text/plain": [
       "              DRUG_NAME                                        TARGET_NAME  \\\n",
       "0       levobupivacaine        Sodium channel protein type 4 subunit alpha   \n",
       "1       levobupivacaine                                Cytochrome P450 2D6   \n",
       "2       levobupivacaine  Potassium voltage-gated channel subfamily H me...   \n",
       "3       levobupivacaine  Potassium voltage-gated channel subfamily D me...   \n",
       "4       levobupivacaine              Prostaglandin E2 receptor EP1 subtype   \n",
       "...                 ...                                                ...   \n",
       "12106         niraparib                     Poly [ADP-ribose] polymerase 2   \n",
       "12107       ocrelizumab                          B-lymphocyte antigen CD20   \n",
       "12108         dupilumab               Interleukin-4 receptor subunit alpha   \n",
       "12109  deutetrabenazine               Synaptic vesicular amine transporter   \n",
       "12110       valbenazine               Synaptic vesicular amine transporter   \n",
       "\n",
       "          GENE      ORGANISM  \n",
       "0        SCN4A  Homo sapiens  \n",
       "1       CYP2D6  Homo sapiens  \n",
       "2        KCNH2  Homo sapiens  \n",
       "3        KCND3  Homo sapiens  \n",
       "4       PTGER1  Homo sapiens  \n",
       "...        ...           ...  \n",
       "12106    PARP2  Homo sapiens  \n",
       "12107    MS4A1  Homo sapiens  \n",
       "12108     IL4R  Homo sapiens  \n",
       "12109  SLC18A2  Homo sapiens  \n",
       "12110  SLC18A2  Homo sapiens  \n",
       "\n",
       "[12111 rows x 4 columns]"
      ]
     },
     "execution_count": 128,
     "metadata": {},
     "output_type": "execute_result"
    }
   ],
   "source": [
    "df\n",
    "# 데이터 살펴보기"
   ]
  },
  {
   "cell_type": "code",
   "execution_count": 102,
   "id": "8486c443-ce09-4b27-bd5a-450d01de6813",
   "metadata": {},
   "outputs": [
    {
     "data": {
      "text/plain": [
       "sunitinib           263\n",
       "nintedanib          218\n",
       "bosutinib           200\n",
       "crizotinib          147\n",
       "dasatinib           127\n",
       "                   ... \n",
       "necitumumab           1\n",
       "cyclophosphamide      1\n",
       "benoxaprofen          1\n",
       "lumefantrine          1\n",
       "romiplostim           1\n",
       "Name: DRUG_NAME, Length: 2087, dtype: int64"
      ]
     },
     "execution_count": 102,
     "metadata": {},
     "output_type": "execute_result"
    }
   ],
   "source": [
    "df['DRUG_NAME'].value_counts()"
   ]
  },
  {
   "cell_type": "code",
   "execution_count": 100,
   "id": "26441651-f1a0-4e3f-aa5d-388688d36570",
   "metadata": {},
   "outputs": [
    {
     "data": {
      "text/plain": [
       "HTR2A           173\n",
       "ADRA2A          166\n",
       "KCNH2           159\n",
       "CHRM1           158\n",
       "DRD3            158\n",
       "               ... \n",
       "AOC3              1\n",
       "HCRTR1            1\n",
       "RDH12             1\n",
       "IL11RA|IL6ST      1\n",
       "PRKCI             1\n",
       "Name: GENE, Length: 1497, dtype: int64"
      ]
     },
     "execution_count": 100,
     "metadata": {},
     "output_type": "execute_result"
    }
   ],
   "source": [
    "df['GENE'].value_counts()"
   ]
  },
  {
   "cell_type": "code",
   "execution_count": 101,
   "id": "35988722-8b24-4930-8174-7407cef68c49",
   "metadata": {},
   "outputs": [
    {
     "data": {
      "text/html": [
       "<div>\n",
       "<style scoped>\n",
       "    .dataframe tbody tr th:only-of-type {\n",
       "        vertical-align: middle;\n",
       "    }\n",
       "\n",
       "    .dataframe tbody tr th {\n",
       "        vertical-align: top;\n",
       "    }\n",
       "\n",
       "    .dataframe thead th {\n",
       "        text-align: right;\n",
       "    }\n",
       "</style>\n",
       "<table border=\"1\" class=\"dataframe\">\n",
       "  <thead>\n",
       "    <tr style=\"text-align: right;\">\n",
       "      <th></th>\n",
       "      <th>DRUG_NAME</th>\n",
       "      <th>GENE</th>\n",
       "    </tr>\n",
       "  </thead>\n",
       "  <tbody>\n",
       "    <tr>\n",
       "      <th>0</th>\n",
       "      <td>levobupivacaine</td>\n",
       "      <td>SCN4A</td>\n",
       "    </tr>\n",
       "    <tr>\n",
       "      <th>1</th>\n",
       "      <td>levobupivacaine</td>\n",
       "      <td>CYP2D6</td>\n",
       "    </tr>\n",
       "    <tr>\n",
       "      <th>2</th>\n",
       "      <td>levobupivacaine</td>\n",
       "      <td>KCNH2</td>\n",
       "    </tr>\n",
       "    <tr>\n",
       "      <th>3</th>\n",
       "      <td>levobupivacaine</td>\n",
       "      <td>KCND3</td>\n",
       "    </tr>\n",
       "    <tr>\n",
       "      <th>4</th>\n",
       "      <td>levobupivacaine</td>\n",
       "      <td>PTGER1</td>\n",
       "    </tr>\n",
       "    <tr>\n",
       "      <th>...</th>\n",
       "      <td>...</td>\n",
       "      <td>...</td>\n",
       "    </tr>\n",
       "    <tr>\n",
       "      <th>12106</th>\n",
       "      <td>niraparib</td>\n",
       "      <td>PARP2</td>\n",
       "    </tr>\n",
       "    <tr>\n",
       "      <th>12107</th>\n",
       "      <td>ocrelizumab</td>\n",
       "      <td>MS4A1</td>\n",
       "    </tr>\n",
       "    <tr>\n",
       "      <th>12108</th>\n",
       "      <td>dupilumab</td>\n",
       "      <td>IL4R</td>\n",
       "    </tr>\n",
       "    <tr>\n",
       "      <th>12109</th>\n",
       "      <td>deutetrabenazine</td>\n",
       "      <td>SLC18A2</td>\n",
       "    </tr>\n",
       "    <tr>\n",
       "      <th>12110</th>\n",
       "      <td>valbenazine</td>\n",
       "      <td>SLC18A2</td>\n",
       "    </tr>\n",
       "  </tbody>\n",
       "</table>\n",
       "<p>12111 rows × 2 columns</p>\n",
       "</div>"
      ],
      "text/plain": [
       "              DRUG_NAME     GENE\n",
       "0       levobupivacaine    SCN4A\n",
       "1       levobupivacaine   CYP2D6\n",
       "2       levobupivacaine    KCNH2\n",
       "3       levobupivacaine    KCND3\n",
       "4       levobupivacaine   PTGER1\n",
       "...                 ...      ...\n",
       "12106         niraparib    PARP2\n",
       "12107       ocrelizumab    MS4A1\n",
       "12108         dupilumab     IL4R\n",
       "12109  deutetrabenazine  SLC18A2\n",
       "12110       valbenazine  SLC18A2\n",
       "\n",
       "[12111 rows x 2 columns]"
      ]
     },
     "execution_count": 101,
     "metadata": {},
     "output_type": "execute_result"
    }
   ],
   "source": [
    "df[['DRUG_NAME','GENE']]"
   ]
  },
  {
   "cell_type": "code",
   "execution_count": 105,
   "id": "d32f8446-8581-4f25-981b-cd50165aaac8",
   "metadata": {},
   "outputs": [],
   "source": [
    "result2 = result[['DRUG_NAME','GENE']].copy()\n",
    "#DRUG_NAME 과 GENE 컬럼만 모아서 저장"
   ]
  },
  {
   "cell_type": "code",
   "execution_count": 106,
   "id": "debad5d7-78ab-435e-8a12-388e86441d56",
   "metadata": {},
   "outputs": [
    {
     "data": {
      "text/html": [
       "<div>\n",
       "<style scoped>\n",
       "    .dataframe tbody tr th:only-of-type {\n",
       "        vertical-align: middle;\n",
       "    }\n",
       "\n",
       "    .dataframe tbody tr th {\n",
       "        vertical-align: top;\n",
       "    }\n",
       "\n",
       "    .dataframe thead th {\n",
       "        text-align: right;\n",
       "    }\n",
       "</style>\n",
       "<table border=\"1\" class=\"dataframe\">\n",
       "  <thead>\n",
       "    <tr style=\"text-align: right;\">\n",
       "      <th></th>\n",
       "      <th>DRUG_NAME</th>\n",
       "      <th>GENE</th>\n",
       "    </tr>\n",
       "  </thead>\n",
       "  <tbody>\n",
       "    <tr>\n",
       "      <th>count</th>\n",
       "      <td>167</td>\n",
       "      <td>167</td>\n",
       "    </tr>\n",
       "    <tr>\n",
       "      <th>unique</th>\n",
       "      <td>122</td>\n",
       "      <td>29</td>\n",
       "    </tr>\n",
       "    <tr>\n",
       "      <th>top</th>\n",
       "      <td>bosutinib</td>\n",
       "      <td>SCN5A</td>\n",
       "    </tr>\n",
       "    <tr>\n",
       "      <th>freq</th>\n",
       "      <td>7</td>\n",
       "      <td>38</td>\n",
       "    </tr>\n",
       "  </tbody>\n",
       "</table>\n",
       "</div>"
      ],
      "text/plain": [
       "        DRUG_NAME   GENE\n",
       "count         167    167\n",
       "unique        122     29\n",
       "top     bosutinib  SCN5A\n",
       "freq            7     38"
      ]
     },
     "execution_count": 106,
     "metadata": {},
     "output_type": "execute_result"
    }
   ],
   "source": [
    "result2.describe()"
   ]
  },
  {
   "cell_type": "code",
   "execution_count": 107,
   "id": "09b14e4f-50af-4645-af3e-533fa2d0d96a",
   "metadata": {},
   "outputs": [
    {
     "data": {
      "text/html": [
       "<div>\n",
       "<style scoped>\n",
       "    .dataframe tbody tr th:only-of-type {\n",
       "        vertical-align: middle;\n",
       "    }\n",
       "\n",
       "    .dataframe tbody tr th {\n",
       "        vertical-align: top;\n",
       "    }\n",
       "\n",
       "    .dataframe thead th {\n",
       "        text-align: right;\n",
       "    }\n",
       "</style>\n",
       "<table border=\"1\" class=\"dataframe\">\n",
       "  <thead>\n",
       "    <tr style=\"text-align: right;\">\n",
       "      <th></th>\n",
       "      <th>DRUG_NAME</th>\n",
       "      <th>GENE</th>\n",
       "    </tr>\n",
       "  </thead>\n",
       "  <tbody>\n",
       "    <tr>\n",
       "      <th>6269</th>\n",
       "      <td>perhexiline</td>\n",
       "      <td>CPT2</td>\n",
       "    </tr>\n",
       "    <tr>\n",
       "      <th>7765</th>\n",
       "      <td>sunitinib</td>\n",
       "      <td>INSRR</td>\n",
       "    </tr>\n",
       "    <tr>\n",
       "      <th>10309</th>\n",
       "      <td>crizotinib</td>\n",
       "      <td>INSRR</td>\n",
       "    </tr>\n",
       "    <tr>\n",
       "      <th>11664</th>\n",
       "      <td>nintedanib</td>\n",
       "      <td>INSRR</td>\n",
       "    </tr>\n",
       "    <tr>\n",
       "      <th>351</th>\n",
       "      <td>amitriptyline</td>\n",
       "      <td>NTRK1</td>\n",
       "    </tr>\n",
       "    <tr>\n",
       "      <th>...</th>\n",
       "      <td>...</td>\n",
       "      <td>...</td>\n",
       "    </tr>\n",
       "    <tr>\n",
       "      <th>3410</th>\n",
       "      <td>floxacillin</td>\n",
       "      <td>MMP9</td>\n",
       "    </tr>\n",
       "    <tr>\n",
       "      <th>7225</th>\n",
       "      <td>secobarbital</td>\n",
       "      <td>MMP9</td>\n",
       "    </tr>\n",
       "    <tr>\n",
       "      <th>8890</th>\n",
       "      <td>zoledronic acid</td>\n",
       "      <td>MMP9</td>\n",
       "    </tr>\n",
       "    <tr>\n",
       "      <th>9355</th>\n",
       "      <td>quercetin</td>\n",
       "      <td>MMP9</td>\n",
       "    </tr>\n",
       "    <tr>\n",
       "      <th>10548</th>\n",
       "      <td>prazosin</td>\n",
       "      <td>MMP9</td>\n",
       "    </tr>\n",
       "  </tbody>\n",
       "</table>\n",
       "<p>167 rows × 2 columns</p>\n",
       "</div>"
      ],
      "text/plain": [
       "             DRUG_NAME   GENE\n",
       "6269       perhexiline   CPT2\n",
       "7765         sunitinib  INSRR\n",
       "10309       crizotinib  INSRR\n",
       "11664       nintedanib  INSRR\n",
       "351      amitriptyline  NTRK1\n",
       "...                ...    ...\n",
       "3410       floxacillin   MMP9\n",
       "7225      secobarbital   MMP9\n",
       "8890   zoledronic acid   MMP9\n",
       "9355         quercetin   MMP9\n",
       "10548         prazosin   MMP9\n",
       "\n",
       "[167 rows x 2 columns]"
      ]
     },
     "execution_count": 107,
     "metadata": {},
     "output_type": "execute_result"
    }
   ],
   "source": [
    "result2"
   ]
  },
  {
   "cell_type": "markdown",
   "id": "71ae140d-c8a6-4444-bbb9-b9aea1dd68fd",
   "metadata": {},
   "source": [
    "## Importing Bokeh"
   ]
  },
  {
   "cell_type": "code",
   "execution_count": 137,
   "id": "2a1cf123-3247-4941-b98c-1a56424b9715",
   "metadata": {},
   "outputs": [],
   "source": [
    "G = networkx.from_pandas_edgelist(result2, 'GENE', 'DRUG_NAME')"
   ]
  },
  {
   "cell_type": "code",
   "execution_count": 138,
   "id": "8f6b66c9-bc21-43ac-8eab-bff729f9ce42",
   "metadata": {},
   "outputs": [],
   "source": [
    "from bokeh.io import output_notebook, show, save\n",
    "from bokeh.models import Range1d, Circle, ColumnDataSource, MultiLine\n",
    "from bokeh.plotting import figure\n",
    "from bokeh.plotting import from_networkx"
   ]
  },
  {
   "cell_type": "code",
   "execution_count": 139,
   "id": "7d4bd5d4-baf0-472e-a06f-072ef16f0bd9",
   "metadata": {},
   "outputs": [],
   "source": [
    "# output_notebook()"
   ]
  },
  {
   "cell_type": "markdown",
   "id": "0000a92b-2e1f-49ca-aff5-03962c617b44",
   "metadata": {},
   "source": [
    "## Basic Network"
   ]
  },
  {
   "cell_type": "code",
   "execution_count": 140,
   "id": "e66241f0-3734-4f75-9029-584ddedcb27f",
   "metadata": {},
   "outputs": [
    {
     "data": {
      "text/html": [
       "\n",
       "\n",
       "\n",
       "\n",
       "\n",
       "\n",
       "  <div class=\"bk-root\" id=\"a68637af-87d9-4fa3-83d0-96b836ad2578\" data-root-id=\"9341\"></div>\n"
      ]
     },
     "metadata": {},
     "output_type": "display_data"
    },
    {
     "data": {
      "application/javascript": [
       "(function(root) {\n",
       "  function embed_document(root) {\n",
       "    \n",
       "  var docs_json = {\"882829a3-e9b8-4a76-859e-b32c8270ebcf\":{\"defs\":[],\"roots\":{\"references\":[{\"attributes\":{\"below\":[{\"id\":\"9350\"}],\"center\":[{\"id\":\"9353\"},{\"id\":\"9357\"}],\"left\":[{\"id\":\"9354\"}],\"renderers\":[{\"id\":\"9369\"}],\"title\":{\"id\":\"9342\"},\"toolbar\":{\"id\":\"9363\"},\"x_range\":{\"id\":\"9339\"},\"x_scale\":{\"id\":\"9346\"},\"y_range\":{\"id\":\"9340\"},\"y_scale\":{\"id\":\"9348\"}},\"id\":\"9341\",\"subtype\":\"Figure\",\"type\":\"Plot\"},{\"attributes\":{},\"id\":\"9359\",\"type\":\"WheelZoomTool\"},{\"attributes\":{\"data\":{\"index\":[\"CPT2\",\"perhexiline\",\"INSRR\",\"sunitinib\",\"crizotinib\",\"nintedanib\",\"NTRK1\",\"amitriptyline\",\"sorafenib\",\"ruxolitinib\",\"axitinib\",\"bosutinib\",\"ceritinib\",\"PARP1\",\"chlorthenoxazine\",\"olaparib\",\"rucaparib\",\"PARP10\",\"PARP12\",\"PARP14\",\"PARP15\",\"niraparib\",\"ALK\",\"erlotinib\",\"quercetin\",\"pazopanib\",\"vandetanib\",\"ALK|NPM1\",\"alectinib\",\"HDAC4\",\"romidepsin\",\"vorinostat\",\"panobinostat\",\"belinostat\",\"SCN5A\",\"amiodarone\",\"aprindine\",\"benzocaine\",\"benzonatate\",\"bepridil\",\"carbamazepine\",\"cocaine\",\"dextropropoxyphene\",\"cinchocaine\",\"hydroquinidine\",\"diprafenone\",\"disopyramide\",\"encainide\",\"etidocaine\",\"flecainide\",\"fosphenytoin\",\"gabapentin\",\"indecainide\",\"lamotrigine\",\"lidocaine\",\"lorcainide\",\"mepivacaine\",\"mexiletine\",\"moracizine\",\"nefopam\",\"orphenadrine\",\"oxcarbazepine\",\"phenytoin\",\"pirmenol\",\"propafenone\",\"quinidine\",\"ranolazine\",\"riluzole\",\"ropivacaine\",\"tetracaine\",\"topiramate\",\"verapamil\",\"KDM1B\",\"tranylcypromine\",\"BLK\",\"dasatinib\",\"gefitinib\",\"imatinib\",\"nilotinib\",\"afatinib\",\"ibrutinib\",\"SIRT1\",\"nicotinamide\",\"suramin\",\"MAP3K11\",\"CSNK1A1L\",\"ANPEP\",\"ubenimex\",\"ABAT\",\"vigabatrin\",\"ABCC11\",\"fluorouracil\",\"ABCC10\",\"anhydrovinblastine\",\"ABCC1\",\"benzbromarone\",\"colchicine\",\"ciclosporin\",\"daunorubicin\",\"docetaxel\",\"doxorubicin\",\"etoposide\",\"etravirine\",\"idarubicin\",\"indomethacin\",\"irinotecan\",\"methotrexate\",\"mezlocillin\",\"mitoxantrone\",\"paclitaxel\",\"pimozide\",\"saquinavir\",\"sulfinpyrazone\",\"vinblastine\",\"vincristine\",\"diosmetin\",\"daunorubicinol\",\"TAOK2\",\"ruboxistaurin\",\"HSD17B2\",\"acetoxolone\",\"SLC7A5\",\"pregabalin\",\"MAPT\",\"lansoprazole\",\"methylthioninium chloride\",\"tolonium\",\"HCN2\",\"ivabradine\",\"dronedarone\",\"DNMT3B\",\"hydralazine\",\"procainamide\",\"MMP9\",\"aminoquinuride\",\"beclometasone dipropionate\",\"budesonide\",\"busulfan\",\"cefonicid\",\"cefotetan\",\"cefotiam\",\"cefuroxime\",\"cefalotin\",\"cefradine\",\"chlorhexidine\",\"dacarbazine\",\"econazole\",\"floxacillin\",\"secobarbital\",\"zoledronic acid\",\"prazosin\"]},\"selected\":{\"id\":\"9831\"},\"selection_policy\":{\"id\":\"9830\"}},\"id\":\"9371\",\"type\":\"ColumnDataSource\"},{\"attributes\":{},\"id\":\"9351\",\"type\":\"BasicTicker\"},{\"attributes\":{},\"id\":\"9346\",\"type\":\"LinearScale\"},{\"attributes\":{\"end\":10.1,\"start\":-10.1},\"id\":\"9339\",\"type\":\"Range1d\"},{\"attributes\":{},\"id\":\"9827\",\"type\":\"NodesOnly\"},{\"attributes\":{\"text\":\"Drug-Gene Interaction\"},\"id\":\"9342\",\"type\":\"Title\"},{\"attributes\":{},\"id\":\"9816\",\"type\":\"BasicTickFormatter\"},{\"attributes\":{},\"id\":\"9831\",\"type\":\"Selection\"},{\"attributes\":{\"axis\":{\"id\":\"9354\"},\"dimension\":1,\"ticker\":null},\"id\":\"9357\",\"type\":\"Grid\"},{\"attributes\":{},\"id\":\"9348\",\"type\":\"LinearScale\"},{\"attributes\":{\"active_multi\":null,\"active_scroll\":{\"id\":\"9359\"},\"tools\":[{\"id\":\"9358\"},{\"id\":\"9359\"},{\"id\":\"9360\"},{\"id\":\"9361\"},{\"id\":\"9362\"}]},\"id\":\"9363\",\"type\":\"Toolbar\"},{\"attributes\":{},\"id\":\"9355\",\"type\":\"BasicTicker\"},{\"attributes\":{},\"id\":\"9813\",\"type\":\"BasicTickFormatter\"},{\"attributes\":{\"source\":{\"id\":\"9371\"}},\"id\":\"9373\",\"type\":\"CDSView\"},{\"attributes\":{\"fill_color\":{\"value\":\"skyblue\"},\"size\":{\"value\":15}},\"id\":\"9379\",\"type\":\"Circle\"},{\"attributes\":{\"data_source\":{\"id\":\"9375\"},\"glyph\":{\"id\":\"9384\"},\"hover_glyph\":null,\"muted_glyph\":null,\"view\":{\"id\":\"9377\"}},\"id\":\"9376\",\"type\":\"GlyphRenderer\"},{\"attributes\":{},\"id\":\"9361\",\"type\":\"ResetTool\"},{\"attributes\":{\"formatter\":{\"id\":\"9813\"},\"major_label_policy\":{\"id\":\"9814\"},\"ticker\":{\"id\":\"9355\"}},\"id\":\"9354\",\"type\":\"LinearAxis\"},{\"attributes\":{},\"id\":\"9830\",\"type\":\"UnionRenderers\"},{\"attributes\":{\"axis\":{\"id\":\"9350\"},\"ticker\":null},\"id\":\"9353\",\"type\":\"Grid\"},{\"attributes\":{\"data\":{\"end\":[\"perhexiline\",\"sunitinib\",\"crizotinib\",\"nintedanib\",\"NTRK1\",\"ALK\",\"BLK\",\"MAP3K11\",\"CSNK1A1L\",\"NTRK1\",\"ALK|NPM1\",\"ALK\",\"BLK\",\"TAOK2\",\"NTRK1\",\"ALK\",\"BLK\",\"MAP3K11\",\"amitriptyline\",\"sorafenib\",\"ruxolitinib\",\"axitinib\",\"bosutinib\",\"ceritinib\",\"SCN5A\",\"TAOK2\",\"ALK\",\"TAOK2\",\"BLK\",\"ALK|NPM1\",\"ALK\",\"BLK\",\"MAP3K11\",\"CSNK1A1L\",\"TAOK2\",\"ALK\",\"chlorthenoxazine\",\"olaparib\",\"rucaparib\",\"niraparib\",\"PARP10\",\"PARP12\",\"PARP14\",\"PARP15\",\"erlotinib\",\"quercetin\",\"pazopanib\",\"vandetanib\",\"alectinib\",\"BLK\",\"ABCC1\",\"HSD17B2\",\"MMP9\",\"BLK\",\"MAP3K11\",\"TAOK2\",\"BLK\",\"romidepsin\",\"vorinostat\",\"panobinostat\",\"belinostat\",\"amiodarone\",\"aprindine\",\"benzocaine\",\"benzonatate\",\"bepridil\",\"carbamazepine\",\"cocaine\",\"dextropropoxyphene\",\"cinchocaine\",\"hydroquinidine\",\"diprafenone\",\"disopyramide\",\"encainide\",\"etidocaine\",\"flecainide\",\"fosphenytoin\",\"gabapentin\",\"indecainide\",\"lamotrigine\",\"lidocaine\",\"lorcainide\",\"mepivacaine\",\"mexiletine\",\"moracizine\",\"nefopam\",\"orphenadrine\",\"oxcarbazepine\",\"phenytoin\",\"pirmenol\",\"propafenone\",\"quinidine\",\"ranolazine\",\"riluzole\",\"ropivacaine\",\"tetracaine\",\"topiramate\",\"verapamil\",\"SLC7A5\",\"ABCC1\",\"tranylcypromine\",\"dasatinib\",\"gefitinib\",\"imatinib\",\"nilotinib\",\"afatinib\",\"ibrutinib\",\"TAOK2\",\"ABCC1\",\"nicotinamide\",\"suramin\",\"ubenimex\",\"vigabatrin\",\"fluorouracil\",\"anhydrovinblastine\",\"docetaxel\",\"paclitaxel\",\"vinblastine\",\"vincristine\",\"ABCC1\",\"benzbromarone\",\"colchicine\",\"ciclosporin\",\"daunorubicin\",\"doxorubicin\",\"etoposide\",\"etravirine\",\"idarubicin\",\"indomethacin\",\"irinotecan\",\"methotrexate\",\"mezlocillin\",\"mitoxantrone\",\"pimozide\",\"saquinavir\",\"sulfinpyrazone\",\"vinblastine\",\"vincristine\",\"diosmetin\",\"daunorubicinol\",\"ruboxistaurin\",\"acetoxolone\",\"pregabalin\",\"lansoprazole\",\"methylthioninium chloride\",\"tolonium\",\"ivabradine\",\"dronedarone\",\"hydralazine\",\"procainamide\",\"aminoquinuride\",\"beclometasone dipropionate\",\"budesonide\",\"busulfan\",\"cefonicid\",\"cefotetan\",\"cefotiam\",\"cefuroxime\",\"cefalotin\",\"cefradine\",\"chlorhexidine\",\"dacarbazine\",\"econazole\",\"floxacillin\",\"secobarbital\",\"zoledronic acid\",\"prazosin\"],\"start\":[\"CPT2\",\"INSRR\",\"INSRR\",\"INSRR\",\"sunitinib\",\"sunitinib\",\"sunitinib\",\"sunitinib\",\"sunitinib\",\"crizotinib\",\"crizotinib\",\"crizotinib\",\"crizotinib\",\"crizotinib\",\"nintedanib\",\"nintedanib\",\"nintedanib\",\"nintedanib\",\"NTRK1\",\"NTRK1\",\"NTRK1\",\"NTRK1\",\"NTRK1\",\"NTRK1\",\"amitriptyline\",\"sorafenib\",\"ruxolitinib\",\"ruxolitinib\",\"axitinib\",\"bosutinib\",\"bosutinib\",\"bosutinib\",\"bosutinib\",\"bosutinib\",\"bosutinib\",\"ceritinib\",\"PARP1\",\"PARP1\",\"PARP1\",\"PARP1\",\"rucaparib\",\"rucaparib\",\"rucaparib\",\"rucaparib\",\"ALK\",\"ALK\",\"ALK\",\"ALK\",\"ALK\",\"erlotinib\",\"quercetin\",\"quercetin\",\"quercetin\",\"pazopanib\",\"pazopanib\",\"pazopanib\",\"vandetanib\",\"HDAC4\",\"HDAC4\",\"HDAC4\",\"HDAC4\",\"SCN5A\",\"SCN5A\",\"SCN5A\",\"SCN5A\",\"SCN5A\",\"SCN5A\",\"SCN5A\",\"SCN5A\",\"SCN5A\",\"SCN5A\",\"SCN5A\",\"SCN5A\",\"SCN5A\",\"SCN5A\",\"SCN5A\",\"SCN5A\",\"SCN5A\",\"SCN5A\",\"SCN5A\",\"SCN5A\",\"SCN5A\",\"SCN5A\",\"SCN5A\",\"SCN5A\",\"SCN5A\",\"SCN5A\",\"SCN5A\",\"SCN5A\",\"SCN5A\",\"SCN5A\",\"SCN5A\",\"SCN5A\",\"SCN5A\",\"SCN5A\",\"SCN5A\",\"SCN5A\",\"SCN5A\",\"gabapentin\",\"verapamil\",\"KDM1B\",\"BLK\",\"BLK\",\"BLK\",\"BLK\",\"BLK\",\"BLK\",\"dasatinib\",\"imatinib\",\"SIRT1\",\"SIRT1\",\"ANPEP\",\"ABAT\",\"ABCC11\",\"ABCC10\",\"ABCC10\",\"ABCC10\",\"ABCC10\",\"ABCC10\",\"anhydrovinblastine\",\"ABCC1\",\"ABCC1\",\"ABCC1\",\"ABCC1\",\"ABCC1\",\"ABCC1\",\"ABCC1\",\"ABCC1\",\"ABCC1\",\"ABCC1\",\"ABCC1\",\"ABCC1\",\"ABCC1\",\"ABCC1\",\"ABCC1\",\"ABCC1\",\"ABCC1\",\"ABCC1\",\"ABCC1\",\"ABCC1\",\"TAOK2\",\"HSD17B2\",\"SLC7A5\",\"MAPT\",\"MAPT\",\"MAPT\",\"HCN2\",\"HCN2\",\"DNMT3B\",\"DNMT3B\",\"MMP9\",\"MMP9\",\"MMP9\",\"MMP9\",\"MMP9\",\"MMP9\",\"MMP9\",\"MMP9\",\"MMP9\",\"MMP9\",\"MMP9\",\"MMP9\",\"MMP9\",\"MMP9\",\"MMP9\",\"MMP9\",\"MMP9\"]},\"selected\":{\"id\":\"9829\"},\"selection_policy\":{\"id\":\"9828\"}},\"id\":\"9375\",\"type\":\"ColumnDataSource\"},{\"attributes\":{},\"id\":\"9828\",\"type\":\"UnionRenderers\"},{\"attributes\":{},\"id\":\"9822\",\"type\":\"NodesOnly\"},{\"attributes\":{},\"id\":\"9360\",\"type\":\"SaveTool\"},{\"attributes\":{},\"id\":\"9358\",\"type\":\"PanTool\"},{\"attributes\":{},\"id\":\"9817\",\"type\":\"AllLabels\"},{\"attributes\":{},\"id\":\"9829\",\"type\":\"Selection\"},{\"attributes\":{},\"id\":\"9814\",\"type\":\"AllLabels\"},{\"attributes\":{\"source\":{\"id\":\"9375\"}},\"id\":\"9377\",\"type\":\"CDSView\"},{\"attributes\":{\"edge_renderer\":{\"id\":\"9376\"},\"inspection_policy\":{\"id\":\"9827\"},\"layout_provider\":{\"id\":\"9378\"},\"node_renderer\":{\"id\":\"9372\"},\"selection_policy\":{\"id\":\"9822\"}},\"id\":\"9369\",\"type\":\"GraphRenderer\"},{\"attributes\":{\"data_source\":{\"id\":\"9371\"},\"glyph\":{\"id\":\"9379\"},\"hover_glyph\":null,\"muted_glyph\":null,\"view\":{\"id\":\"9373\"}},\"id\":\"9372\",\"type\":\"GlyphRenderer\"},{\"attributes\":{\"formatter\":{\"id\":\"9816\"},\"major_label_policy\":{\"id\":\"9817\"},\"ticker\":{\"id\":\"9351\"}},\"id\":\"9350\",\"type\":\"LinearAxis\"},{\"attributes\":{\"end\":10.1,\"start\":-10.1},\"id\":\"9340\",\"type\":\"Range1d\"},{\"attributes\":{\"line_alpha\":{\"value\":0.5}},\"id\":\"9384\",\"type\":\"MultiLine\"},{\"attributes\":{\"callback\":null,\"tooltips\":[[\"Character\",\"@index\"]]},\"id\":\"9362\",\"type\":\"HoverTool\"},{\"attributes\":{\"graph_layout\":{\"ABAT\":[-9.492736639171861,-1.9100007430241508],\"ABCC1\":[-2.3806069516545785,0.7411167102592646],\"ABCC10\":[-3.875682637731958,1.8863301006132094],\"ABCC11\":[1.548203643412259,-8.594413005812555],\"ALK\":[-0.5303825251503347,-0.4507682522857435],\"ALK|NPM1\":[0.245389780849587,-0.2339792564576891],\"ANPEP\":[-0.5107827865883044,-9.095026019799365],\"BLK\":[-0.9807972829837772,0.12478035257989971],\"CPT2\":[4.179318833057208,8.139354196014327],\"CSNK1A1L\":[-0.0046383946448440745,-0.5027187618331707],\"DNMT3B\":[-2.058973198080371,9.098299527528416],\"HCN2\":[8.9903888893291,-1.4100598129792765],\"HDAC4\":[7.355407300631714,-3.4563066030888745],\"HSD17B2\":[-1.0120104005339665,-2.1552076786076797],\"INSRR\":[-0.27477218391947855,-0.4730655279787739],\"KDM1B\":[-2.173732832512097,9.49179986564721],\"MAP3K11\":[-0.6317126161786801,-0.2620931236736042],\"MAPT\":[-7.681249147942859,-6.206268395832616],\"MMP9\":[1.0015283798830554,-3.1774600745747037],\"NTRK1\":[0.14206918298328836,0.5729815416009176],\"PARP1\":[-1.9331346934117155,-7.512279355881815],\"PARP10\":[-1.2816325606601207,-7.005151495437472],\"PARP12\":[-1.298045439572301,-5.864411892626512],\"PARP14\":[-1.740260467927831,-7.1559874335014095],\"PARP15\":[-1.2828814263273471,-6.3371885066533],\"SCN5A\":[2.1603120689190836,3.37771822197739],\"SIRT1\":[-5.884661616942839,-6.51049061290073],\"SLC7A5\":[1.9022443869921548,5.589507027850205],\"TAOK2\":[-0.2913255322989795,0.5046178689118503],\"acetoxolone\":[-1.2684990549591595,-2.754388188118706],\"afatinib\":[-1.538380310146021,0.187650035287925],\"alectinib\":[-0.8247025873605462,-1.0962313203068381],\"aminoquinuride\":[1.3640069786801647,-3.4515124594857176],\"amiodarone\":[2.393686389091088,4.326534262903305],\"amitriptyline\":[1.1594517821103176,1.9392844323194494],\"anhydrovinblastine\":[-3.292987742988533,1.4308507283208174],\"aprindine\":[2.520855844907502,3.700804559058551],\"axitinib\":[-0.47262644197153814,0.6116071344861137],\"beclometasone dipropionate\":[0.9034697585797963,-3.66539144912887],\"belinostat\":[7.160341949888511,-3.727347107101976],\"benzbromarone\":[-3.1652628299477343,0.2515750247073998],\"benzocaine\":[2.888524001649779,3.2149406421853155],\"benzonatate\":[1.7978984483534848,2.9753656953662815],\"bepridil\":[1.5037883273511423,3.418151209071294],\"bosutinib\":[-0.3031159015258563,0.021593857163839405],\"budesonide\":[0.6101861816611136,-3.3955034165393636],\"busulfan\":[1.4852037319108757,-3.752856472187387],\"carbamazepine\":[1.7807391007196955,3.620109429682108],\"cefalotin\":[0.726224525754782,-3.8879451279456023],\"cefonicid\":[0.5639556269923068,-3.678504038165508],\"cefotetan\":[1.2049056397199915,-3.7232945114519302],\"cefotiam\":[1.7929902095232872,-3.566544488157949],\"cefradine\":[1.6898315751903652,-3.7794601766666123],\"cefuroxime\":[1.6982985311406145,-3.1319906705009175],\"ceritinib\":[0.10413532308782025,-0.07444007195140878],\"chlorhexidine\":[0.9467651950259465,-3.9823055252028516],\"chlorthenoxazine\":[-2.363335897156934,-7.924020629857321],\"ciclosporin\":[-3.093392864630439,0.504190332842377],\"cinchocaine\":[2.2266852682327274,2.691579809786617],\"cocaine\":[1.5481581008378638,3.8924805281603754],\"colchicine\":[-3.1518819236938107,0.7917730372884867],\"crizotinib\":[-0.21772751885104927,0.0035642249392324205],\"dacarbazine\":[1.1691945374504433,-4.00164914953054],\"dasatinib\":[-0.7859536202976731,0.6281792971211508],\"daunorubicin\":[-2.663743370279477,1.1184857850963246],\"daunorubicinol\":[-3.0145264995578267,1.146157912152435],\"dextropropoxyphene\":[1.6564970062870676,3.2113087546463572],\"diosmetin\":[-3.266397599063256,0.9679145419593882],\"diprafenone\":[2.799961737909416,4.133030725027947],\"disopyramide\":[2.5724305657258686,2.685886072959403],\"docetaxel\":[-4.566932171970482,2.1930167748100056],\"doxorubicin\":[-2.418491858607916,1.4939119626829838],\"dronedarone\":[9.582279598055566,-1.47366184305353],\"econazole\":[1.333667257433548,-2.950973615574285],\"encainide\":[2.265117931102438,3.886319027530488],\"erlotinib\":[-1.0527507308474515,-0.558634072862514],\"etidocaine\":[2.0784202702221144,4.078068627255407],\"etoposide\":[-2.8479918616366553,0.6269537296633854],\"etravirine\":[-3.309299554656188,0.4411661028566147],\"flecainide\":[1.889838599241115,3.877407965199395],\"floxacillin\":[1.3958418476424523,-3.9749857237057857],\"fluorouracil\":[1.3465241848898803,-8.035944496682793],\"fosphenytoin\":[2.757704189860704,2.957723599510007],\"gabapentin\":[2.0058875548578174,4.649409293695308],\"gefitinib\":[-1.404780056918144,0.48026189912411243],\"hydralazine\":[-1.70891539569652,9.469468739567288],\"hydroquinidine\":[1.6682773083564746,4.078150596282525],\"ibrutinib\":[-1.5514819712593861,-0.30168812067981665],\"idarubicin\":[-3.3360803512629498,0.6741416226892587],\"imatinib\":[-1.8017635785387462,0.4000668141459753],\"indecainide\":[3.1246846087217772,3.2039940772968563],\"indomethacin\":[-2.8173151471777387,1.3408014759841167],\"irinotecan\":[-2.785180157705554,0.0198550882715907],\"ivabradine\":[8.285273811363048,-1.3374479447382643],\"lamotrigine\":[2.8146866172777805,3.762210915757202],\"lansoprazole\":[-7.197651120955041,-5.8294237729350895],\"lidocaine\":[2.5527091850113295,3.121485955312335],\"lorcainide\":[2.0638334432557905,2.926632854030203],\"mepivacaine\":[3.125149083129405,3.409881027299924],\"methotrexate\":[-2.999891857266314,0.11619859930269277],\"methylthioninium chloride\":[-7.760602592195247,-6.596877294078199],\"mexiletine\":[2.9422205674859865,3.9921657622717595],\"mezlocillin\":[-2.586208568453983,0.18151526090230174],\"mitoxantrone\":[-2.8370552613679587,0.336799013296864],\"moracizine\":[2.8377439201946517,2.7732826501476633],\"nefopam\":[3.0174262976262667,2.9925595103114673],\"nicotinamide\":[-5.523117995066761,-6.472911657317764],\"nilotinib\":[-1.2246077707178327,0.7102630955745494],\"nintedanib\":[-0.46313280570239423,-0.002198509911399463],\"niraparib\":[-1.9024123570594627,-8.133040905007503],\"olaparib\":[-2.175122371812344,-8.129178913913112],\"orphenadrine\":[2.1363088033434834,4.294371449941329],\"oxcarbazepine\":[1.8608331593749188,4.1890733379634],\"paclitaxel\":[-4.3843721638893545,2.4267438371938392],\"panobinostat\":[7.946952675005138,-3.573489424472872],\"pazopanib\":[-0.7001577846795259,0.03146737255759171],\"perhexiline\":[3.9115388995442175,7.638218156638811],\"phenytoin\":[2.62684830499654,3.9563307765654896],\"pimozide\":[-2.329546300123523,1.2772946337911981],\"pirmenol\":[2.9013198431704126,3.5249273441913775],\"prazosin\":[1.6115376606274212,-3.4132325745503818],\"pregabalin\":[1.8447914049442227,6.257920693446254],\"procainamide\":[-2.4734017419494103,9.535577872688542],\"propafenone\":[2.4105610961856168,2.8757733026869863],\"quercetin\":[-0.7260104515720877,-1.3067084941244231],\"quinidine\":[3.0592773882214717,3.8211161803193296],\"ranolazine\":[2.6634128069935152,3.4016485720205356],\"riluzole\":[3.129877356474683,3.6213722665952015],\"romidepsin\":[6.6058738930504735,-3.032132198587571],\"ropivacaine\":[2.6199875077138914,4.241702414297352],\"ruboxistaurin\":[-0.23616108996624777,1.1359607909905003],\"rucaparib\":[-1.5301915721446309,-6.652115967611973],\"ruxolitinib\":[-0.05777772456218226,0.1611068757730747],\"saquinavir\":[-2.6581158157889724,1.5015163832226346],\"secobarbital\":[1.6057996567516348,-2.925237413385364],\"sorafenib\":[0.19117948963114315,0.8493568307672514],\"sulfinpyrazone\":[-2.9220704777223756,0.9183894850388549],\"sunitinib\":[-0.3362562711117344,-0.15453557969685372],\"suramin\":[-5.912666090905168,-6.145434305329773],\"tetracaine\":[1.4848637857009686,3.6696089812385124],\"tolonium\":[-8.032369499422476,-6.148916680375108],\"topiramate\":[2.396329249186606,4.115245720389894],\"tranylcypromine\":[-1.9238545752601388,9.447342437793429],\"ubenimex\":[-0.5466381639693507,-8.462865563250439],\"vandetanib\":[-1.0648688260673251,-0.38999469198194353],\"verapamil\":[-0.12666324855252672,2.0888965717427372],\"vigabatrin\":[-10.0,-1.9710470823303703],\"vinblastine\":[-3.1954041298801803,1.5496414148953226],\"vincristine\":[-3.399017888848085,1.3146215203059233],\"vorinostat\":[7.83563173554319,-3.8559266667689687],\"zoledronic acid\":[1.8456230539273377,-3.303595841167815]}},\"id\":\"9378\",\"type\":\"StaticLayoutProvider\"}],\"root_ids\":[\"9341\"]},\"title\":\"Bokeh Application\",\"version\":\"2.3.2\"}};\n",
       "  var render_items = [{\"docid\":\"882829a3-e9b8-4a76-859e-b32c8270ebcf\",\"root_ids\":[\"9341\"],\"roots\":{\"9341\":\"a68637af-87d9-4fa3-83d0-96b836ad2578\"}}];\n",
       "  root.Bokeh.embed.embed_items_notebook(docs_json, render_items);\n",
       "\n",
       "  }\n",
       "  if (root.Bokeh !== undefined) {\n",
       "    embed_document(root);\n",
       "  } else {\n",
       "    var attempts = 0;\n",
       "    var timer = setInterval(function(root) {\n",
       "      if (root.Bokeh !== undefined) {\n",
       "        clearInterval(timer);\n",
       "        embed_document(root);\n",
       "      } else {\n",
       "        attempts++;\n",
       "        if (attempts > 100) {\n",
       "          clearInterval(timer);\n",
       "          console.log(\"Bokeh: ERROR: Unable to run BokehJS code because BokehJS library is missing\");\n",
       "        }\n",
       "      }\n",
       "    }, 10, root)\n",
       "  }\n",
       "})(window);"
      ],
      "application/vnd.bokehjs_exec.v0+json": ""
     },
     "metadata": {
      "application/vnd.bokehjs_exec.v0+json": {
       "id": "9341"
      }
     },
     "output_type": "display_data"
    }
   ],
   "source": [
    "#Choose a title!\n",
    "title = 'Drug-Gene Interaction'\n",
    "\n",
    "#Establish which categories will appear when hovering over each node\n",
    "HOVER_TOOLTIPS = [(\"Character\", \"@index\")]\n",
    "\n",
    "#Create a plot — set dimensions, toolbar, and title\n",
    "plot = figure(tooltips = HOVER_TOOLTIPS,\n",
    "              tools=\"pan,wheel_zoom,save,reset\", active_scroll='wheel_zoom',\n",
    "            x_range=Range1d(-10.1, 10.1), y_range=Range1d(-10.1, 10.1), title=title) #plot_width=1500, plot_height=1500 크기조절\n",
    "\n",
    "#Create a network graph object with spring layout\n",
    "network_graph = from_networkx(G, networkx.spring_layout, scale=10, center=(0, 0))\n",
    "\n",
    "#Set node size and color\n",
    "network_graph.node_renderer.glyph = Circle(size=15, fill_color='skyblue')\n",
    "\n",
    "#Set edge opacity and width\n",
    "network_graph.edge_renderer.glyph = MultiLine(line_alpha=0.5, line_width=1)\n",
    "\n",
    "#Add network graph to the plot\n",
    "plot.renderers.append(network_graph)\n",
    "\n",
    "show(plot)\n",
    "#save(plot, filename=f\"{title}.html\")"
   ]
  },
  {
   "cell_type": "markdown",
   "id": "6ba49912-b7b3-46f5-bf5a-9c5b8d12effb",
   "metadata": {},
   "source": [
    "## Network with Nodes Sized and Colored By Attribute (Degree)"
   ]
  },
  {
   "cell_type": "code",
   "execution_count": 143,
   "id": "da52ed0f-2427-4891-87b9-b99a2cd6bf05",
   "metadata": {},
   "outputs": [],
   "source": [
    "from bokeh.io import output_notebook, show, save\n",
    "from bokeh.models import Range1d, Circle, ColumnDataSource, MultiLine\n",
    "from bokeh.plotting import figure\n",
    "from bokeh.plotting import from_networkx\n",
    "from bokeh.palettes import Blues8, Reds8, Purples8, Oranges8, Viridis8, Spectral8\n",
    "from bokeh.transform import linear_cmap"
   ]
  },
  {
   "cell_type": "code",
   "execution_count": 144,
   "id": "ca1f50fa-8c40-4262-ad7a-45d2157fecd7",
   "metadata": {},
   "outputs": [],
   "source": [
    "degrees = dict(networkx.degree(G))\n",
    "networkx.set_node_attributes(G, name='degree', values=degrees)"
   ]
  },
  {
   "cell_type": "code",
   "execution_count": 145,
   "id": "6a80f98a-df80-4a7a-b052-1d557de7632e",
   "metadata": {},
   "outputs": [],
   "source": [
    "number_to_adjust_by = 5\n",
    "adjusted_node_size = dict([(node, degree+number_to_adjust_by) for node, degree in networkx.degree(G)])\n",
    "networkx.set_node_attributes(G, name='adjusted_node_size', values=adjusted_node_size)"
   ]
  },
  {
   "cell_type": "code",
   "execution_count": 147,
   "id": "f1f72a54-61e8-4a4d-a6a0-2728234257c3",
   "metadata": {},
   "outputs": [
    {
     "data": {
      "text/html": [
       "\n",
       "\n",
       "\n",
       "\n",
       "\n",
       "\n",
       "  <div class=\"bk-root\" id=\"987ddf48-f566-4c75-ba98-6e3986187ca2\" data-root-id=\"10679\"></div>\n"
      ]
     },
     "metadata": {},
     "output_type": "display_data"
    },
    {
     "data": {
      "application/javascript": [
       "(function(root) {\n",
       "  function embed_document(root) {\n",
       "    \n",
       "  var docs_json = {\"e6dd9624-86c2-4487-89ff-52b11378988d\":{\"defs\":[],\"roots\":{\"references\":[{\"attributes\":{\"below\":[{\"id\":\"10688\"}],\"center\":[{\"id\":\"10691\"},{\"id\":\"10695\"}],\"left\":[{\"id\":\"10692\"}],\"renderers\":[{\"id\":\"10707\"}],\"title\":{\"id\":\"10680\"},\"toolbar\":{\"id\":\"10701\"},\"x_range\":{\"id\":\"10677\"},\"x_scale\":{\"id\":\"10684\"},\"y_range\":{\"id\":\"10678\"},\"y_scale\":{\"id\":\"10686\"}},\"id\":\"10679\",\"subtype\":\"Figure\",\"type\":\"Plot\"},{\"attributes\":{},\"id\":\"11217\",\"type\":\"UnionRenderers\"},{\"attributes\":{\"line_alpha\":{\"value\":0.5}},\"id\":\"10731\",\"type\":\"MultiLine\"},{\"attributes\":{},\"id\":\"10696\",\"type\":\"PanTool\"},{\"attributes\":{\"data\":{\"adjusted_node_size\":[6,6,8,11,11,10,14,7,7,8,7,12,7,9,6,6,10,6,6,6,6,6,16,7,9,9,7,7,6,9,6,6,6,6,43,6,6,6,6,6,6,6,6,6,6,6,6,6,6,6,6,7,6,6,6,6,6,6,6,6,6,6,6,6,6,6,6,6,6,6,6,7,6,6,19,7,6,7,6,6,6,7,6,6,9,7,6,6,6,6,6,6,10,7,29,6,6,6,6,6,6,6,6,6,6,6,6,6,6,6,6,6,6,7,7,6,6,12,6,7,6,7,6,8,6,6,6,7,6,6,7,6,6,23,6,6,6,6,6,6,6,6,6,6,6,6,6,6,6,6,6],\"degree\":[1,1,3,6,6,5,9,2,2,3,2,7,2,4,1,1,5,1,1,1,1,1,11,2,4,4,2,2,1,4,1,1,1,1,38,1,1,1,1,1,1,1,1,1,1,1,1,1,1,1,1,2,1,1,1,1,1,1,1,1,1,1,1,1,1,1,1,1,1,1,1,2,1,1,14,2,1,2,1,1,1,2,1,1,4,2,1,1,1,1,1,1,5,2,24,1,1,1,1,1,1,1,1,1,1,1,1,1,1,1,1,1,1,2,2,1,1,7,1,2,1,2,1,3,1,1,1,2,1,1,2,1,1,18,1,1,1,1,1,1,1,1,1,1,1,1,1,1,1,1,1],\"index\":[\"CPT2\",\"perhexiline\",\"INSRR\",\"sunitinib\",\"crizotinib\",\"nintedanib\",\"NTRK1\",\"amitriptyline\",\"sorafenib\",\"ruxolitinib\",\"axitinib\",\"bosutinib\",\"ceritinib\",\"PARP1\",\"chlorthenoxazine\",\"olaparib\",\"rucaparib\",\"PARP10\",\"PARP12\",\"PARP14\",\"PARP15\",\"niraparib\",\"ALK\",\"erlotinib\",\"quercetin\",\"pazopanib\",\"vandetanib\",\"ALK|NPM1\",\"alectinib\",\"HDAC4\",\"romidepsin\",\"vorinostat\",\"panobinostat\",\"belinostat\",\"SCN5A\",\"amiodarone\",\"aprindine\",\"benzocaine\",\"benzonatate\",\"bepridil\",\"carbamazepine\",\"cocaine\",\"dextropropoxyphene\",\"cinchocaine\",\"hydroquinidine\",\"diprafenone\",\"disopyramide\",\"encainide\",\"etidocaine\",\"flecainide\",\"fosphenytoin\",\"gabapentin\",\"indecainide\",\"lamotrigine\",\"lidocaine\",\"lorcainide\",\"mepivacaine\",\"mexiletine\",\"moracizine\",\"nefopam\",\"orphenadrine\",\"oxcarbazepine\",\"phenytoin\",\"pirmenol\",\"propafenone\",\"quinidine\",\"ranolazine\",\"riluzole\",\"ropivacaine\",\"tetracaine\",\"topiramate\",\"verapamil\",\"KDM1B\",\"tranylcypromine\",\"BLK\",\"dasatinib\",\"gefitinib\",\"imatinib\",\"nilotinib\",\"afatinib\",\"ibrutinib\",\"SIRT1\",\"nicotinamide\",\"suramin\",\"MAP3K11\",\"CSNK1A1L\",\"ANPEP\",\"ubenimex\",\"ABAT\",\"vigabatrin\",\"ABCC11\",\"fluorouracil\",\"ABCC10\",\"anhydrovinblastine\",\"ABCC1\",\"benzbromarone\",\"colchicine\",\"ciclosporin\",\"daunorubicin\",\"docetaxel\",\"doxorubicin\",\"etoposide\",\"etravirine\",\"idarubicin\",\"indomethacin\",\"irinotecan\",\"methotrexate\",\"mezlocillin\",\"mitoxantrone\",\"paclitaxel\",\"pimozide\",\"saquinavir\",\"sulfinpyrazone\",\"vinblastine\",\"vincristine\",\"diosmetin\",\"daunorubicinol\",\"TAOK2\",\"ruboxistaurin\",\"HSD17B2\",\"acetoxolone\",\"SLC7A5\",\"pregabalin\",\"MAPT\",\"lansoprazole\",\"methylthioninium chloride\",\"tolonium\",\"HCN2\",\"ivabradine\",\"dronedarone\",\"DNMT3B\",\"hydralazine\",\"procainamide\",\"MMP9\",\"aminoquinuride\",\"beclometasone dipropionate\",\"budesonide\",\"busulfan\",\"cefonicid\",\"cefotetan\",\"cefotiam\",\"cefuroxime\",\"cefalotin\",\"cefradine\",\"chlorhexidine\",\"dacarbazine\",\"econazole\",\"floxacillin\",\"secobarbital\",\"zoledronic acid\",\"prazosin\"]},\"selected\":{\"id\":\"11220\"},\"selection_policy\":{\"id\":\"11219\"}},\"id\":\"10709\",\"type\":\"ColumnDataSource\"},{\"attributes\":{\"text\":\"Drug-Gene Interaction\"},\"id\":\"10680\",\"type\":\"Title\"},{\"attributes\":{},\"id\":\"10698\",\"type\":\"SaveTool\"},{\"attributes\":{},\"id\":\"10699\",\"type\":\"ResetTool\"},{\"attributes\":{},\"id\":\"10697\",\"type\":\"WheelZoomTool\"},{\"attributes\":{\"data_source\":{\"id\":\"10709\"},\"glyph\":{\"id\":\"10726\"},\"hover_glyph\":null,\"muted_glyph\":null,\"view\":{\"id\":\"10711\"}},\"id\":\"10710\",\"type\":\"GlyphRenderer\"},{\"attributes\":{\"callback\":null,\"tooltips\":[[\"Character\",\"@index\"],[\"Degree\",\"@degree\"]]},\"id\":\"10700\",\"type\":\"HoverTool\"},{\"attributes\":{\"axis\":{\"id\":\"10692\"},\"dimension\":1,\"ticker\":null},\"id\":\"10695\",\"type\":\"Grid\"},{\"attributes\":{},\"id\":\"10693\",\"type\":\"BasicTicker\"},{\"attributes\":{},\"id\":\"11219\",\"type\":\"UnionRenderers\"},{\"attributes\":{\"formatter\":{\"id\":\"11205\"},\"major_label_policy\":{\"id\":\"11206\"},\"ticker\":{\"id\":\"10689\"}},\"id\":\"10688\",\"type\":\"LinearAxis\"},{\"attributes\":{},\"id\":\"11220\",\"type\":\"Selection\"},{\"attributes\":{},\"id\":\"10686\",\"type\":\"LinearScale\"},{\"attributes\":{\"active_multi\":null,\"active_scroll\":{\"id\":\"10697\"},\"tools\":[{\"id\":\"10696\"},{\"id\":\"10697\"},{\"id\":\"10698\"},{\"id\":\"10699\"},{\"id\":\"10700\"}]},\"id\":\"10701\",\"type\":\"Toolbar\"},{\"attributes\":{\"data\":{\"end\":[\"perhexiline\",\"sunitinib\",\"crizotinib\",\"nintedanib\",\"NTRK1\",\"ALK\",\"BLK\",\"MAP3K11\",\"CSNK1A1L\",\"NTRK1\",\"ALK|NPM1\",\"ALK\",\"BLK\",\"TAOK2\",\"NTRK1\",\"ALK\",\"BLK\",\"MAP3K11\",\"amitriptyline\",\"sorafenib\",\"ruxolitinib\",\"axitinib\",\"bosutinib\",\"ceritinib\",\"SCN5A\",\"TAOK2\",\"ALK\",\"TAOK2\",\"BLK\",\"ALK|NPM1\",\"ALK\",\"BLK\",\"MAP3K11\",\"CSNK1A1L\",\"TAOK2\",\"ALK\",\"chlorthenoxazine\",\"olaparib\",\"rucaparib\",\"niraparib\",\"PARP10\",\"PARP12\",\"PARP14\",\"PARP15\",\"erlotinib\",\"quercetin\",\"pazopanib\",\"vandetanib\",\"alectinib\",\"BLK\",\"ABCC1\",\"HSD17B2\",\"MMP9\",\"BLK\",\"MAP3K11\",\"TAOK2\",\"BLK\",\"romidepsin\",\"vorinostat\",\"panobinostat\",\"belinostat\",\"amiodarone\",\"aprindine\",\"benzocaine\",\"benzonatate\",\"bepridil\",\"carbamazepine\",\"cocaine\",\"dextropropoxyphene\",\"cinchocaine\",\"hydroquinidine\",\"diprafenone\",\"disopyramide\",\"encainide\",\"etidocaine\",\"flecainide\",\"fosphenytoin\",\"gabapentin\",\"indecainide\",\"lamotrigine\",\"lidocaine\",\"lorcainide\",\"mepivacaine\",\"mexiletine\",\"moracizine\",\"nefopam\",\"orphenadrine\",\"oxcarbazepine\",\"phenytoin\",\"pirmenol\",\"propafenone\",\"quinidine\",\"ranolazine\",\"riluzole\",\"ropivacaine\",\"tetracaine\",\"topiramate\",\"verapamil\",\"SLC7A5\",\"ABCC1\",\"tranylcypromine\",\"dasatinib\",\"gefitinib\",\"imatinib\",\"nilotinib\",\"afatinib\",\"ibrutinib\",\"TAOK2\",\"ABCC1\",\"nicotinamide\",\"suramin\",\"ubenimex\",\"vigabatrin\",\"fluorouracil\",\"anhydrovinblastine\",\"docetaxel\",\"paclitaxel\",\"vinblastine\",\"vincristine\",\"ABCC1\",\"benzbromarone\",\"colchicine\",\"ciclosporin\",\"daunorubicin\",\"doxorubicin\",\"etoposide\",\"etravirine\",\"idarubicin\",\"indomethacin\",\"irinotecan\",\"methotrexate\",\"mezlocillin\",\"mitoxantrone\",\"pimozide\",\"saquinavir\",\"sulfinpyrazone\",\"vinblastine\",\"vincristine\",\"diosmetin\",\"daunorubicinol\",\"ruboxistaurin\",\"acetoxolone\",\"pregabalin\",\"lansoprazole\",\"methylthioninium chloride\",\"tolonium\",\"ivabradine\",\"dronedarone\",\"hydralazine\",\"procainamide\",\"aminoquinuride\",\"beclometasone dipropionate\",\"budesonide\",\"busulfan\",\"cefonicid\",\"cefotetan\",\"cefotiam\",\"cefuroxime\",\"cefalotin\",\"cefradine\",\"chlorhexidine\",\"dacarbazine\",\"econazole\",\"floxacillin\",\"secobarbital\",\"zoledronic acid\",\"prazosin\"],\"start\":[\"CPT2\",\"INSRR\",\"INSRR\",\"INSRR\",\"sunitinib\",\"sunitinib\",\"sunitinib\",\"sunitinib\",\"sunitinib\",\"crizotinib\",\"crizotinib\",\"crizotinib\",\"crizotinib\",\"crizotinib\",\"nintedanib\",\"nintedanib\",\"nintedanib\",\"nintedanib\",\"NTRK1\",\"NTRK1\",\"NTRK1\",\"NTRK1\",\"NTRK1\",\"NTRK1\",\"amitriptyline\",\"sorafenib\",\"ruxolitinib\",\"ruxolitinib\",\"axitinib\",\"bosutinib\",\"bosutinib\",\"bosutinib\",\"bosutinib\",\"bosutinib\",\"bosutinib\",\"ceritinib\",\"PARP1\",\"PARP1\",\"PARP1\",\"PARP1\",\"rucaparib\",\"rucaparib\",\"rucaparib\",\"rucaparib\",\"ALK\",\"ALK\",\"ALK\",\"ALK\",\"ALK\",\"erlotinib\",\"quercetin\",\"quercetin\",\"quercetin\",\"pazopanib\",\"pazopanib\",\"pazopanib\",\"vandetanib\",\"HDAC4\",\"HDAC4\",\"HDAC4\",\"HDAC4\",\"SCN5A\",\"SCN5A\",\"SCN5A\",\"SCN5A\",\"SCN5A\",\"SCN5A\",\"SCN5A\",\"SCN5A\",\"SCN5A\",\"SCN5A\",\"SCN5A\",\"SCN5A\",\"SCN5A\",\"SCN5A\",\"SCN5A\",\"SCN5A\",\"SCN5A\",\"SCN5A\",\"SCN5A\",\"SCN5A\",\"SCN5A\",\"SCN5A\",\"SCN5A\",\"SCN5A\",\"SCN5A\",\"SCN5A\",\"SCN5A\",\"SCN5A\",\"SCN5A\",\"SCN5A\",\"SCN5A\",\"SCN5A\",\"SCN5A\",\"SCN5A\",\"SCN5A\",\"SCN5A\",\"SCN5A\",\"gabapentin\",\"verapamil\",\"KDM1B\",\"BLK\",\"BLK\",\"BLK\",\"BLK\",\"BLK\",\"BLK\",\"dasatinib\",\"imatinib\",\"SIRT1\",\"SIRT1\",\"ANPEP\",\"ABAT\",\"ABCC11\",\"ABCC10\",\"ABCC10\",\"ABCC10\",\"ABCC10\",\"ABCC10\",\"anhydrovinblastine\",\"ABCC1\",\"ABCC1\",\"ABCC1\",\"ABCC1\",\"ABCC1\",\"ABCC1\",\"ABCC1\",\"ABCC1\",\"ABCC1\",\"ABCC1\",\"ABCC1\",\"ABCC1\",\"ABCC1\",\"ABCC1\",\"ABCC1\",\"ABCC1\",\"ABCC1\",\"ABCC1\",\"ABCC1\",\"ABCC1\",\"TAOK2\",\"HSD17B2\",\"SLC7A5\",\"MAPT\",\"MAPT\",\"MAPT\",\"HCN2\",\"HCN2\",\"DNMT3B\",\"DNMT3B\",\"MMP9\",\"MMP9\",\"MMP9\",\"MMP9\",\"MMP9\",\"MMP9\",\"MMP9\",\"MMP9\",\"MMP9\",\"MMP9\",\"MMP9\",\"MMP9\",\"MMP9\",\"MMP9\",\"MMP9\",\"MMP9\",\"MMP9\"]},\"selected\":{\"id\":\"11218\"},\"selection_policy\":{\"id\":\"11217\"}},\"id\":\"10713\",\"type\":\"ColumnDataSource\"},{\"attributes\":{\"axis\":{\"id\":\"10688\"},\"ticker\":null},\"id\":\"10691\",\"type\":\"Grid\"},{\"attributes\":{\"source\":{\"id\":\"10709\"}},\"id\":\"10711\",\"type\":\"CDSView\"},{\"attributes\":{},\"id\":\"11218\",\"type\":\"Selection\"},{\"attributes\":{\"data_source\":{\"id\":\"10713\"},\"glyph\":{\"id\":\"10731\"},\"hover_glyph\":null,\"muted_glyph\":null,\"view\":{\"id\":\"10715\"}},\"id\":\"10714\",\"type\":\"GlyphRenderer\"},{\"attributes\":{\"formatter\":{\"id\":\"11202\"},\"major_label_policy\":{\"id\":\"11203\"},\"ticker\":{\"id\":\"10693\"}},\"id\":\"10692\",\"type\":\"LinearAxis\"},{\"attributes\":{\"source\":{\"id\":\"10713\"}},\"id\":\"10715\",\"type\":\"CDSView\"},{\"attributes\":{\"graph_layout\":{\"ABAT\":[-5.4135707489911935,-7.141874891762253],\"ABCC1\":[-2.6489663655714493,0.8593847830440159],\"ABCC10\":[-4.56341953589913,1.0832005896566208],\"ABCC11\":[-3.5916832892399824,-9.03812957912827],\"ALK\":[-0.5268469713167416,0.48495819496858455],\"ALK|NPM1\":[-0.5776739473084094,-0.635025541512685],\"ANPEP\":[-9.57694960832247,-2.5790581862972304],\"BLK\":[-1.262512421779708,0.11961403875900627],\"CPT2\":[9.468840466811564,-2.978256750914145],\"CSNK1A1L\":[-0.8948070006517379,-0.6165000256396794],\"DNMT3B\":[7.954074467139015,3.35485327415672],\"HCN2\":[0.4759498758486666,-9.408342633750324],\"HDAC4\":[8.100032106520795,0.499883489729769],\"HSD17B2\":[-0.651547097112922,2.732696355853405],\"INSRR\":[-0.2377681080384872,-0.07977319303237279],\"KDM1B\":[8.420505200510952,-1.6030894697836502],\"MAP3K11\":[-0.640907972079815,0.2119252862032167],\"MAPT\":[0.2264943706757994,8.065880001709393],\"MMP9\":[1.3956423587830993,3.340546405148445],\"NTRK1\":[-0.3718413906375338,-0.7390499359954714],\"PARP1\":[-0.11117844328411987,7.754008148057764],\"PARP10\":[0.8036394121902056,6.843773911068168],\"PARP12\":[0.8652821554499085,8.151063758982932],\"PARP14\":[1.1823954991743972,7.620301861391852],\"PARP15\":[1.1065111833726196,8.027997235559942],\"SCN5A\":[0.6873115667947547,-3.6458766715018305],\"SIRT1\":[-5.401373572760264,6.914492038578717],\"SLC7A5\":[-0.5794625222058952,-5.413925601117146],\"TAOK2\":[-1.0975531499792548,-0.5489230636274698],\"acetoxolone\":[-0.7684244471217723,3.328527484136557],\"afatinib\":[-1.8757206849949084,-0.014824988986658424],\"alectinib\":[-0.040369272142992046,0.9388785258721866],\"aminoquinuride\":[1.8824390404974678,3.0132875446251237],\"amiodarone\":[0.5531932550533292,-4.581893049411562],\"amitriptyline\":[0.16378971277027468,-2.19194636072245],\"anhydrovinblastine\":[-3.831516694716807,1.1381724141818876],\"aprindine\":[0.41222151589587336,-3.205418610120656],\"axitinib\":[-0.9468049401182738,-0.4320695166735444],\"beclometasone dipropionate\":[1.2868043567532912,3.8415853292881477],\"belinostat\":[8.471010068710868,0.8224608788054381],\"benzbromarone\":[-2.825987674466431,1.724655210165747],\"benzocaine\":[0.9819589611490238,-4.5710113770301195],\"benzonatate\":[1.271114370596369,-4.062572698458998],\"bepridil\":[1.355473408535142,-3.2191006791293946],\"bosutinib\":[-0.8068811304811747,-0.21595564853684557],\"budesonide\":[2.0773610650384295,3.8972411057909793],\"busulfan\":[1.0000738322655196,3.6361941464368357],\"carbamazepine\":[1.0229943425151165,-4.297627849998602],\"cefalotin\":[1.5911356569707025,3.706399937907368],\"cefonicid\":[1.6093582456901832,2.993855722137758],\"cefotetan\":[1.9207720032179822,3.7212920841915946],\"cefotiam\":[1.0609246150681244,3.952186466839124],\"cefradine\":[1.8834210923961452,4.052346843942297],\"cefuroxime\":[2.120015323622251,3.1042599256644485],\"ceritinib\":[-0.037500898551705485,-0.08679225445036902],\"chlorhexidine\":[2.1825414219429686,3.6763110746378547],\"chlorthenoxazine\":[-0.23669205910428676,8.412189943629162],\"ciclosporin\":[-3.1316372779349027,1.3675550007205326],\"cinchocaine\":[0.13834782379324279,-3.9674781991855785],\"cocaine\":[1.609989100354856,-3.5842087397653932],\"colchicine\":[-3.3500295879421365,0.83490373393773],\"crizotinib\":[-0.6661715714257344,-0.23957039192610988],\"dacarbazine\":[1.679899019278661,3.9478783623408304],\"dasatinib\":[-1.5286749572870084,-0.40799304595831154],\"daunorubicin\":[-3.065142410770623,0.6077262286057814],\"daunorubicinol\":[-3.3454430091687906,1.220798404450348],\"dextropropoxyphene\":[1.0638973662836966,-3.3879217378351103],\"diosmetin\":[-3.0283679653752364,1.6361141795902368],\"diprafenone\":[0.991057987655907,-4.031098623642758],\"disopyramide\":[1.359207746137189,-3.511631864898615],\"docetaxel\":[-5.335412532063529,1.0530296447218848],\"doxorubicin\":[-3.415193015377827,1.427031260703613],\"dronedarone\":[0.41746738028614516,-8.633308770586893],\"econazole\":[1.5844684810995098,4.146355840652261],\"encainide\":[1.4436478437353142,-4.315168732003267],\"erlotinib\":[-0.8550608462506614,0.6746164693817217],\"etidocaine\":[0.9179738613866016,-3.069224987826582],\"etoposide\":[-2.545621365624458,1.6362223396334223],\"etravirine\":[-2.450121414534158,1.3835715629628735],\"flecainide\":[0.25859554896557235,-3.670532284456146],\"floxacillin\":[2.2407021954991424,3.4552710491046583],\"fluorouracil\":[-3.5507859175691165,-9.322259286946332],\"fosphenytoin\":[1.6563882898765239,-3.800345698356451],\"gabapentin\":[-0.03646882991624313,-4.672997058301605],\"gefitinib\":[-1.8657646202949343,-0.27501261488128576],\"hydralazine\":[7.347666610066652,3.056662409151622],\"hydroquinidine\":[1.389010262936499,-3.7872489430603027],\"ibrutinib\":[-1.7453390599845153,0.29143680567263447],\"idarubicin\":[-2.877778964107908,1.2757042972991783],\"imatinib\":[-2.03782741034381,0.5398968397675356],\"indecainide\":[0.3362837982728121,-4.500289391738867],\"indomethacin\":[-3.1002504688642345,1.005852124528398],\"irinotecan\":[-2.9708065157614003,0.32104777393909045],\"ivabradine\":[0.5224397002823857,-10.0],\"lamotrigine\":[0.3824165405915815,-4.0659032994817474],\"lansoprazole\":[0.145364195886,8.734981245813234],\"lidocaine\":[0.6793141303699817,-3.155650311767564],\"lorcainide\":[0.18967459819647117,-4.30339954035685],\"mepivacaine\":[0.16177701535906522,-3.376013779570956],\"methotrexate\":[-3.404906663812833,0.4426660515025883],\"methylthioninium chloride\":[0.4193227162099101,8.708451164207704],\"mexiletine\":[0.7151893086895257,-4.155640749059538],\"mezlocillin\":[-3.3531285216459836,0.6270413288787992],\"mitoxantrone\":[-3.4382192422901143,1.0312336398124273],\"moracizine\":[0.48716669248898853,-4.307912629643934],\"nefopam\":[1.1318559176611387,-3.7240530534815623],\"nicotinamide\":[-5.125680955000101,7.064899158190953],\"nilotinib\":[-1.4867473825876059,0.6874749927040009],\"nintedanib\":[-0.5130530209132774,0.004654490212924801],\"niraparib\":[-0.4468910332251347,8.232654312828389],\"olaparib\":[-0.5978003533168339,8.022039523366384],\"orphenadrine\":[0.7742372893767805,-4.635549414984646],\"oxcarbazepine\":[1.55017914739618,-3.959298729942216],\"paclitaxel\":[-5.297956264403491,1.3247138671888619],\"panobinostat\":[8.590479663421787,0.28161777658034437],\"pazopanib\":[-0.9542026247231206,0.10773161102134148],\"perhexiline\":[9.148213754222105,-2.879113110049055],\"phenytoin\":[-0.08378759951714927,-3.876728278615352],\"pimozide\":[-3.234172775487608,1.5981444269453684],\"pirmenol\":[1.1599754451724806,-3.1060402291147433],\"prazosin\":[2.071819682636136,3.3239240805636756],\"pregabalin\":[-0.9490419871860059,-5.957835528840228],\"procainamide\":[8.437073295022095,3.5914963518559806],\"propafenone\":[1.5388290036035996,-3.3566019406711387],\"quercetin\":[-0.5667963157001144,1.9081970416461131],\"quinidine\":[0.002742080568457173,-4.151705980403028],\"ranolazine\":[1.5384663261330305,-4.144719083799448],\"riluzole\":[0.7663422436079455,-4.412489073698755],\"romidepsin\":[7.417736581475289,0.4319297242549102],\"ropivacaine\":[1.249788617843813,-4.334411363669801],\"ruboxistaurin\":[-1.6192876755856616,-1.0803500053905495],\"rucaparib\":[0.7057704828556686,7.518727833595807],\"ruxolitinib\":[-0.46782065947004786,-0.28509248069139587],\"saquinavir\":[-2.7472550841417185,1.49005667526301],\"secobarbital\":[1.3338590218592967,4.101034341963025],\"sorafenib\":[-0.7850642047292448,-1.042875184479003],\"sulfinpyrazone\":[-3.2139908129219408,0.3080761440514506],\"sunitinib\":[-0.6497014206289462,-0.09653600238087404],\"suramin\":[-5.7532336980281675,7.209754436941662],\"tetracaine\":[-0.022597041216049246,-3.6216632405887186],\"tolonium\":[0.13366646556871797,7.08594059931361],\"topiramate\":[1.1900853295444314,-4.53057310675259],\"tranylcypromine\":[8.960965411485889,-1.7093310936748478],\"ubenimex\":[-9.261741197096082,-2.48617575471394],\"vandetanib\":[-1.0240255478777138,0.6511194758265612],\"verapamil\":[-1.0182139974961346,-1.4351610145671652],\"vigabatrin\":[-5.808469072619318,-7.552198081304078],\"vinblastine\":[-3.8222377793651,0.8359038264650938],\"vincristine\":[-3.785759592203077,0.9918928279546818],\"vorinostat\":[8.620728025471406,0.5677007351985474],\"zoledronic acid\":[1.8582772600739224,3.436194988212208]}},\"id\":\"10716\",\"type\":\"StaticLayoutProvider\"},{\"attributes\":{\"edge_renderer\":{\"id\":\"10714\"},\"inspection_policy\":{\"id\":\"11216\"},\"layout_provider\":{\"id\":\"10716\"},\"node_renderer\":{\"id\":\"10710\"},\"selection_policy\":{\"id\":\"11211\"}},\"id\":\"10707\",\"type\":\"GraphRenderer\"},{\"attributes\":{},\"id\":\"11216\",\"type\":\"NodesOnly\"},{\"attributes\":{\"end\":10.1,\"start\":-10.1},\"id\":\"10678\",\"type\":\"Range1d\"},{\"attributes\":{\"high\":43,\"low\":6,\"palette\":[\"#084594\",\"#2171b5\",\"#4292c6\",\"#6baed6\",\"#9ecae1\",\"#c6dbef\",\"#deebf7\",\"#f7fbff\"]},\"id\":\"10725\",\"type\":\"LinearColorMapper\"},{\"attributes\":{},\"id\":\"11202\",\"type\":\"BasicTickFormatter\"},{\"attributes\":{},\"id\":\"10684\",\"type\":\"LinearScale\"},{\"attributes\":{},\"id\":\"11203\",\"type\":\"AllLabels\"},{\"attributes\":{\"end\":10.1,\"start\":-10.1},\"id\":\"10677\",\"type\":\"Range1d\"},{\"attributes\":{\"fill_color\":{\"field\":\"adjusted_node_size\",\"transform\":{\"id\":\"10725\"}},\"size\":{\"field\":\"adjusted_node_size\"}},\"id\":\"10726\",\"type\":\"Circle\"},{\"attributes\":{},\"id\":\"11211\",\"type\":\"NodesOnly\"},{\"attributes\":{},\"id\":\"11205\",\"type\":\"BasicTickFormatter\"},{\"attributes\":{},\"id\":\"10689\",\"type\":\"BasicTicker\"},{\"attributes\":{},\"id\":\"11206\",\"type\":\"AllLabels\"}],\"root_ids\":[\"10679\"]},\"title\":\"Bokeh Application\",\"version\":\"2.3.2\"}};\n",
       "  var render_items = [{\"docid\":\"e6dd9624-86c2-4487-89ff-52b11378988d\",\"root_ids\":[\"10679\"],\"roots\":{\"10679\":\"987ddf48-f566-4c75-ba98-6e3986187ca2\"}}];\n",
       "  root.Bokeh.embed.embed_items_notebook(docs_json, render_items);\n",
       "\n",
       "  }\n",
       "  if (root.Bokeh !== undefined) {\n",
       "    embed_document(root);\n",
       "  } else {\n",
       "    var attempts = 0;\n",
       "    var timer = setInterval(function(root) {\n",
       "      if (root.Bokeh !== undefined) {\n",
       "        clearInterval(timer);\n",
       "        embed_document(root);\n",
       "      } else {\n",
       "        attempts++;\n",
       "        if (attempts > 100) {\n",
       "          clearInterval(timer);\n",
       "          console.log(\"Bokeh: ERROR: Unable to run BokehJS code because BokehJS library is missing\");\n",
       "        }\n",
       "      }\n",
       "    }, 10, root)\n",
       "  }\n",
       "})(window);"
      ],
      "application/vnd.bokehjs_exec.v0+json": ""
     },
     "metadata": {
      "application/vnd.bokehjs_exec.v0+json": {
       "id": "10679"
      }
     },
     "output_type": "display_data"
    }
   ],
   "source": [
    "#Choose attributes from G network to size and color by — setting manual size (e.g. 10) or color (e.g. 'skyblue') also allowed\n",
    "size_by_this_attribute = 'adjusted_node_size'\n",
    "color_by_this_attribute = 'adjusted_node_size'\n",
    "\n",
    "#Pick a color palette — Blues8, Reds8, Purples8, Oranges8, Viridis8\n",
    "color_palette = Blues8\n",
    "\n",
    "#Choose a title!\n",
    "title = 'Drug-Gene Interaction'\n",
    "\n",
    "#Establish which categories will appear when hovering over each node\n",
    "HOVER_TOOLTIPS = [\n",
    "       (\"Character\", \"@index\"),\n",
    "        (\"Degree\", \"@degree\")\n",
    "]\n",
    "\n",
    "#Create a plot — set dimensions, toolbar, and title\n",
    "plot = figure(tooltips = HOVER_TOOLTIPS,\n",
    "              tools=\"pan,wheel_zoom,save,reset\", active_scroll='wheel_zoom',\n",
    "            x_range=Range1d(-10.1, 10.1), y_range=Range1d(-10.1, 10.1), title=title) #plot_width=1500, plot_height=1500 크기조절\n",
    "\n",
    "#Create a network graph object\n",
    "network_graph = from_networkx(G, networkx.spring_layout, scale=10, center=(0, 0))\n",
    "\n",
    "#Set node sizes and colors according to node degree (color as spectrum of color palette)\n",
    "minimum_value_color = min(network_graph.node_renderer.data_source.data[color_by_this_attribute])\n",
    "maximum_value_color = max(network_graph.node_renderer.data_source.data[color_by_this_attribute])\n",
    "network_graph.node_renderer.glyph = Circle(size=size_by_this_attribute, fill_color=linear_cmap(color_by_this_attribute, color_palette, minimum_value_color, maximum_value_color))\n",
    "\n",
    "#Set edge opacity and width\n",
    "network_graph.edge_renderer.glyph = MultiLine(line_alpha=0.5, line_width=1)\n",
    "\n",
    "plot.renderers.append(network_graph)\n",
    "\n",
    "show(plot)\n",
    "#save(plot, filename=f\"{title}.html\")"
   ]
  },
  {
   "cell_type": "markdown",
   "id": "f0a892e6-09ac-4689-a86e-f1bbb94bdbc4",
   "metadata": {},
   "source": [
    "## Network with Responsive Highlighting"
   ]
  },
  {
   "cell_type": "code",
   "execution_count": 119,
   "id": "d714b599-3970-4e69-9305-1366f671e414",
   "metadata": {},
   "outputs": [],
   "source": [
    "from bokeh.io import output_notebook, show, save\n",
    "from bokeh.models import Range1d, Circle, ColumnDataSource, MultiLine, EdgesAndLinkedNodes, NodesAndLinkedEdges\n",
    "from bokeh.plotting import figure\n",
    "from bokeh.plotting import from_networkx\n",
    "from bokeh.palettes import Blues8, Reds8, Purples8, Oranges8, Viridis8, Spectral8\n",
    "from bokeh.transform import linear_cmap\n",
    "from networkx.algorithms import community"
   ]
  },
  {
   "cell_type": "code",
   "execution_count": 120,
   "id": "a09cdb7a-7f6a-4717-bea0-c615b834cfb0",
   "metadata": {},
   "outputs": [],
   "source": [
    "degrees = dict(networkx.degree(G))\n",
    "networkx.set_node_attributes(G, name='degree', values=degrees)"
   ]
  },
  {
   "cell_type": "code",
   "execution_count": 121,
   "id": "7c771004-6dad-4175-bfa4-6ea33a533ed9",
   "metadata": {},
   "outputs": [],
   "source": [
    "number_to_adjust_by = 5\n",
    "adjusted_node_size = dict([(node, degree+number_to_adjust_by) for node, degree in networkx.degree(G)])\n",
    "networkx.set_node_attributes(G, name='adjusted_node_size', values=adjusted_node_size)"
   ]
  },
  {
   "cell_type": "code",
   "execution_count": 122,
   "id": "4c5d3743-7d68-4dd5-9eec-9bd6ba9f7b21",
   "metadata": {},
   "outputs": [],
   "source": [
    "communities = community.greedy_modularity_communities(G)"
   ]
  },
  {
   "cell_type": "code",
   "execution_count": 123,
   "id": "d6327429-b5d0-4df9-afc9-b5f432aa1cd9",
   "metadata": {},
   "outputs": [],
   "source": [
    "# # Create empty dictionaries\n",
    "# modularity_class = {}\n",
    "# modularity_color = {}\n",
    "# #Loop through each community in the network\n",
    "# for community_number, community in enumerate(communities):\n",
    "#     #For each member of the community, add their community number and a distinct color\n",
    "#     for name in community: \n",
    "#         modularity_class[name] = community_number\n",
    "#         modularity_color[name] = Spectral8[community_number]"
   ]
  },
  {
   "cell_type": "code",
   "execution_count": 124,
   "id": "145ca5a2-acaf-423b-8743-1d99afc35c7b",
   "metadata": {},
   "outputs": [],
   "source": [
    "# Add modularity class and color as attributes from the network above\n",
    "networkx.set_node_attributes(G, modularity_class, 'modularity_class')\n",
    "networkx.set_node_attributes(G, modularity_color, 'modularity_color')"
   ]
  },
  {
   "cell_type": "markdown",
   "id": "ead0a91c-c522-4e45-b9eb-e7ca7cfa02be",
   "metadata": {},
   "source": [
    "## Network with Labels"
   ]
  },
  {
   "cell_type": "code",
   "execution_count": 136,
   "id": "4ce79492-5c9e-4a1c-b65c-f60ae2ab1ae4",
   "metadata": {},
   "outputs": [
    {
     "data": {
      "text/html": [
       "\n",
       "\n",
       "\n",
       "\n",
       "\n",
       "\n",
       "  <div class=\"bk-root\" id=\"6f244f54-b59a-41f6-b76c-c537bd7058ba\" data-root-id=\"8725\"></div>\n"
      ]
     },
     "metadata": {},
     "output_type": "display_data"
    },
    {
     "data": {
      "application/javascript": [
       "(function(root) {\n",
       "  function embed_document(root) {\n",
       "    \n",
       "  var docs_json = {\"5663ce6d-ef8e-4e4f-987d-4072b4e0bbe3\":{\"defs\":[],\"roots\":{\"references\":[{\"attributes\":{\"below\":[{\"id\":\"8734\"}],\"center\":[{\"id\":\"8737\"},{\"id\":\"8741\"}],\"left\":[{\"id\":\"8738\"}],\"renderers\":[{\"id\":\"8753\"},{\"id\":\"8798\"}],\"title\":{\"id\":\"8726\"},\"toolbar\":{\"id\":\"8747\"},\"x_range\":{\"id\":\"8723\"},\"x_scale\":{\"id\":\"8730\"},\"y_range\":{\"id\":\"8724\"},\"y_scale\":{\"id\":\"8732\"}},\"id\":\"8725\",\"subtype\":\"Figure\",\"type\":\"Plot\"},{\"attributes\":{\"data\":{\"adjusted_node_size\":[6,6,8,11,11,10,14,7,7,8,7,12,7,9,6,6,10,6,6,6,6,6,16,7,9,9,7,7,6,9,6,6,6,6,43,6,6,6,6,6,6,6,6,6,6,6,6,6,6,6,6,7,6,6,6,6,6,6,6,6,6,6,6,6,6,6,6,6,6,6,6,7,6,6,19,7,6,7,6,6,6,7,6,6,9,7,6,6,6,6,6,6,10,7,29,6,6,6,6,6,6,6,6,6,6,6,6,6,6,6,6,6,6,7,7,6,6,12,6,7,6,7,6,8,6,6,6,7,6,6,7,6,6,23,6,6,6,6,6,6,6,6,6,6,6,6,6,6,6,6,6],\"degree\":[1,1,3,6,6,5,9,2,2,3,2,7,2,4,1,1,5,1,1,1,1,1,11,2,4,4,2,2,1,4,1,1,1,1,38,1,1,1,1,1,1,1,1,1,1,1,1,1,1,1,1,2,1,1,1,1,1,1,1,1,1,1,1,1,1,1,1,1,1,1,1,2,1,1,14,2,1,2,1,1,1,2,1,1,4,2,1,1,1,1,1,1,5,2,24,1,1,1,1,1,1,1,1,1,1,1,1,1,1,1,1,1,1,2,2,1,1,7,1,2,1,2,1,3,1,1,1,2,1,1,2,1,1,18,1,1,1,1,1,1,1,1,1,1,1,1,1,1,1,1,1],\"index\":[\"CPT2\",\"perhexiline\",\"INSRR\",\"sunitinib\",\"crizotinib\",\"nintedanib\",\"NTRK1\",\"amitriptyline\",\"sorafenib\",\"ruxolitinib\",\"axitinib\",\"bosutinib\",\"ceritinib\",\"PARP1\",\"chlorthenoxazine\",\"olaparib\",\"rucaparib\",\"PARP10\",\"PARP12\",\"PARP14\",\"PARP15\",\"niraparib\",\"ALK\",\"erlotinib\",\"quercetin\",\"pazopanib\",\"vandetanib\",\"ALK|NPM1\",\"alectinib\",\"HDAC4\",\"romidepsin\",\"vorinostat\",\"panobinostat\",\"belinostat\",\"SCN5A\",\"amiodarone\",\"aprindine\",\"benzocaine\",\"benzonatate\",\"bepridil\",\"carbamazepine\",\"cocaine\",\"dextropropoxyphene\",\"cinchocaine\",\"hydroquinidine\",\"diprafenone\",\"disopyramide\",\"encainide\",\"etidocaine\",\"flecainide\",\"fosphenytoin\",\"gabapentin\",\"indecainide\",\"lamotrigine\",\"lidocaine\",\"lorcainide\",\"mepivacaine\",\"mexiletine\",\"moracizine\",\"nefopam\",\"orphenadrine\",\"oxcarbazepine\",\"phenytoin\",\"pirmenol\",\"propafenone\",\"quinidine\",\"ranolazine\",\"riluzole\",\"ropivacaine\",\"tetracaine\",\"topiramate\",\"verapamil\",\"KDM1B\",\"tranylcypromine\",\"BLK\",\"dasatinib\",\"gefitinib\",\"imatinib\",\"nilotinib\",\"afatinib\",\"ibrutinib\",\"SIRT1\",\"nicotinamide\",\"suramin\",\"MAP3K11\",\"CSNK1A1L\",\"ANPEP\",\"ubenimex\",\"ABAT\",\"vigabatrin\",\"ABCC11\",\"fluorouracil\",\"ABCC10\",\"anhydrovinblastine\",\"ABCC1\",\"benzbromarone\",\"colchicine\",\"ciclosporin\",\"daunorubicin\",\"docetaxel\",\"doxorubicin\",\"etoposide\",\"etravirine\",\"idarubicin\",\"indomethacin\",\"irinotecan\",\"methotrexate\",\"mezlocillin\",\"mitoxantrone\",\"paclitaxel\",\"pimozide\",\"saquinavir\",\"sulfinpyrazone\",\"vinblastine\",\"vincristine\",\"diosmetin\",\"daunorubicinol\",\"TAOK2\",\"ruboxistaurin\",\"HSD17B2\",\"acetoxolone\",\"SLC7A5\",\"pregabalin\",\"MAPT\",\"lansoprazole\",\"methylthioninium chloride\",\"tolonium\",\"HCN2\",\"ivabradine\",\"dronedarone\",\"DNMT3B\",\"hydralazine\",\"procainamide\",\"MMP9\",\"aminoquinuride\",\"beclometasone dipropionate\",\"budesonide\",\"busulfan\",\"cefonicid\",\"cefotetan\",\"cefotiam\",\"cefuroxime\",\"cefalotin\",\"cefradine\",\"chlorhexidine\",\"dacarbazine\",\"econazole\",\"floxacillin\",\"secobarbital\",\"zoledronic acid\",\"prazosin\"],\"modularity_class\":[null,null,2,2,2,2,2,2,2,2,2,2,2,4,4,4,4,4,4,4,4,4,2,2,3,2,2,2,2,5,5,5,5,5,0,0,0,0,0,0,0,0,0,0,0,0,0,0,0,0,0,null,0,0,0,0,0,0,0,0,0,0,0,0,0,0,0,0,0,0,0,1,null,null,2,2,2,1,2,2,2,7,7,7,2,2,null,null,null,null,null,null,1,1,1,1,1,1,1,1,1,1,1,1,1,1,1,1,1,1,1,1,1,1,1,1,1,2,2,3,3,8,null,6,6,6,6,null,null,null,null,null,null,3,3,3,3,3,3,3,3,3,3,3,3,3,3,3,3,3,3],\"modularity_color\":[null,null,\"#abdda4\",\"#abdda4\",\"#abdda4\",\"#abdda4\",\"#abdda4\",\"#abdda4\",\"#abdda4\",\"#abdda4\",\"#abdda4\",\"#abdda4\",\"#abdda4\",\"#fee08b\",\"#fee08b\",\"#fee08b\",\"#fee08b\",\"#fee08b\",\"#fee08b\",\"#fee08b\",\"#fee08b\",\"#fee08b\",\"#abdda4\",\"#abdda4\",\"#e6f598\",\"#abdda4\",\"#abdda4\",\"#abdda4\",\"#abdda4\",\"#fdae61\",\"#fdae61\",\"#fdae61\",\"#fdae61\",\"#fdae61\",\"#3288bd\",\"#3288bd\",\"#3288bd\",\"#3288bd\",\"#3288bd\",\"#3288bd\",\"#3288bd\",\"#3288bd\",\"#3288bd\",\"#3288bd\",\"#3288bd\",\"#3288bd\",\"#3288bd\",\"#3288bd\",\"#3288bd\",\"#3288bd\",\"#3288bd\",null,\"#3288bd\",\"#3288bd\",\"#3288bd\",\"#3288bd\",\"#3288bd\",\"#3288bd\",\"#3288bd\",\"#3288bd\",\"#3288bd\",\"#3288bd\",\"#3288bd\",\"#3288bd\",\"#3288bd\",\"#3288bd\",\"#3288bd\",\"#3288bd\",\"#3288bd\",\"#3288bd\",\"#3288bd\",\"#66c2a5\",null,null,\"#abdda4\",\"#abdda4\",\"#abdda4\",\"#66c2a5\",\"#abdda4\",\"#abdda4\",\"#abdda4\",\"#d53e4f\",\"#d53e4f\",\"#d53e4f\",\"#abdda4\",\"#abdda4\",null,null,null,null,null,null,\"#66c2a5\",\"#66c2a5\",\"#66c2a5\",\"#66c2a5\",\"#66c2a5\",\"#66c2a5\",\"#66c2a5\",\"#66c2a5\",\"#66c2a5\",\"#66c2a5\",\"#66c2a5\",\"#66c2a5\",\"#66c2a5\",\"#66c2a5\",\"#66c2a5\",\"#66c2a5\",\"#66c2a5\",\"#66c2a5\",\"#66c2a5\",\"#66c2a5\",\"#66c2a5\",\"#66c2a5\",\"#66c2a5\",\"#66c2a5\",\"#66c2a5\",\"#abdda4\",\"#abdda4\",\"#e6f598\",\"#e6f598\",null,null,\"#f46d43\",\"#f46d43\",\"#f46d43\",\"#f46d43\",null,null,null,null,null,null,\"#e6f598\",\"#e6f598\",\"#e6f598\",\"#e6f598\",\"#e6f598\",\"#e6f598\",\"#e6f598\",\"#e6f598\",\"#e6f598\",\"#e6f598\",\"#e6f598\",\"#e6f598\",\"#e6f598\",\"#e6f598\",\"#e6f598\",\"#e6f598\",\"#e6f598\",\"#e6f598\"]},\"selected\":{\"id\":\"9221\"},\"selection_policy\":{\"id\":\"9220\"}},\"id\":\"8755\",\"type\":\"ColumnDataSource\"},{\"attributes\":{\"data_source\":{\"id\":\"8755\"},\"glyph\":{\"id\":\"8763\"},\"hover_glyph\":{\"id\":\"8768\"},\"muted_glyph\":null,\"selection_glyph\":{\"id\":\"8773\"},\"view\":{\"id\":\"8757\"}},\"id\":\"8756\",\"type\":\"GlyphRenderer\"},{\"attributes\":{},\"id\":\"8743\",\"type\":\"WheelZoomTool\"},{\"attributes\":{},\"id\":\"8793\",\"type\":\"NodesAndLinkedEdges\"},{\"attributes\":{},\"id\":\"8744\",\"type\":\"SaveTool\"},{\"attributes\":{},\"id\":\"9207\",\"type\":\"AllLabels\"},{\"attributes\":{},\"id\":\"8742\",\"type\":\"PanTool\"},{\"attributes\":{},\"id\":\"8795\",\"type\":\"NodesAndLinkedEdges\"},{\"attributes\":{\"axis\":{\"id\":\"8738\"},\"dimension\":1,\"ticker\":null},\"id\":\"8741\",\"type\":\"Grid\"},{\"attributes\":{},\"id\":\"9206\",\"type\":\"BasicTickFormatter\"},{\"attributes\":{\"data\":{\"name\":[\"CPT2\",\"perhexiline\",\"INSRR\",\"sunitinib\",\"crizotinib\",\"nintedanib\",\"NTRK1\",\"amitriptyline\",\"sorafenib\",\"ruxolitinib\",\"axitinib\",\"bosutinib\",\"ceritinib\",\"PARP1\",\"chlorthenoxazine\",\"olaparib\",\"rucaparib\",\"PARP10\",\"PARP12\",\"PARP14\",\"PARP15\",\"niraparib\",\"ALK\",\"erlotinib\",\"quercetin\",\"pazopanib\",\"vandetanib\",\"ALK|NPM1\",\"alectinib\",\"HDAC4\",\"romidepsin\",\"vorinostat\",\"panobinostat\",\"belinostat\",\"SCN5A\",\"amiodarone\",\"aprindine\",\"benzocaine\",\"benzonatate\",\"bepridil\",\"carbamazepine\",\"cocaine\",\"dextropropoxyphene\",\"cinchocaine\",\"hydroquinidine\",\"diprafenone\",\"disopyramide\",\"encainide\",\"etidocaine\",\"flecainide\",\"fosphenytoin\",\"gabapentin\",\"indecainide\",\"lamotrigine\",\"lidocaine\",\"lorcainide\",\"mepivacaine\",\"mexiletine\",\"moracizine\",\"nefopam\",\"orphenadrine\",\"oxcarbazepine\",\"phenytoin\",\"pirmenol\",\"propafenone\",\"quinidine\",\"ranolazine\",\"riluzole\",\"ropivacaine\",\"tetracaine\",\"topiramate\",\"verapamil\",\"KDM1B\",\"tranylcypromine\",\"BLK\",\"dasatinib\",\"gefitinib\",\"imatinib\",\"nilotinib\",\"afatinib\",\"ibrutinib\",\"SIRT1\",\"nicotinamide\",\"suramin\",\"MAP3K11\",\"CSNK1A1L\",\"ANPEP\",\"ubenimex\",\"ABAT\",\"vigabatrin\",\"ABCC11\",\"fluorouracil\",\"ABCC10\",\"anhydrovinblastine\",\"ABCC1\",\"benzbromarone\",\"colchicine\",\"ciclosporin\",\"daunorubicin\",\"docetaxel\",\"doxorubicin\",\"etoposide\",\"etravirine\",\"idarubicin\",\"indomethacin\",\"irinotecan\",\"methotrexate\",\"mezlocillin\",\"mitoxantrone\",\"paclitaxel\",\"pimozide\",\"saquinavir\",\"sulfinpyrazone\",\"vinblastine\",\"vincristine\",\"diosmetin\",\"daunorubicinol\",\"TAOK2\",\"ruboxistaurin\",\"HSD17B2\",\"acetoxolone\",\"SLC7A5\",\"pregabalin\",\"MAPT\",\"lansoprazole\",\"methylthioninium chloride\",\"tolonium\",\"HCN2\",\"ivabradine\",\"dronedarone\",\"DNMT3B\",\"hydralazine\",\"procainamide\",\"MMP9\",\"aminoquinuride\",\"beclometasone dipropionate\",\"budesonide\",\"busulfan\",\"cefonicid\",\"cefotetan\",\"cefotiam\",\"cefuroxime\",\"cefalotin\",\"cefradine\",\"chlorhexidine\",\"dacarbazine\",\"econazole\",\"floxacillin\",\"secobarbital\",\"zoledronic acid\",\"prazosin\"],\"x\":[2.5441265866969807,2.655561906317187,-0.2576377566991779,-0.51074511749051,-0.7662495293407061,-0.43765972196665176,-0.6358850226801848,-0.1352887035270839,-1.3308225769067148,-1.1565366341247916,-0.18196098484833362,-0.8511142636422051,-1.0600703401211995,4.148728871033277,3.6042681047529683,4.383466073613827,4.954703134828503,5.485330436816217,5.5760518304324815,5.240072077972032,5.130610280217603,3.8729832102735835,-0.8899416594834025,-0.6867363390664122,-0.6621040512313751,-0.8767256374587161,-0.43451691339099363,-1.2122819557522406,-1.659628903552461,-5.081071150941667,-5.618017455236253,-5.378591131300763,-4.892386370124588,-4.567145210523519,0.4795565591036692,1.3284443322866928,0.3438409783257272,-0.36097634203003487,0.780705526309743,-0.0036458207241451567,1.4429375414130734,0.03293609171912536,1.1171825024846171,0.31430499116515226,0.2571111779320932,-0.17787939253133625,-0.008687995167665712,1.321493396851874,1.009960719280737,1.3583289196509347,0.5527387069535844,0.5990278135907744,0.0799632991555179,0.9922375901352787,0.9520034514443771,0.021582390775528062,0.4874833996264013,-0.2660200252742542,-0.12927614151984662,-0.4034029492347177,0.6900804742406479,-0.3911577986685014,0.7606049057633945,1.0041949472530558,1.2047670849050305,0.6717517018178478,0.31185099328503574,1.2453256390263308,-0.4836350104153485,-0.20926315766660367,1.0018876520621836,1.3334358520062473,8.098421502735217,7.841523477387391,-0.13830682310310394,-0.8222485184847688,0.024660174342218837,1.0301518999337855,0.40736370100135544,-0.21590186224427252,0.24207959783044605,-6.783122413434945,-7.049937969882541,-6.449482767349362,-0.593119774000582,-0.6961760742271648,-4.823108042819266,-4.590281143335343,3.473538374949755,3.499756586483556,-9.660258764587367,-9.440206166689322,4.087261561645427,3.2513617636289047,2.070801368220935,2.532433637685422,2.444108834786304,2.403449867765206,2.291985352730436,4.895730576921744,1.9110353436062408,2.651872587704779,2.90705506693937,2.7974507217089597,2.732551729995688,2.891435408970678,2.9782292486442348,1.9506190558520324,2.405022068167688,4.860446710634568,2.6644505942237653,2.3185249053902743,2.1287054527348936,3.3158846662927464,3.2860338786219807,1.709290411084156,2.692149366405037,-1.2892021867490864,-1.8353377910918522,-0.4388918733601954,-0.03248633390499642,0.6723410406309234,0.7061912569873044,8.311264455174378,8.130194107721685,7.610524145539387,8.997995841899844,-8.339382012546343,-8.781989629169082,-8.618047701833836,-1.9991418427349543,-2.327963909647302,-1.7606088568909155,-3.3716800674641867,-4.138592337537498,-4.373211302726058,-4.0510264148575885,-3.753423437453042,-3.3834338245052784,-3.9506403323275063,-3.444294160870784,-3.8870475741014126,-4.292505518121634,-3.981603504197432,-3.560070838163002,-3.647213007981179,-4.138611775562911,-3.837878769341918,-4.3095216585604375,-4.181736442769944,-3.8107820072271807],\"y\":[-9.429650549282629,-10.0,-2.3076845886169064,-2.1131917708626595,-2.1899344923924255,-1.9638020007421937,-1.1253148574005087,1.3616007367142227,-1.7783622051660257,-1.8589130980123478,-1.824051820336782,-2.289591978578794,-1.441720832317784,-6.392496497728012,-5.973350109042526,-7.0255431300287094,-6.408804411938108,-6.88283231046449,-6.596798995128916,-7.041693013663442,-5.946924988691142,-6.783023312508278,-2.0387209178195014,-2.892907953535247,-0.7630438499558078,-2.6703995844374844,-2.7694966850324056,-2.7977222689037142,-2.3939905685016227,7.131528977528138,7.563186160269305,7.774297641721995,7.487097101686719,6.3078967044496155,3.8427952627809874,4.427899254545812,4.617216886258128,4.480350037562374,4.653903964599504,3.3896647102736193,4.000607312828929,4.837920344537707,4.057352305679515,4.324553373403377,4.894107370138603,4.6879512846097535,3.734686213638439,3.798718664143285,4.825181289810087,4.214847017502065,4.739660016233526,2.8461905859355237,4.593205774803588,4.286157375268475,3.797883407547632,4.171809950710597,4.965896486544016,3.5340894345830325,4.409520693198935,4.243072294091926,3.397528758396934,3.769714543180988,4.921270508160526,4.544895491829392,4.626465528193829,4.3589144220448715,3.3685823332511813,3.570533368599138,4.016366104880475,3.998405564482315,3.4295775831730233,1.7414850728464402,-9.173460984124716,-9.355204628104051,-2.6459751130844285,-3.1826035828967143,-3.5335429167776606,-1.5900607911468434,-3.247614987897851,-3.5325440858420687,-3.4286923164911443,5.7646255972406495,5.5322765108446195,5.901159578957319,-2.4536872334699473,-2.724724386805042,-9.47882973986208,-9.086790287174358,8.028058660628751,8.358995631951874,4.803332824340834,5.02581394200983,-0.09368756133179197,-0.04050839300618779,-0.37728360930389526,-0.1787761062951501,-0.5987438928360821,-1.1823654087402542,-0.8995110690655167,-0.17493906338417747,-0.9211827494175163,-1.1373051065424211,-0.9476416811307238,-0.049982144340233216,-0.5768793792817589,-0.3684958122249455,-0.6925477178015685,0.11161868921472583,0.10830609103842609,0.13777017745333464,-0.8908433092737174,0.32911439839040413,-1.151746085644905,-0.3771897223133387,-0.2081620041801677,-0.5457010299836486,0.21802363000243014,-2.5800979527668093,-3.2943412340073297,-0.350764022598601,-0.27285133950819634,1.9876850667117683,1.2194195984333744,2.0192444885153007,2.3485810206370408,1.7872419861085622,2.1521347851610346,-4.534351311890691,-4.865736862609907,-4.303686047729151,-9.37442743921983,-9.497157697032574,-9.063494433580868,-0.7103233020808278,-0.1891791126945756,-0.7164918664652031,-1.0049968297926026,-0.25708370748391657,-0.24846548247601716,-1.4057236611826376,-1.2277827845407776,-0.012302241176488428,-0.42784887046342196,-0.4165273946475374,0.0016968183340249322,-1.43907130596625,-0.6790202998673314,-0.7656332574516972,-0.9799752502611349,-1.2420725098552186,-1.1730915003998077]},\"selected\":{\"id\":\"9217\"},\"selection_policy\":{\"id\":\"9216\"}},\"id\":\"8797\",\"type\":\"ColumnDataSource\"},{\"attributes\":{\"source\":{\"id\":\"8759\"}},\"id\":\"8761\",\"type\":\"CDSView\"},{\"attributes\":{\"fill_color\":{\"value\":\"white\"},\"line_width\":{\"value\":2},\"size\":{\"field\":\"adjusted_node_size\"}},\"id\":\"8773\",\"type\":\"Circle\"},{\"attributes\":{\"text\":\"Drug-Gene Interaction\"},\"id\":\"8726\",\"type\":\"Title\"},{\"attributes\":{\"line_width\":{\"value\":2}},\"id\":\"8788\",\"type\":\"MultiLine\"},{\"attributes\":{\"active_multi\":null,\"active_scroll\":{\"id\":\"8743\"},\"tools\":[{\"id\":\"8742\"},{\"id\":\"8743\"},{\"id\":\"8744\"},{\"id\":\"8745\"},{\"id\":\"8746\"}]},\"id\":\"8747\",\"type\":\"Toolbar\"},{\"attributes\":{},\"id\":\"9216\",\"type\":\"UnionRenderers\"},{\"attributes\":{\"data_source\":{\"id\":\"8759\"},\"glyph\":{\"id\":\"8778\"},\"hover_glyph\":{\"id\":\"8788\"},\"muted_glyph\":null,\"selection_glyph\":{\"id\":\"8783\"},\"view\":{\"id\":\"8761\"}},\"id\":\"8760\",\"type\":\"GlyphRenderer\"},{\"attributes\":{},\"id\":\"8730\",\"type\":\"LinearScale\"},{\"attributes\":{\"line_alpha\":{\"value\":0.5}},\"id\":\"8778\",\"type\":\"MultiLine\"},{\"attributes\":{\"formatter\":{\"id\":\"9206\"},\"major_label_policy\":{\"id\":\"9207\"},\"ticker\":{\"id\":\"8735\"}},\"id\":\"8734\",\"type\":\"LinearAxis\"},{\"attributes\":{\"background_fill_alpha\":{\"value\":0.7},\"background_fill_color\":{\"value\":\"white\"},\"source\":{\"id\":\"8797\"},\"text\":{\"field\":\"name\"},\"text_font_size\":{\"value\":\"10px\"},\"x\":{\"field\":\"x\"},\"y\":{\"field\":\"y\"}},\"id\":\"8798\",\"type\":\"LabelSet\"},{\"attributes\":{\"axis\":{\"id\":\"8734\"},\"ticker\":null},\"id\":\"8737\",\"type\":\"Grid\"},{\"attributes\":{\"edge_renderer\":{\"id\":\"8760\"},\"inspection_policy\":{\"id\":\"8795\"},\"layout_provider\":{\"id\":\"8762\"},\"node_renderer\":{\"id\":\"8756\"},\"selection_policy\":{\"id\":\"8793\"}},\"id\":\"8753\",\"type\":\"GraphRenderer\"},{\"attributes\":{},\"id\":\"8745\",\"type\":\"ResetTool\"},{\"attributes\":{},\"id\":\"9204\",\"type\":\"AllLabels\"},{\"attributes\":{\"callback\":null,\"tooltips\":[[\"Character\",\"@index\"],[\"Degree\",\"@degree\"],[\"Modularity Class\",\"@modularity_class\"],[\"Modularity Color\",\"$color[swatch]:modularity_color\"]]},\"id\":\"8746\",\"type\":\"HoverTool\"},{\"attributes\":{},\"id\":\"9217\",\"type\":\"Selection\"},{\"attributes\":{},\"id\":\"9220\",\"type\":\"UnionRenderers\"},{\"attributes\":{},\"id\":\"8735\",\"type\":\"BasicTicker\"},{\"attributes\":{},\"id\":\"9221\",\"type\":\"Selection\"},{\"attributes\":{\"source\":{\"id\":\"8755\"}},\"id\":\"8757\",\"type\":\"CDSView\"},{\"attributes\":{\"fill_color\":{\"field\":\"modularity_color\"},\"size\":{\"field\":\"adjusted_node_size\"}},\"id\":\"8763\",\"type\":\"Circle\"},{\"attributes\":{\"formatter\":{\"id\":\"9203\"},\"major_label_policy\":{\"id\":\"9204\"},\"ticker\":{\"id\":\"8739\"}},\"id\":\"8738\",\"type\":\"LinearAxis\"},{\"attributes\":{},\"id\":\"9203\",\"type\":\"BasicTickFormatter\"},{\"attributes\":{\"end\":10.1,\"start\":-10.1},\"id\":\"8724\",\"type\":\"Range1d\"},{\"attributes\":{},\"id\":\"8739\",\"type\":\"BasicTicker\"},{\"attributes\":{\"fill_color\":{\"value\":\"white\"},\"line_width\":{\"value\":2},\"size\":{\"field\":\"adjusted_node_size\"}},\"id\":\"8768\",\"type\":\"Circle\"},{\"attributes\":{},\"id\":\"8732\",\"type\":\"LinearScale\"},{\"attributes\":{\"line_width\":{\"value\":2}},\"id\":\"8783\",\"type\":\"MultiLine\"},{\"attributes\":{},\"id\":\"9218\",\"type\":\"UnionRenderers\"},{\"attributes\":{\"end\":10.1,\"start\":-10.1},\"id\":\"8723\",\"type\":\"Range1d\"},{\"attributes\":{\"data\":{\"end\":[\"perhexiline\",\"sunitinib\",\"crizotinib\",\"nintedanib\",\"NTRK1\",\"ALK\",\"BLK\",\"MAP3K11\",\"CSNK1A1L\",\"NTRK1\",\"ALK|NPM1\",\"ALK\",\"BLK\",\"TAOK2\",\"NTRK1\",\"ALK\",\"BLK\",\"MAP3K11\",\"amitriptyline\",\"sorafenib\",\"ruxolitinib\",\"axitinib\",\"bosutinib\",\"ceritinib\",\"SCN5A\",\"TAOK2\",\"ALK\",\"TAOK2\",\"BLK\",\"ALK|NPM1\",\"ALK\",\"BLK\",\"MAP3K11\",\"CSNK1A1L\",\"TAOK2\",\"ALK\",\"chlorthenoxazine\",\"olaparib\",\"rucaparib\",\"niraparib\",\"PARP10\",\"PARP12\",\"PARP14\",\"PARP15\",\"erlotinib\",\"quercetin\",\"pazopanib\",\"vandetanib\",\"alectinib\",\"BLK\",\"ABCC1\",\"HSD17B2\",\"MMP9\",\"BLK\",\"MAP3K11\",\"TAOK2\",\"BLK\",\"romidepsin\",\"vorinostat\",\"panobinostat\",\"belinostat\",\"amiodarone\",\"aprindine\",\"benzocaine\",\"benzonatate\",\"bepridil\",\"carbamazepine\",\"cocaine\",\"dextropropoxyphene\",\"cinchocaine\",\"hydroquinidine\",\"diprafenone\",\"disopyramide\",\"encainide\",\"etidocaine\",\"flecainide\",\"fosphenytoin\",\"gabapentin\",\"indecainide\",\"lamotrigine\",\"lidocaine\",\"lorcainide\",\"mepivacaine\",\"mexiletine\",\"moracizine\",\"nefopam\",\"orphenadrine\",\"oxcarbazepine\",\"phenytoin\",\"pirmenol\",\"propafenone\",\"quinidine\",\"ranolazine\",\"riluzole\",\"ropivacaine\",\"tetracaine\",\"topiramate\",\"verapamil\",\"SLC7A5\",\"ABCC1\",\"tranylcypromine\",\"dasatinib\",\"gefitinib\",\"imatinib\",\"nilotinib\",\"afatinib\",\"ibrutinib\",\"TAOK2\",\"ABCC1\",\"nicotinamide\",\"suramin\",\"ubenimex\",\"vigabatrin\",\"fluorouracil\",\"anhydrovinblastine\",\"docetaxel\",\"paclitaxel\",\"vinblastine\",\"vincristine\",\"ABCC1\",\"benzbromarone\",\"colchicine\",\"ciclosporin\",\"daunorubicin\",\"doxorubicin\",\"etoposide\",\"etravirine\",\"idarubicin\",\"indomethacin\",\"irinotecan\",\"methotrexate\",\"mezlocillin\",\"mitoxantrone\",\"pimozide\",\"saquinavir\",\"sulfinpyrazone\",\"vinblastine\",\"vincristine\",\"diosmetin\",\"daunorubicinol\",\"ruboxistaurin\",\"acetoxolone\",\"pregabalin\",\"lansoprazole\",\"methylthioninium chloride\",\"tolonium\",\"ivabradine\",\"dronedarone\",\"hydralazine\",\"procainamide\",\"aminoquinuride\",\"beclometasone dipropionate\",\"budesonide\",\"busulfan\",\"cefonicid\",\"cefotetan\",\"cefotiam\",\"cefuroxime\",\"cefalotin\",\"cefradine\",\"chlorhexidine\",\"dacarbazine\",\"econazole\",\"floxacillin\",\"secobarbital\",\"zoledronic acid\",\"prazosin\"],\"start\":[\"CPT2\",\"INSRR\",\"INSRR\",\"INSRR\",\"sunitinib\",\"sunitinib\",\"sunitinib\",\"sunitinib\",\"sunitinib\",\"crizotinib\",\"crizotinib\",\"crizotinib\",\"crizotinib\",\"crizotinib\",\"nintedanib\",\"nintedanib\",\"nintedanib\",\"nintedanib\",\"NTRK1\",\"NTRK1\",\"NTRK1\",\"NTRK1\",\"NTRK1\",\"NTRK1\",\"amitriptyline\",\"sorafenib\",\"ruxolitinib\",\"ruxolitinib\",\"axitinib\",\"bosutinib\",\"bosutinib\",\"bosutinib\",\"bosutinib\",\"bosutinib\",\"bosutinib\",\"ceritinib\",\"PARP1\",\"PARP1\",\"PARP1\",\"PARP1\",\"rucaparib\",\"rucaparib\",\"rucaparib\",\"rucaparib\",\"ALK\",\"ALK\",\"ALK\",\"ALK\",\"ALK\",\"erlotinib\",\"quercetin\",\"quercetin\",\"quercetin\",\"pazopanib\",\"pazopanib\",\"pazopanib\",\"vandetanib\",\"HDAC4\",\"HDAC4\",\"HDAC4\",\"HDAC4\",\"SCN5A\",\"SCN5A\",\"SCN5A\",\"SCN5A\",\"SCN5A\",\"SCN5A\",\"SCN5A\",\"SCN5A\",\"SCN5A\",\"SCN5A\",\"SCN5A\",\"SCN5A\",\"SCN5A\",\"SCN5A\",\"SCN5A\",\"SCN5A\",\"SCN5A\",\"SCN5A\",\"SCN5A\",\"SCN5A\",\"SCN5A\",\"SCN5A\",\"SCN5A\",\"SCN5A\",\"SCN5A\",\"SCN5A\",\"SCN5A\",\"SCN5A\",\"SCN5A\",\"SCN5A\",\"SCN5A\",\"SCN5A\",\"SCN5A\",\"SCN5A\",\"SCN5A\",\"SCN5A\",\"SCN5A\",\"gabapentin\",\"verapamil\",\"KDM1B\",\"BLK\",\"BLK\",\"BLK\",\"BLK\",\"BLK\",\"BLK\",\"dasatinib\",\"imatinib\",\"SIRT1\",\"SIRT1\",\"ANPEP\",\"ABAT\",\"ABCC11\",\"ABCC10\",\"ABCC10\",\"ABCC10\",\"ABCC10\",\"ABCC10\",\"anhydrovinblastine\",\"ABCC1\",\"ABCC1\",\"ABCC1\",\"ABCC1\",\"ABCC1\",\"ABCC1\",\"ABCC1\",\"ABCC1\",\"ABCC1\",\"ABCC1\",\"ABCC1\",\"ABCC1\",\"ABCC1\",\"ABCC1\",\"ABCC1\",\"ABCC1\",\"ABCC1\",\"ABCC1\",\"ABCC1\",\"ABCC1\",\"TAOK2\",\"HSD17B2\",\"SLC7A5\",\"MAPT\",\"MAPT\",\"MAPT\",\"HCN2\",\"HCN2\",\"DNMT3B\",\"DNMT3B\",\"MMP9\",\"MMP9\",\"MMP9\",\"MMP9\",\"MMP9\",\"MMP9\",\"MMP9\",\"MMP9\",\"MMP9\",\"MMP9\",\"MMP9\",\"MMP9\",\"MMP9\",\"MMP9\",\"MMP9\",\"MMP9\",\"MMP9\"]},\"selected\":{\"id\":\"9219\"},\"selection_policy\":{\"id\":\"9218\"}},\"id\":\"8759\",\"type\":\"ColumnDataSource\"},{\"attributes\":{\"graph_layout\":{\"ABAT\":[3.473538374949755,8.028058660628751],\"ABCC1\":[2.070801368220935,-0.37728360930389526],\"ABCC10\":[4.087261561645427,-0.09368756133179197],\"ABCC11\":[-9.660258764587367,4.803332824340834],\"ALK\":[-0.8899416594834025,-2.0387209178195014],\"ALK|NPM1\":[-1.2122819557522406,-2.7977222689037142],\"ANPEP\":[-4.823108042819266,-9.47882973986208],\"BLK\":[-0.13830682310310394,-2.6459751130844285],\"CPT2\":[2.5441265866969807,-9.429650549282629],\"CSNK1A1L\":[-0.6961760742271648,-2.724724386805042],\"DNMT3B\":[-1.9991418427349543,-9.37442743921983],\"HCN2\":[-8.339382012546343,-4.534351311890691],\"HDAC4\":[-5.081071150941667,7.131528977528138],\"HSD17B2\":[-0.4388918733601954,-0.350764022598601],\"INSRR\":[-0.2576377566991779,-2.3076845886169064],\"KDM1B\":[8.098421502735217,-9.173460984124716],\"MAP3K11\":[-0.593119774000582,-2.4536872334699473],\"MAPT\":[8.311264455174378,2.0192444885153007],\"MMP9\":[-3.3716800674641867,-0.7103233020808278],\"NTRK1\":[-0.6358850226801848,-1.1253148574005087],\"PARP1\":[4.148728871033277,-6.392496497728012],\"PARP10\":[5.485330436816217,-6.88283231046449],\"PARP12\":[5.5760518304324815,-6.596798995128916],\"PARP14\":[5.240072077972032,-7.041693013663442],\"PARP15\":[5.130610280217603,-5.946924988691142],\"SCN5A\":[0.4795565591036692,3.8427952627809874],\"SIRT1\":[-6.783122413434945,5.7646255972406495],\"SLC7A5\":[0.6723410406309234,1.9876850667117683],\"TAOK2\":[-1.2892021867490864,-2.5800979527668093],\"acetoxolone\":[-0.03248633390499642,-0.27285133950819634],\"afatinib\":[-0.21590186224427252,-3.5325440858420687],\"alectinib\":[-1.659628903552461,-2.3939905685016227],\"aminoquinuride\":[-4.138592337537498,-0.1891791126945756],\"amiodarone\":[1.3284443322866928,4.427899254545812],\"amitriptyline\":[-0.1352887035270839,1.3616007367142227],\"anhydrovinblastine\":[3.2513617636289047,-0.04050839300618779],\"aprindine\":[0.3438409783257272,4.617216886258128],\"axitinib\":[-0.18196098484833362,-1.824051820336782],\"beclometasone dipropionate\":[-4.373211302726058,-0.7164918664652031],\"belinostat\":[-4.567145210523519,6.3078967044496155],\"benzbromarone\":[2.532433637685422,-0.1787761062951501],\"benzocaine\":[-0.36097634203003487,4.480350037562374],\"benzonatate\":[0.780705526309743,4.653903964599504],\"bepridil\":[-0.0036458207241451567,3.3896647102736193],\"bosutinib\":[-0.8511142636422051,-2.289591978578794],\"budesonide\":[-4.0510264148575885,-1.0049968297926026],\"busulfan\":[-3.753423437453042,-0.25708370748391657],\"carbamazepine\":[1.4429375414130734,4.000607312828929],\"cefalotin\":[-4.292505518121634,-0.42784887046342196],\"cefonicid\":[-3.3834338245052784,-0.24846548247601716],\"cefotetan\":[-3.9506403323275063,-1.4057236611826376],\"cefotiam\":[-3.444294160870784,-1.2277827845407776],\"cefradine\":[-3.981603504197432,-0.4165273946475374],\"cefuroxime\":[-3.8870475741014126,-0.012302241176488428],\"ceritinib\":[-1.0600703401211995,-1.441720832317784],\"chlorhexidine\":[-3.560070838163002,0.0016968183340249322],\"chlorthenoxazine\":[3.6042681047529683,-5.973350109042526],\"ciclosporin\":[2.403449867765206,-1.1823654087402542],\"cinchocaine\":[0.31430499116515226,4.324553373403377],\"cocaine\":[0.03293609171912536,4.837920344537707],\"colchicine\":[2.444108834786304,-0.5987438928360821],\"crizotinib\":[-0.7662495293407061,-2.1899344923924255],\"dacarbazine\":[-3.647213007981179,-1.43907130596625],\"dasatinib\":[-0.8222485184847688,-3.1826035828967143],\"daunorubicin\":[2.291985352730436,-0.8995110690655167],\"daunorubicinol\":[2.692149366405037,0.21802363000243014],\"dextropropoxyphene\":[1.1171825024846171,4.057352305679515],\"diosmetin\":[1.709290411084156,-0.5457010299836486],\"diprafenone\":[-0.17787939253133625,4.6879512846097535],\"disopyramide\":[-0.008687995167665712,3.734686213638439],\"docetaxel\":[4.895730576921744,-0.17493906338417747],\"doxorubicin\":[1.9110353436062408,-0.9211827494175163],\"dronedarone\":[-8.618047701833836,-4.303686047729151],\"econazole\":[-4.138611775562911,-0.6790202998673314],\"encainide\":[1.321493396851874,3.798718664143285],\"erlotinib\":[-0.6867363390664122,-2.892907953535247],\"etidocaine\":[1.009960719280737,4.825181289810087],\"etoposide\":[2.651872587704779,-1.1373051065424211],\"etravirine\":[2.90705506693937,-0.9476416811307238],\"flecainide\":[1.3583289196509347,4.214847017502065],\"floxacillin\":[-3.837878769341918,-0.7656332574516972],\"fluorouracil\":[-9.440206166689322,5.02581394200983],\"fosphenytoin\":[0.5527387069535844,4.739660016233526],\"gabapentin\":[0.5990278135907744,2.8461905859355237],\"gefitinib\":[0.024660174342218837,-3.5335429167776606],\"hydralazine\":[-2.327963909647302,-9.497157697032574],\"hydroquinidine\":[0.2571111779320932,4.894107370138603],\"ibrutinib\":[0.24207959783044605,-3.4286923164911443],\"idarubicin\":[2.7974507217089597,-0.049982144340233216],\"imatinib\":[1.0301518999337855,-1.5900607911468434],\"indecainide\":[0.0799632991555179,4.593205774803588],\"indomethacin\":[2.732551729995688,-0.5768793792817589],\"irinotecan\":[2.891435408970678,-0.3684958122249455],\"ivabradine\":[-8.781989629169082,-4.865736862609907],\"lamotrigine\":[0.9922375901352787,4.286157375268475],\"lansoprazole\":[8.130194107721685,2.3485810206370408],\"lidocaine\":[0.9520034514443771,3.797883407547632],\"lorcainide\":[0.021582390775528062,4.171809950710597],\"mepivacaine\":[0.4874833996264013,4.965896486544016],\"methotrexate\":[2.9782292486442348,-0.6925477178015685],\"methylthioninium chloride\":[7.610524145539387,1.7872419861085622],\"mexiletine\":[-0.2660200252742542,3.5340894345830325],\"mezlocillin\":[1.9506190558520324,0.11161868921472583],\"mitoxantrone\":[2.405022068167688,0.10830609103842609],\"moracizine\":[-0.12927614151984662,4.409520693198935],\"nefopam\":[-0.4034029492347177,4.243072294091926],\"nicotinamide\":[-7.049937969882541,5.5322765108446195],\"nilotinib\":[0.40736370100135544,-3.247614987897851],\"nintedanib\":[-0.43765972196665176,-1.9638020007421937],\"niraparib\":[3.8729832102735835,-6.783023312508278],\"olaparib\":[4.383466073613827,-7.0255431300287094],\"orphenadrine\":[0.6900804742406479,3.397528758396934],\"oxcarbazepine\":[-0.3911577986685014,3.769714543180988],\"paclitaxel\":[4.860446710634568,0.13777017745333464],\"panobinostat\":[-4.892386370124588,7.487097101686719],\"pazopanib\":[-0.8767256374587161,-2.6703995844374844],\"perhexiline\":[2.655561906317187,-10.0],\"phenytoin\":[0.7606049057633945,4.921270508160526],\"pimozide\":[2.6644505942237653,-0.8908433092737174],\"pirmenol\":[1.0041949472530558,4.544895491829392],\"prazosin\":[-3.8107820072271807,-1.1730915003998077],\"pregabalin\":[0.7061912569873044,1.2194195984333744],\"procainamide\":[-1.7606088568909155,-9.063494433580868],\"propafenone\":[1.2047670849050305,4.626465528193829],\"quercetin\":[-0.6621040512313751,-0.7630438499558078],\"quinidine\":[0.6717517018178478,4.3589144220448715],\"ranolazine\":[0.31185099328503574,3.3685823332511813],\"riluzole\":[1.2453256390263308,3.570533368599138],\"romidepsin\":[-5.618017455236253,7.563186160269305],\"ropivacaine\":[-0.4836350104153485,4.016366104880475],\"ruboxistaurin\":[-1.8353377910918522,-3.2943412340073297],\"rucaparib\":[4.954703134828503,-6.408804411938108],\"ruxolitinib\":[-1.1565366341247916,-1.8589130980123478],\"saquinavir\":[2.3185249053902743,0.32911439839040413],\"secobarbital\":[-4.3095216585604375,-0.9799752502611349],\"sorafenib\":[-1.3308225769067148,-1.7783622051660257],\"sulfinpyrazone\":[2.1287054527348936,-1.151746085644905],\"sunitinib\":[-0.51074511749051,-2.1131917708626595],\"suramin\":[-6.449482767349362,5.901159578957319],\"tetracaine\":[-0.20926315766660367,3.998405564482315],\"tolonium\":[8.997995841899844,2.1521347851610346],\"topiramate\":[1.0018876520621836,3.4295775831730233],\"tranylcypromine\":[7.841523477387391,-9.355204628104051],\"ubenimex\":[-4.590281143335343,-9.086790287174358],\"vandetanib\":[-0.43451691339099363,-2.7694966850324056],\"verapamil\":[1.3334358520062473,1.7414850728464402],\"vigabatrin\":[3.499756586483556,8.358995631951874],\"vinblastine\":[3.3158846662927464,-0.3771897223133387],\"vincristine\":[3.2860338786219807,-0.2081620041801677],\"vorinostat\":[-5.378591131300763,7.774297641721995],\"zoledronic acid\":[-4.181736442769944,-1.2420725098552186]}},\"id\":\"8762\",\"type\":\"StaticLayoutProvider\"},{\"attributes\":{},\"id\":\"9219\",\"type\":\"Selection\"}],\"root_ids\":[\"8725\"]},\"title\":\"Bokeh Application\",\"version\":\"2.3.2\"}};\n",
       "  var render_items = [{\"docid\":\"5663ce6d-ef8e-4e4f-987d-4072b4e0bbe3\",\"root_ids\":[\"8725\"],\"roots\":{\"8725\":\"6f244f54-b59a-41f6-b76c-c537bd7058ba\"}}];\n",
       "  root.Bokeh.embed.embed_items_notebook(docs_json, render_items);\n",
       "\n",
       "  }\n",
       "  if (root.Bokeh !== undefined) {\n",
       "    embed_document(root);\n",
       "  } else {\n",
       "    var attempts = 0;\n",
       "    var timer = setInterval(function(root) {\n",
       "      if (root.Bokeh !== undefined) {\n",
       "        clearInterval(timer);\n",
       "        embed_document(root);\n",
       "      } else {\n",
       "        attempts++;\n",
       "        if (attempts > 100) {\n",
       "          clearInterval(timer);\n",
       "          console.log(\"Bokeh: ERROR: Unable to run BokehJS code because BokehJS library is missing\");\n",
       "        }\n",
       "      }\n",
       "    }, 10, root)\n",
       "  }\n",
       "})(window);"
      ],
      "application/vnd.bokehjs_exec.v0+json": ""
     },
     "metadata": {
      "application/vnd.bokehjs_exec.v0+json": {
       "id": "8725"
      }
     },
     "output_type": "display_data"
    }
   ],
   "source": [
    "from bokeh.models import EdgesAndLinkedNodes, NodesAndLinkedEdges\n",
    "\n",
    "#Choose colors for node and edge highlighting\n",
    "node_highlight_color = 'white'\n",
    "edge_highlight_color = 'black'\n",
    "\n",
    "#Choose attributes from G network to size and color by — setting manual size (e.g. 10) or color (e.g. 'skyblue') also allowed\n",
    "size_by_this_attribute = 'adjusted_node_size'\n",
    "color_by_this_attribute = 'modularity_color'\n",
    "\n",
    "#Pick a color palette — Blues8, Reds8, Purples8, Oranges8, Viridis8\n",
    "color_palette = Blues8\n",
    "\n",
    "#Choose a title!\n",
    "title = 'Drug-Gene Interaction'\n",
    "\n",
    "#Establish which categories will appear when hovering over each node\n",
    "HOVER_TOOLTIPS = [\n",
    "       (\"Character\", \"@index\"),\n",
    "        (\"Degree\", \"@degree\"),\n",
    "         (\"Modularity Class\", \"@modularity_class\"),\n",
    "        (\"Modularity Color\", \"$color[swatch]:modularity_color\"),\n",
    "]\n",
    "\n",
    "#Create a plot — set dimensions, toolbar, and title\n",
    "plot = figure(tooltips = HOVER_TOOLTIPS,\n",
    "              tools=\"pan,wheel_zoom,save,reset\", active_scroll='wheel_zoom',\n",
    "            x_range=Range1d(-10.1, 10.1), y_range=Range1d(-10.1, 10.1), title=title) #plot_width=1500, plot_height=1500 크기조절\n",
    "\n",
    "#Create a network graph object\n",
    "network_graph = from_networkx(G, networkx.spring_layout, scale=10, center=(0, 0))\n",
    "\n",
    "#Set node sizes and colors according to node degree (color as category from attribute)\n",
    "network_graph.node_renderer.glyph = Circle(size=size_by_this_attribute, fill_color=color_by_this_attribute)\n",
    "#Set node highlight colors\n",
    "network_graph.node_renderer.hover_glyph = Circle(size=size_by_this_attribute, fill_color=node_highlight_color, line_width=2)\n",
    "network_graph.node_renderer.selection_glyph = Circle(size=size_by_this_attribute, fill_color=node_highlight_color, line_width=2)\n",
    "\n",
    "#Set edge opacity and width\n",
    "network_graph.edge_renderer.glyph = MultiLine(line_alpha=0.5, line_width=1)\n",
    "#Set edge highlight colors\n",
    "network_graph.edge_renderer.selection_glyph = MultiLine(line_color=edge_highlight_color, line_width=2)\n",
    "network_graph.edge_renderer.hover_glyph = MultiLine(line_color=edge_highlight_color, line_width=2)\n",
    "\n",
    "#Highlight nodes and edges\n",
    "network_graph.selection_policy = NodesAndLinkedEdges()\n",
    "network_graph.inspection_policy = NodesAndLinkedEdges()\n",
    "\n",
    "plot.renderers.append(network_graph)\n",
    "\n",
    "#Add Labels\n",
    "x, y = zip(*network_graph.layout_provider.graph_layout.values())\n",
    "node_labels = list(G.nodes())\n",
    "source = ColumnDataSource({'x': x, 'y': y, 'name': [node_labels[i] for i in range(len(x))]})\n",
    "labels = LabelSet(x='x', y='y', text='name', source=source, background_fill_color='white', text_font_size='10px', background_fill_alpha=.7)\n",
    "plot.renderers.append(labels)\n",
    "\n",
    "show(plot)\n",
    "#save(plot, filename=f\"{title}.html\")"
   ]
  },
  {
   "cell_type": "code",
   "execution_count": null,
   "id": "157b4d25-c74f-44d5-aac8-fcd9092def7a",
   "metadata": {},
   "outputs": [],
   "source": [
    "## reference\n",
    "## https://melaniewalsh.github.io/Intro-Cultural-Analytics/welcome.html"
   ]
  }
 ],
 "metadata": {
  "kernelspec": {
   "display_name": "Python 3",
   "language": "python",
   "name": "python3"
  },
  "language_info": {
   "codemirror_mode": {
    "name": "ipython",
    "version": 3
   },
   "file_extension": ".py",
   "mimetype": "text/x-python",
   "name": "python",
   "nbconvert_exporter": "python",
   "pygments_lexer": "ipython3",
   "version": "3.8.8"
  }
 },
 "nbformat": 4,
 "nbformat_minor": 5
}
