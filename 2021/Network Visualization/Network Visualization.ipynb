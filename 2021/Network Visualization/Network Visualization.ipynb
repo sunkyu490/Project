{
 "cells": [
  {
   "cell_type": "markdown",
   "id": "061710fb-a02b-4702-9f24-3619744ebbbd",
   "metadata": {},
   "source": [
    "# Network Visualization with Bokeh"
   ]
  },
  {
   "cell_type": "markdown",
   "id": "402654bf-e363-4167-8784-81cade9a0d82",
   "metadata": {},
   "source": [
    "###  Importing Libraries"
   ]
  },
  {
   "cell_type": "code",
   "execution_count": 126,
   "id": "e8ef8861-1916-4105-9852-5824fa7746ea",
   "metadata": {},
   "outputs": [],
   "source": [
    "import pandas as pd\n",
    "import networkx\n",
    "import matplotlib.pyplot as plt\n",
    "import numpy as np"
   ]
  },
  {
   "cell_type": "markdown",
   "id": "3557d5e8-261f-4d47-a18a-35f2073f5e82",
   "metadata": {},
   "source": [
    "### Loading the Data Set"
   ]
  },
  {
   "cell_type": "code",
   "execution_count": 127,
   "id": "153324b5-4ae8-4a93-a362-1a5bab94a661",
   "metadata": {},
   "outputs": [],
   "source": [
    "df = pd.read_csv('./drug_gene2.csv')\n",
    "# 데이터 불러오기"
   ]
  },
  {
   "cell_type": "markdown",
   "id": "14367ba3-016a-4ee7-88fa-e10efe5f4914",
   "metadata": {},
   "source": [
    "### Basic Data Exploration"
   ]
  },
  {
   "cell_type": "code",
   "execution_count": 128,
   "id": "e9019c21-4860-43e5-858c-b6cd8fad9e69",
   "metadata": {},
   "outputs": [
    {
     "data": {
      "text/html": [
       "<div>\n",
       "<style scoped>\n",
       "    .dataframe tbody tr th:only-of-type {\n",
       "        vertical-align: middle;\n",
       "    }\n",
       "\n",
       "    .dataframe tbody tr th {\n",
       "        vertical-align: top;\n",
       "    }\n",
       "\n",
       "    .dataframe thead th {\n",
       "        text-align: right;\n",
       "    }\n",
       "</style>\n",
       "<table border=\"1\" class=\"dataframe\">\n",
       "  <thead>\n",
       "    <tr style=\"text-align: right;\">\n",
       "      <th></th>\n",
       "      <th>DRUG_NAME</th>\n",
       "      <th>TARGET_NAME</th>\n",
       "      <th>GENE</th>\n",
       "      <th>ORGANISM</th>\n",
       "    </tr>\n",
       "  </thead>\n",
       "  <tbody>\n",
       "    <tr>\n",
       "      <th>0</th>\n",
       "      <td>levobupivacaine</td>\n",
       "      <td>Sodium channel protein type 4 subunit alpha</td>\n",
       "      <td>SCN4A</td>\n",
       "      <td>Homo sapiens</td>\n",
       "    </tr>\n",
       "    <tr>\n",
       "      <th>1</th>\n",
       "      <td>levobupivacaine</td>\n",
       "      <td>Cytochrome P450 2D6</td>\n",
       "      <td>CYP2D6</td>\n",
       "      <td>Homo sapiens</td>\n",
       "    </tr>\n",
       "    <tr>\n",
       "      <th>2</th>\n",
       "      <td>levobupivacaine</td>\n",
       "      <td>Potassium voltage-gated channel subfamily H me...</td>\n",
       "      <td>KCNH2</td>\n",
       "      <td>Homo sapiens</td>\n",
       "    </tr>\n",
       "    <tr>\n",
       "      <th>3</th>\n",
       "      <td>levobupivacaine</td>\n",
       "      <td>Potassium voltage-gated channel subfamily D me...</td>\n",
       "      <td>KCND3</td>\n",
       "      <td>Homo sapiens</td>\n",
       "    </tr>\n",
       "    <tr>\n",
       "      <th>4</th>\n",
       "      <td>levobupivacaine</td>\n",
       "      <td>Prostaglandin E2 receptor EP1 subtype</td>\n",
       "      <td>PTGER1</td>\n",
       "      <td>Homo sapiens</td>\n",
       "    </tr>\n",
       "    <tr>\n",
       "      <th>...</th>\n",
       "      <td>...</td>\n",
       "      <td>...</td>\n",
       "      <td>...</td>\n",
       "      <td>...</td>\n",
       "    </tr>\n",
       "    <tr>\n",
       "      <th>12106</th>\n",
       "      <td>niraparib</td>\n",
       "      <td>Poly [ADP-ribose] polymerase 2</td>\n",
       "      <td>PARP2</td>\n",
       "      <td>Homo sapiens</td>\n",
       "    </tr>\n",
       "    <tr>\n",
       "      <th>12107</th>\n",
       "      <td>ocrelizumab</td>\n",
       "      <td>B-lymphocyte antigen CD20</td>\n",
       "      <td>MS4A1</td>\n",
       "      <td>Homo sapiens</td>\n",
       "    </tr>\n",
       "    <tr>\n",
       "      <th>12108</th>\n",
       "      <td>dupilumab</td>\n",
       "      <td>Interleukin-4 receptor subunit alpha</td>\n",
       "      <td>IL4R</td>\n",
       "      <td>Homo sapiens</td>\n",
       "    </tr>\n",
       "    <tr>\n",
       "      <th>12109</th>\n",
       "      <td>deutetrabenazine</td>\n",
       "      <td>Synaptic vesicular amine transporter</td>\n",
       "      <td>SLC18A2</td>\n",
       "      <td>Homo sapiens</td>\n",
       "    </tr>\n",
       "    <tr>\n",
       "      <th>12110</th>\n",
       "      <td>valbenazine</td>\n",
       "      <td>Synaptic vesicular amine transporter</td>\n",
       "      <td>SLC18A2</td>\n",
       "      <td>Homo sapiens</td>\n",
       "    </tr>\n",
       "  </tbody>\n",
       "</table>\n",
       "<p>12111 rows × 4 columns</p>\n",
       "</div>"
      ],
      "text/plain": [
       "              DRUG_NAME                                        TARGET_NAME  \\\n",
       "0       levobupivacaine        Sodium channel protein type 4 subunit alpha   \n",
       "1       levobupivacaine                                Cytochrome P450 2D6   \n",
       "2       levobupivacaine  Potassium voltage-gated channel subfamily H me...   \n",
       "3       levobupivacaine  Potassium voltage-gated channel subfamily D me...   \n",
       "4       levobupivacaine              Prostaglandin E2 receptor EP1 subtype   \n",
       "...                 ...                                                ...   \n",
       "12106         niraparib                     Poly [ADP-ribose] polymerase 2   \n",
       "12107       ocrelizumab                          B-lymphocyte antigen CD20   \n",
       "12108         dupilumab               Interleukin-4 receptor subunit alpha   \n",
       "12109  deutetrabenazine               Synaptic vesicular amine transporter   \n",
       "12110       valbenazine               Synaptic vesicular amine transporter   \n",
       "\n",
       "          GENE      ORGANISM  \n",
       "0        SCN4A  Homo sapiens  \n",
       "1       CYP2D6  Homo sapiens  \n",
       "2        KCNH2  Homo sapiens  \n",
       "3        KCND3  Homo sapiens  \n",
       "4       PTGER1  Homo sapiens  \n",
       "...        ...           ...  \n",
       "12106    PARP2  Homo sapiens  \n",
       "12107    MS4A1  Homo sapiens  \n",
       "12108     IL4R  Homo sapiens  \n",
       "12109  SLC18A2  Homo sapiens  \n",
       "12110  SLC18A2  Homo sapiens  \n",
       "\n",
       "[12111 rows x 4 columns]"
      ]
     },
     "execution_count": 128,
     "metadata": {},
     "output_type": "execute_result"
    }
   ],
   "source": [
    "df\n",
    "# 데이터 살펴보기"
   ]
  },
  {
   "cell_type": "code",
   "execution_count": 102,
   "id": "8486c443-ce09-4b27-bd5a-450d01de6813",
   "metadata": {},
   "outputs": [
    {
     "data": {
      "text/plain": [
       "sunitinib           263\n",
       "nintedanib          218\n",
       "bosutinib           200\n",
       "crizotinib          147\n",
       "dasatinib           127\n",
       "                   ... \n",
       "necitumumab           1\n",
       "cyclophosphamide      1\n",
       "benoxaprofen          1\n",
       "lumefantrine          1\n",
       "romiplostim           1\n",
       "Name: DRUG_NAME, Length: 2087, dtype: int64"
      ]
     },
     "execution_count": 102,
     "metadata": {},
     "output_type": "execute_result"
    }
   ],
   "source": [
    "df['DRUG_NAME'].value_counts()"
   ]
  },
  {
   "cell_type": "code",
   "execution_count": 100,
   "id": "26441651-f1a0-4e3f-aa5d-388688d36570",
   "metadata": {},
   "outputs": [
    {
     "data": {
      "text/plain": [
       "HTR2A           173\n",
       "ADRA2A          166\n",
       "KCNH2           159\n",
       "CHRM1           158\n",
       "DRD3            158\n",
       "               ... \n",
       "AOC3              1\n",
       "HCRTR1            1\n",
       "RDH12             1\n",
       "IL11RA|IL6ST      1\n",
       "PRKCI             1\n",
       "Name: GENE, Length: 1497, dtype: int64"
      ]
     },
     "execution_count": 100,
     "metadata": {},
     "output_type": "execute_result"
    }
   ],
   "source": [
    "df['GENE'].value_counts()"
   ]
  },
  {
   "cell_type": "code",
   "execution_count": 101,
   "id": "35988722-8b24-4930-8174-7407cef68c49",
   "metadata": {},
   "outputs": [
    {
     "data": {
      "text/html": [
       "<div>\n",
       "<style scoped>\n",
       "    .dataframe tbody tr th:only-of-type {\n",
       "        vertical-align: middle;\n",
       "    }\n",
       "\n",
       "    .dataframe tbody tr th {\n",
       "        vertical-align: top;\n",
       "    }\n",
       "\n",
       "    .dataframe thead th {\n",
       "        text-align: right;\n",
       "    }\n",
       "</style>\n",
       "<table border=\"1\" class=\"dataframe\">\n",
       "  <thead>\n",
       "    <tr style=\"text-align: right;\">\n",
       "      <th></th>\n",
       "      <th>DRUG_NAME</th>\n",
       "      <th>GENE</th>\n",
       "    </tr>\n",
       "  </thead>\n",
       "  <tbody>\n",
       "    <tr>\n",
       "      <th>0</th>\n",
       "      <td>levobupivacaine</td>\n",
       "      <td>SCN4A</td>\n",
       "    </tr>\n",
       "    <tr>\n",
       "      <th>1</th>\n",
       "      <td>levobupivacaine</td>\n",
       "      <td>CYP2D6</td>\n",
       "    </tr>\n",
       "    <tr>\n",
       "      <th>2</th>\n",
       "      <td>levobupivacaine</td>\n",
       "      <td>KCNH2</td>\n",
       "    </tr>\n",
       "    <tr>\n",
       "      <th>3</th>\n",
       "      <td>levobupivacaine</td>\n",
       "      <td>KCND3</td>\n",
       "    </tr>\n",
       "    <tr>\n",
       "      <th>4</th>\n",
       "      <td>levobupivacaine</td>\n",
       "      <td>PTGER1</td>\n",
       "    </tr>\n",
       "    <tr>\n",
       "      <th>...</th>\n",
       "      <td>...</td>\n",
       "      <td>...</td>\n",
       "    </tr>\n",
       "    <tr>\n",
       "      <th>12106</th>\n",
       "      <td>niraparib</td>\n",
       "      <td>PARP2</td>\n",
       "    </tr>\n",
       "    <tr>\n",
       "      <th>12107</th>\n",
       "      <td>ocrelizumab</td>\n",
       "      <td>MS4A1</td>\n",
       "    </tr>\n",
       "    <tr>\n",
       "      <th>12108</th>\n",
       "      <td>dupilumab</td>\n",
       "      <td>IL4R</td>\n",
       "    </tr>\n",
       "    <tr>\n",
       "      <th>12109</th>\n",
       "      <td>deutetrabenazine</td>\n",
       "      <td>SLC18A2</td>\n",
       "    </tr>\n",
       "    <tr>\n",
       "      <th>12110</th>\n",
       "      <td>valbenazine</td>\n",
       "      <td>SLC18A2</td>\n",
       "    </tr>\n",
       "  </tbody>\n",
       "</table>\n",
       "<p>12111 rows × 2 columns</p>\n",
       "</div>"
      ],
      "text/plain": [
       "              DRUG_NAME     GENE\n",
       "0       levobupivacaine    SCN4A\n",
       "1       levobupivacaine   CYP2D6\n",
       "2       levobupivacaine    KCNH2\n",
       "3       levobupivacaine    KCND3\n",
       "4       levobupivacaine   PTGER1\n",
       "...                 ...      ...\n",
       "12106         niraparib    PARP2\n",
       "12107       ocrelizumab    MS4A1\n",
       "12108         dupilumab     IL4R\n",
       "12109  deutetrabenazine  SLC18A2\n",
       "12110       valbenazine  SLC18A2\n",
       "\n",
       "[12111 rows x 2 columns]"
      ]
     },
     "execution_count": 101,
     "metadata": {},
     "output_type": "execute_result"
    }
   ],
   "source": [
    "df[['DRUG_NAME','GENE']]"
   ]
  },
  {
   "cell_type": "code",
   "execution_count": 105,
   "id": "d32f8446-8581-4f25-981b-cd50165aaac8",
   "metadata": {},
   "outputs": [],
   "source": [
    "result2 = result[['DRUG_NAME','GENE']].copy()\n",
    "#DRUG_NAME 과 GENE 컬럼만 모아서 저장"
   ]
  },
  {
   "cell_type": "code",
   "execution_count": 106,
   "id": "debad5d7-78ab-435e-8a12-388e86441d56",
   "metadata": {},
   "outputs": [
    {
     "data": {
      "text/html": [
       "<div>\n",
       "<style scoped>\n",
       "    .dataframe tbody tr th:only-of-type {\n",
       "        vertical-align: middle;\n",
       "    }\n",
       "\n",
       "    .dataframe tbody tr th {\n",
       "        vertical-align: top;\n",
       "    }\n",
       "\n",
       "    .dataframe thead th {\n",
       "        text-align: right;\n",
       "    }\n",
       "</style>\n",
       "<table border=\"1\" class=\"dataframe\">\n",
       "  <thead>\n",
       "    <tr style=\"text-align: right;\">\n",
       "      <th></th>\n",
       "      <th>DRUG_NAME</th>\n",
       "      <th>GENE</th>\n",
       "    </tr>\n",
       "  </thead>\n",
       "  <tbody>\n",
       "    <tr>\n",
       "      <th>count</th>\n",
       "      <td>167</td>\n",
       "      <td>167</td>\n",
       "    </tr>\n",
       "    <tr>\n",
       "      <th>unique</th>\n",
       "      <td>122</td>\n",
       "      <td>29</td>\n",
       "    </tr>\n",
       "    <tr>\n",
       "      <th>top</th>\n",
       "      <td>bosutinib</td>\n",
       "      <td>SCN5A</td>\n",
       "    </tr>\n",
       "    <tr>\n",
       "      <th>freq</th>\n",
       "      <td>7</td>\n",
       "      <td>38</td>\n",
       "    </tr>\n",
       "  </tbody>\n",
       "</table>\n",
       "</div>"
      ],
      "text/plain": [
       "        DRUG_NAME   GENE\n",
       "count         167    167\n",
       "unique        122     29\n",
       "top     bosutinib  SCN5A\n",
       "freq            7     38"
      ]
     },
     "execution_count": 106,
     "metadata": {},
     "output_type": "execute_result"
    }
   ],
   "source": [
    "result2.describe()"
   ]
  },
  {
   "cell_type": "code",
   "execution_count": 107,
   "id": "09b14e4f-50af-4645-af3e-533fa2d0d96a",
   "metadata": {},
   "outputs": [
    {
     "data": {
      "text/html": [
       "<div>\n",
       "<style scoped>\n",
       "    .dataframe tbody tr th:only-of-type {\n",
       "        vertical-align: middle;\n",
       "    }\n",
       "\n",
       "    .dataframe tbody tr th {\n",
       "        vertical-align: top;\n",
       "    }\n",
       "\n",
       "    .dataframe thead th {\n",
       "        text-align: right;\n",
       "    }\n",
       "</style>\n",
       "<table border=\"1\" class=\"dataframe\">\n",
       "  <thead>\n",
       "    <tr style=\"text-align: right;\">\n",
       "      <th></th>\n",
       "      <th>DRUG_NAME</th>\n",
       "      <th>GENE</th>\n",
       "    </tr>\n",
       "  </thead>\n",
       "  <tbody>\n",
       "    <tr>\n",
       "      <th>6269</th>\n",
       "      <td>perhexiline</td>\n",
       "      <td>CPT2</td>\n",
       "    </tr>\n",
       "    <tr>\n",
       "      <th>7765</th>\n",
       "      <td>sunitinib</td>\n",
       "      <td>INSRR</td>\n",
       "    </tr>\n",
       "    <tr>\n",
       "      <th>10309</th>\n",
       "      <td>crizotinib</td>\n",
       "      <td>INSRR</td>\n",
       "    </tr>\n",
       "    <tr>\n",
       "      <th>11664</th>\n",
       "      <td>nintedanib</td>\n",
       "      <td>INSRR</td>\n",
       "    </tr>\n",
       "    <tr>\n",
       "      <th>351</th>\n",
       "      <td>amitriptyline</td>\n",
       "      <td>NTRK1</td>\n",
       "    </tr>\n",
       "    <tr>\n",
       "      <th>...</th>\n",
       "      <td>...</td>\n",
       "      <td>...</td>\n",
       "    </tr>\n",
       "    <tr>\n",
       "      <th>3410</th>\n",
       "      <td>floxacillin</td>\n",
       "      <td>MMP9</td>\n",
       "    </tr>\n",
       "    <tr>\n",
       "      <th>7225</th>\n",
       "      <td>secobarbital</td>\n",
       "      <td>MMP9</td>\n",
       "    </tr>\n",
       "    <tr>\n",
       "      <th>8890</th>\n",
       "      <td>zoledronic acid</td>\n",
       "      <td>MMP9</td>\n",
       "    </tr>\n",
       "    <tr>\n",
       "      <th>9355</th>\n",
       "      <td>quercetin</td>\n",
       "      <td>MMP9</td>\n",
       "    </tr>\n",
       "    <tr>\n",
       "      <th>10548</th>\n",
       "      <td>prazosin</td>\n",
       "      <td>MMP9</td>\n",
       "    </tr>\n",
       "  </tbody>\n",
       "</table>\n",
       "<p>167 rows × 2 columns</p>\n",
       "</div>"
      ],
      "text/plain": [
       "             DRUG_NAME   GENE\n",
       "6269       perhexiline   CPT2\n",
       "7765         sunitinib  INSRR\n",
       "10309       crizotinib  INSRR\n",
       "11664       nintedanib  INSRR\n",
       "351      amitriptyline  NTRK1\n",
       "...                ...    ...\n",
       "3410       floxacillin   MMP9\n",
       "7225      secobarbital   MMP9\n",
       "8890   zoledronic acid   MMP9\n",
       "9355         quercetin   MMP9\n",
       "10548         prazosin   MMP9\n",
       "\n",
       "[167 rows x 2 columns]"
      ]
     },
     "execution_count": 107,
     "metadata": {},
     "output_type": "execute_result"
    }
   ],
   "source": [
    "result2"
   ]
  },
  {
   "cell_type": "markdown",
   "id": "71ae140d-c8a6-4444-bbb9-b9aea1dd68fd",
   "metadata": {},
   "source": [
    "## Importing Bokeh"
   ]
  },
  {
   "cell_type": "code",
   "execution_count": 108,
   "id": "2a1cf123-3247-4941-b98c-1a56424b9715",
   "metadata": {},
   "outputs": [],
   "source": [
    "G = networkx.from_pandas_edgelist(result2, 'GENE', 'DRUG_NAME')"
   ]
  },
  {
   "cell_type": "code",
   "execution_count": 109,
   "id": "8f6b66c9-bc21-43ac-8eab-bff729f9ce42",
   "metadata": {},
   "outputs": [],
   "source": [
    "from bokeh.io import output_notebook, show, save\n",
    "from bokeh.models import Range1d, Circle, ColumnDataSource, MultiLine\n",
    "from bokeh.plotting import figure\n",
    "from bokeh.plotting import from_networkx"
   ]
  },
  {
   "cell_type": "code",
   "execution_count": 110,
   "id": "7d4bd5d4-baf0-472e-a06f-072ef16f0bd9",
   "metadata": {},
   "outputs": [],
   "source": [
    "# output_notebook()"
   ]
  },
  {
   "cell_type": "markdown",
   "id": "0000a92b-2e1f-49ca-aff5-03962c617b44",
   "metadata": {},
   "source": [
    "## Basic Network"
   ]
  },
  {
   "cell_type": "code",
   "execution_count": 134,
   "id": "e66241f0-3734-4f75-9029-584ddedcb27f",
   "metadata": {},
   "outputs": [
    {
     "data": {
      "text/html": [
       "\n",
       "\n",
       "\n",
       "\n",
       "\n",
       "\n",
       "  <div class=\"bk-root\" id=\"acd874a3-9ee3-44cd-a1de-5cd8ca2b0c80\" data-root-id=\"7583\"></div>\n"
      ]
     },
     "metadata": {},
     "output_type": "display_data"
    },
    {
     "data": {
      "application/javascript": [
       "(function(root) {\n",
       "  function embed_document(root) {\n",
       "    \n",
       "  var docs_json = {\"cfd334c6-e529-48cb-94c7-eb1281c02ec8\":{\"defs\":[],\"roots\":{\"references\":[{\"attributes\":{\"below\":[{\"id\":\"7592\"}],\"center\":[{\"id\":\"7595\"},{\"id\":\"7599\"}],\"left\":[{\"id\":\"7596\"}],\"renderers\":[{\"id\":\"7611\"}],\"title\":{\"id\":\"7584\"},\"toolbar\":{\"id\":\"7605\"},\"x_range\":{\"id\":\"7581\"},\"x_scale\":{\"id\":\"7588\"},\"y_range\":{\"id\":\"7582\"},\"y_scale\":{\"id\":\"7590\"}},\"id\":\"7583\",\"subtype\":\"Figure\",\"type\":\"Plot\"},{\"attributes\":{},\"id\":\"7593\",\"type\":\"BasicTicker\"},{\"attributes\":{\"graph_layout\":{\"ABAT\":[8.460282506084893,4.896205980972271],\"ABCC1\":[-0.0462834808815925,-1.7820376364219914],\"ABCC10\":[-1.0836565901801143,-2.865049670071926],\"ABCC11\":[-10.0,0.3956462431369551],\"ALK\":[-1.9071041588888638,-0.2514838306075158],\"ALK|NPM1\":[-2.073179280181004,0.9643060404042861],\"ANPEP\":[-1.0679031107880228,8.5148837921503],\"BLK\":[-2.1135525310267074,0.19432430821470467],\"CPT2\":[6.20298495579643,-3.3018905037479707],\"CSNK1A1L\":[-2.1033632530919437,1.1454326214986998],\"DNMT3B\":[8.083189871771717,0.24129915388854242],\"HCN2\":[-4.879484392977295,6.101226074082084],\"HDAC4\":[-2.1288649526576093,-8.485301779286662],\"HSD17B2\":[-2.549826056337528,-2.3549916556225092],\"INSRR\":[-1.7473007120338124,1.0231625618588474],\"KDM1B\":[3.360419708620664,-8.098066793597562],\"MAP3K11\":[-2.1450562419354164,0.7245308982181965],\"MAPT\":[6.687577313233602,-2.88560955953611],\"MMP9\":[-3.6982091655842644,-3.898216483536798],\"NTRK1\":[-0.9261011909780188,0.8403789654023139],\"PARP1\":[-1.8886531279409142,4.355565941395836],\"PARP10\":[-2.9310175148121402,5.313614621268021],\"PARP12\":[-2.5654807690920296,5.549567898731367],\"PARP14\":[-2.8267269508022608,5.528468731242579],\"PARP15\":[-3.058580941500799,5.106924472508129],\"SCN5A\":[2.7318404370371043,2.213113939289728],\"SIRT1\":[-2.3398648439983765,7.389059489575027],\"SLC7A5\":[4.878758955862739,1.8546704272148171],\"TAOK2\":[-1.7641796072400984,0.28856446811588465],\"acetoxolone\":[-2.458846170296138,-2.050269764361067],\"afatinib\":[-2.8951058769107303,0.27733681766534024],\"alectinib\":[-2.551986327504599,-0.5538022551374885],\"aminoquinuride\":[-4.100021191027124,-3.5523686651154573],\"amiodarone\":[2.7893822937928148,3.141892021446479],\"amitriptyline\":[0.8794520090205123,1.5548101385059427],\"anhydrovinblastine\":[-0.5574436232510763,-2.568398189084149],\"aprindine\":[3.364444663341275,2.3218664111053107],\"axitinib\":[-1.516255660360908,0.7867209035876812],\"beclometasone dipropionate\":[-3.8842013953065,-4.697342028225331],\"belinostat\":[-2.471748390702054,-8.329932901042582],\"benzbromarone\":[-0.05975122342363839,-1.396781799208856],\"benzocaine\":[3.4786256017949833,2.7899247146583597],\"benzonatate\":[3.6144048922454726,2.202200599801558],\"bepridil\":[3.202909235855788,2.8035463037304837],\"bosutinib\":[-1.846661416867538,0.5846691046773607],\"budesonide\":[-4.51220003604648,-4.119284088075872],\"busulfan\":[-4.1863530798422195,-3.820546755182719],\"carbamazepine\":[2.9932999692376483,2.7657612414119632],\"cefalotin\":[-4.096195408781221,-4.632335508859022],\"cefonicid\":[-4.383775184205486,-3.657844801285971],\"cefotetan\":[-3.4501006569071566,-4.567034616973487],\"cefotiam\":[-4.018157194728613,-4.118077816961709],\"cefradine\":[-4.291970093282665,-4.515649822700418],\"cefuroxime\":[-3.6557194014639474,-4.672726762440671],\"ceritinib\":[-1.2469668006628118,0.29297089548121874],\"chlorhexidine\":[-3.5985024216353505,-4.31598553961103],\"chlorthenoxazine\":[-1.4965155961624885,4.178946432598435],\"ciclosporin\":[0.7053030526604119,-1.8392964699992258],\"cinchocaine\":[2.412866592027243,2.5395366957310546],\"cocaine\":[3.1500525415219864,3.0453129902151628],\"colchicine\":[0.3087722598296349,-1.403470091744053],\"crizotinib\":[-1.6781958183534218,0.49210649275321017],\"dacarbazine\":[-3.8276099919146827,-4.456960542282795],\"dasatinib\":[-2.3182991271189786,0.1284620287964231],\"daunorubicin\":[0.07903997264206555,-2.3396340936304734],\"daunorubicinol\":[-0.2599537812959623,-2.062505688157104],\"dextropropoxyphene\":[2.808399557135454,2.906838756964039],\"diosmetin\":[0.24296550013623322,-2.6031114722794877],\"diprafenone\":[2.134373204465223,2.719086964794771],\"disopyramide\":[2.7460621301292956,2.6011703158714075],\"docetaxel\":[-1.4035180855081255,-3.4108855026453497],\"doxorubicin\":[0.5396918461619272,-2.2277375215506403],\"dronedarone\":[-5.157758544757482,6.396324174481666],\"econazole\":[-4.42381278744176,-4.340075000027011],\"encainide\":[2.2389246493681925,2.068504386200038],\"erlotinib\":[-2.3254337387611184,-0.2867386082096739],\"etidocaine\":[3.116764232260021,2.4674437361533395],\"etoposide\":[-0.49143264067458825,-1.771972612012554],\"etravirine\":[-0.1629255824550351,-2.528165868462066],\"flecainide\":[3.34726333491039,2.9584198454874797],\"floxacillin\":[-3.339237094818063,-4.304390712105522],\"fluorouracil\":[-9.912385362884,0.656618778705051],\"fosphenytoin\":[2.585256523508738,3.1026775093135406],\"gabapentin\":[3.974081070479598,2.020866303096386],\"gefitinib\":[-2.752984831297777,0.6593834809767462],\"hydralazine\":[8.440413935697993,0.1852547747222587],\"hydroquinidine\":[2.316593816744767,1.8329761413205414],\"ibrutinib\":[-2.8513235420333496,0.4741708657379576],\"idarubicin\":[0.03088009741947761,-2.6152272893814974],\"imatinib\":[-1.091992361219146,-0.8300910977848283],\"indecainide\":[2.32539931892439,2.807027095402178],\"indomethacin\":[0.714244343033754,-2.1046289412290444],\"irinotecan\":[0.5476678838961226,-2.427342975018817],\"ivabradine\":[-4.417411560962503,5.651000985981272],\"lamotrigine\":[2.568669394365007,2.85663612672071],\"lansoprazole\":[6.619859909231632,-2.5299319266947435],\"lidocaine\":[3.5134395170524586,1.8461586642390626],\"lorcainide\":[3.0994495071852906,1.858296798021044],\"mepivacaine\":[3.3362148529635496,1.7556955772548846],\"methotrexate\":[0.25093131965760135,-2.1258019496885407],\"methylthioninium chloride\":[6.982396548675989,-2.636005020892427],\"mexiletine\":[2.831819668167669,1.7887836374988406],\"mezlocillin\":[0.35996351757386813,-1.6856985743531692],\"mitoxantrone\":[-0.2600748804226131,-2.30242981046957],\"moracizine\":[2.367928791760879,3.0165633135051872],\"nefopam\":[2.9781272071318283,3.1078109983035396],\"nicotinamide\":[-2.091480827804843,6.65818211349076],\"nilotinib\":[-2.8839043990374766,0.05795264383805447],\"nintedanib\":[-1.6651056229028305,0.5689293853227757],\"niraparib\":[-1.4987262126749583,3.7696769112869855],\"olaparib\":[-1.916854980533908,4.82759874018831],\"orphenadrine\":[3.6033465570330137,2.4122640196212664],\"oxcarbazepine\":[2.12882397269559,2.492860467983125],\"paclitaxel\":[-1.6125411860982601,-3.1866143403706073],\"panobinostat\":[-2.2351164972421502,-9.10062645436446],\"pazopanib\":[-2.2094113262793367,0.31664294648971025],\"perhexiline\":[6.690470860858194,-3.327425066632654],\"phenytoin\":[2.52815805373616,1.7253636098898493],\"pimozide\":[0.585501976407495,-1.5810614208755556],\"pirmenol\":[3.2113341317594153,2.111905463876105],\"prazosin\":[-4.0866474773548855,-4.372877205939322],\"pregabalin\":[5.516545323615045,1.7528538438722936],\"procainamide\":[7.706111319056479,0.29343453535169667],\"propafenone\":[3.3499035096177354,2.5885652466176055],\"quercetin\":[-2.0455522823654557,-2.1485203949311678],\"quinidine\":[3.223736062684037,1.5775031237325157],\"ranolazine\":[3.5825055714861933,2.608813487266162],\"riluzole\":[2.1400522129313972,2.2673730846737934],\"romidepsin\":[-1.987700778940346,-8.250691143239168],\"ropivacaine\":[2.993714659250019,1.5491832366032336],\"ruboxistaurin\":[-1.6766304705934523,-0.1788806507666225],\"rucaparib\":[-2.525523429719848,4.961608133486032],\"ruxolitinib\":[-1.38674459025113,0.2528032085665302],\"saquinavir\":[0.4922466238282753,-1.9595576765509974],\"secobarbital\":[-4.465273438832084,-3.8873519419705214],\"sorafenib\":[-1.251620772766856,0.7680489938153169],\"sulfinpyrazone\":[0.34806152632643217,-2.4326489843034267],\"sunitinib\":[-1.7848054103085362,0.67393270557084],\"suramin\":[-2.5374537998629063,7.947414493010383],\"tetracaine\":[3.476933054219494,2.0463467613140915],\"tolonium\":[6.6188383869560505,-3.407727803362104],\"topiramate\":[2.7225295482206953,1.5397217270037529],\"tranylcypromine\":[3.1784091091461155,-7.729767610783424],\"ubenimex\":[-1.0348463752495385,8.21617870600759],\"vandetanib\":[-2.4717568246417496,-0.14494049248237886],\"verapamil\":[1.351374387684987,0.21221111275493068],\"vigabatrin\":[8.734911601264818,5.020457888809869],\"vinblastine\":[-0.7368660696266562,-2.315929637454032],\"vincristine\":[-0.6403946912243234,-2.4364182888789325],\"vorinostat\":[-1.766152434923097,-8.600845267264274],\"zoledronic acid\":[-4.276571305741181,-4.117530867046973]}},\"id\":\"7620\",\"type\":\"StaticLayoutProvider\"},{\"attributes\":{\"data_source\":{\"id\":\"7613\"},\"glyph\":{\"id\":\"7621\"},\"hover_glyph\":null,\"muted_glyph\":null,\"view\":{\"id\":\"7615\"}},\"id\":\"7614\",\"type\":\"GlyphRenderer\"},{\"attributes\":{},\"id\":\"8006\",\"type\":\"NodesOnly\"},{\"attributes\":{\"data\":{\"adjusted_node_size\":[6,6,8,11,11,10,14,7,7,8,7,12,7,9,6,6,10,6,6,6,6,6,16,7,9,9,7,7,6,9,6,6,6,6,43,6,6,6,6,6,6,6,6,6,6,6,6,6,6,6,6,7,6,6,6,6,6,6,6,6,6,6,6,6,6,6,6,6,6,6,6,7,6,6,19,7,6,7,6,6,6,7,6,6,9,7,6,6,6,6,6,6,10,7,29,6,6,6,6,6,6,6,6,6,6,6,6,6,6,6,6,6,6,7,7,6,6,12,6,7,6,7,6,8,6,6,6,7,6,6,7,6,6,23,6,6,6,6,6,6,6,6,6,6,6,6,6,6,6,6,6],\"degree\":[1,1,3,6,6,5,9,2,2,3,2,7,2,4,1,1,5,1,1,1,1,1,11,2,4,4,2,2,1,4,1,1,1,1,38,1,1,1,1,1,1,1,1,1,1,1,1,1,1,1,1,2,1,1,1,1,1,1,1,1,1,1,1,1,1,1,1,1,1,1,1,2,1,1,14,2,1,2,1,1,1,2,1,1,4,2,1,1,1,1,1,1,5,2,24,1,1,1,1,1,1,1,1,1,1,1,1,1,1,1,1,1,1,2,2,1,1,7,1,2,1,2,1,3,1,1,1,2,1,1,2,1,1,18,1,1,1,1,1,1,1,1,1,1,1,1,1,1,1,1,1],\"index\":[\"CPT2\",\"perhexiline\",\"INSRR\",\"sunitinib\",\"crizotinib\",\"nintedanib\",\"NTRK1\",\"amitriptyline\",\"sorafenib\",\"ruxolitinib\",\"axitinib\",\"bosutinib\",\"ceritinib\",\"PARP1\",\"chlorthenoxazine\",\"olaparib\",\"rucaparib\",\"PARP10\",\"PARP12\",\"PARP14\",\"PARP15\",\"niraparib\",\"ALK\",\"erlotinib\",\"quercetin\",\"pazopanib\",\"vandetanib\",\"ALK|NPM1\",\"alectinib\",\"HDAC4\",\"romidepsin\",\"vorinostat\",\"panobinostat\",\"belinostat\",\"SCN5A\",\"amiodarone\",\"aprindine\",\"benzocaine\",\"benzonatate\",\"bepridil\",\"carbamazepine\",\"cocaine\",\"dextropropoxyphene\",\"cinchocaine\",\"hydroquinidine\",\"diprafenone\",\"disopyramide\",\"encainide\",\"etidocaine\",\"flecainide\",\"fosphenytoin\",\"gabapentin\",\"indecainide\",\"lamotrigine\",\"lidocaine\",\"lorcainide\",\"mepivacaine\",\"mexiletine\",\"moracizine\",\"nefopam\",\"orphenadrine\",\"oxcarbazepine\",\"phenytoin\",\"pirmenol\",\"propafenone\",\"quinidine\",\"ranolazine\",\"riluzole\",\"ropivacaine\",\"tetracaine\",\"topiramate\",\"verapamil\",\"KDM1B\",\"tranylcypromine\",\"BLK\",\"dasatinib\",\"gefitinib\",\"imatinib\",\"nilotinib\",\"afatinib\",\"ibrutinib\",\"SIRT1\",\"nicotinamide\",\"suramin\",\"MAP3K11\",\"CSNK1A1L\",\"ANPEP\",\"ubenimex\",\"ABAT\",\"vigabatrin\",\"ABCC11\",\"fluorouracil\",\"ABCC10\",\"anhydrovinblastine\",\"ABCC1\",\"benzbromarone\",\"colchicine\",\"ciclosporin\",\"daunorubicin\",\"docetaxel\",\"doxorubicin\",\"etoposide\",\"etravirine\",\"idarubicin\",\"indomethacin\",\"irinotecan\",\"methotrexate\",\"mezlocillin\",\"mitoxantrone\",\"paclitaxel\",\"pimozide\",\"saquinavir\",\"sulfinpyrazone\",\"vinblastine\",\"vincristine\",\"diosmetin\",\"daunorubicinol\",\"TAOK2\",\"ruboxistaurin\",\"HSD17B2\",\"acetoxolone\",\"SLC7A5\",\"pregabalin\",\"MAPT\",\"lansoprazole\",\"methylthioninium chloride\",\"tolonium\",\"HCN2\",\"ivabradine\",\"dronedarone\",\"DNMT3B\",\"hydralazine\",\"procainamide\",\"MMP9\",\"aminoquinuride\",\"beclometasone dipropionate\",\"budesonide\",\"busulfan\",\"cefonicid\",\"cefotetan\",\"cefotiam\",\"cefuroxime\",\"cefalotin\",\"cefradine\",\"chlorhexidine\",\"dacarbazine\",\"econazole\",\"floxacillin\",\"secobarbital\",\"zoledronic acid\",\"prazosin\"],\"modularity_class\":[null,null,2,2,2,2,2,2,2,2,2,2,2,4,4,4,4,4,4,4,4,4,2,2,3,2,2,2,2,5,5,5,5,5,0,0,0,0,0,0,0,0,0,0,0,0,0,0,0,0,0,null,0,0,0,0,0,0,0,0,0,0,0,0,0,0,0,0,0,0,0,1,null,null,2,2,2,1,2,2,2,7,7,7,2,2,null,null,null,null,null,null,1,1,1,1,1,1,1,1,1,1,1,1,1,1,1,1,1,1,1,1,1,1,1,1,1,2,2,3,3,8,null,6,6,6,6,null,null,null,null,null,null,3,3,3,3,3,3,3,3,3,3,3,3,3,3,3,3,3,3],\"modularity_color\":[null,null,\"#abdda4\",\"#abdda4\",\"#abdda4\",\"#abdda4\",\"#abdda4\",\"#abdda4\",\"#abdda4\",\"#abdda4\",\"#abdda4\",\"#abdda4\",\"#abdda4\",\"#fee08b\",\"#fee08b\",\"#fee08b\",\"#fee08b\",\"#fee08b\",\"#fee08b\",\"#fee08b\",\"#fee08b\",\"#fee08b\",\"#abdda4\",\"#abdda4\",\"#e6f598\",\"#abdda4\",\"#abdda4\",\"#abdda4\",\"#abdda4\",\"#fdae61\",\"#fdae61\",\"#fdae61\",\"#fdae61\",\"#fdae61\",\"#3288bd\",\"#3288bd\",\"#3288bd\",\"#3288bd\",\"#3288bd\",\"#3288bd\",\"#3288bd\",\"#3288bd\",\"#3288bd\",\"#3288bd\",\"#3288bd\",\"#3288bd\",\"#3288bd\",\"#3288bd\",\"#3288bd\",\"#3288bd\",\"#3288bd\",null,\"#3288bd\",\"#3288bd\",\"#3288bd\",\"#3288bd\",\"#3288bd\",\"#3288bd\",\"#3288bd\",\"#3288bd\",\"#3288bd\",\"#3288bd\",\"#3288bd\",\"#3288bd\",\"#3288bd\",\"#3288bd\",\"#3288bd\",\"#3288bd\",\"#3288bd\",\"#3288bd\",\"#3288bd\",\"#66c2a5\",null,null,\"#abdda4\",\"#abdda4\",\"#abdda4\",\"#66c2a5\",\"#abdda4\",\"#abdda4\",\"#abdda4\",\"#d53e4f\",\"#d53e4f\",\"#d53e4f\",\"#abdda4\",\"#abdda4\",null,null,null,null,null,null,\"#66c2a5\",\"#66c2a5\",\"#66c2a5\",\"#66c2a5\",\"#66c2a5\",\"#66c2a5\",\"#66c2a5\",\"#66c2a5\",\"#66c2a5\",\"#66c2a5\",\"#66c2a5\",\"#66c2a5\",\"#66c2a5\",\"#66c2a5\",\"#66c2a5\",\"#66c2a5\",\"#66c2a5\",\"#66c2a5\",\"#66c2a5\",\"#66c2a5\",\"#66c2a5\",\"#66c2a5\",\"#66c2a5\",\"#66c2a5\",\"#66c2a5\",\"#abdda4\",\"#abdda4\",\"#e6f598\",\"#e6f598\",null,null,\"#f46d43\",\"#f46d43\",\"#f46d43\",\"#f46d43\",null,null,null,null,null,null,\"#e6f598\",\"#e6f598\",\"#e6f598\",\"#e6f598\",\"#e6f598\",\"#e6f598\",\"#e6f598\",\"#e6f598\",\"#e6f598\",\"#e6f598\",\"#e6f598\",\"#e6f598\",\"#e6f598\",\"#e6f598\",\"#e6f598\",\"#e6f598\",\"#e6f598\",\"#e6f598\"]},\"selected\":{\"id\":\"8010\"},\"selection_policy\":{\"id\":\"8009\"}},\"id\":\"7613\",\"type\":\"ColumnDataSource\"},{\"attributes\":{\"end\":10.1,\"start\":-10.1},\"id\":\"7581\",\"type\":\"Range1d\"},{\"attributes\":{},\"id\":\"7992\",\"type\":\"BasicTickFormatter\"},{\"attributes\":{},\"id\":\"7993\",\"type\":\"AllLabels\"},{\"attributes\":{},\"id\":\"8007\",\"type\":\"UnionRenderers\"},{\"attributes\":{},\"id\":\"7603\",\"type\":\"ResetTool\"},{\"attributes\":{\"axis\":{\"id\":\"7596\"},\"dimension\":1,\"ticker\":null},\"id\":\"7599\",\"type\":\"Grid\"},{\"attributes\":{\"active_multi\":null,\"active_scroll\":{\"id\":\"7601\"},\"tools\":[{\"id\":\"7600\"},{\"id\":\"7601\"},{\"id\":\"7602\"},{\"id\":\"7603\"},{\"id\":\"7604\"}]},\"id\":\"7605\",\"type\":\"Toolbar\"},{\"attributes\":{},\"id\":\"7995\",\"type\":\"BasicTickFormatter\"},{\"attributes\":{\"axis\":{\"id\":\"7592\"},\"ticker\":null},\"id\":\"7595\",\"type\":\"Grid\"},{\"attributes\":{\"callback\":null,\"tooltips\":[[\"Character\",\"@index\"]]},\"id\":\"7604\",\"type\":\"HoverTool\"},{\"attributes\":{},\"id\":\"7597\",\"type\":\"BasicTicker\"},{\"attributes\":{\"edge_renderer\":{\"id\":\"7618\"},\"inspection_policy\":{\"id\":\"8006\"},\"layout_provider\":{\"id\":\"7620\"},\"node_renderer\":{\"id\":\"7614\"},\"selection_policy\":{\"id\":\"8001\"}},\"id\":\"7611\",\"type\":\"GraphRenderer\"},{\"attributes\":{\"data\":{\"end\":[\"perhexiline\",\"sunitinib\",\"crizotinib\",\"nintedanib\",\"NTRK1\",\"ALK\",\"BLK\",\"MAP3K11\",\"CSNK1A1L\",\"NTRK1\",\"ALK|NPM1\",\"ALK\",\"BLK\",\"TAOK2\",\"NTRK1\",\"ALK\",\"BLK\",\"MAP3K11\",\"amitriptyline\",\"sorafenib\",\"ruxolitinib\",\"axitinib\",\"bosutinib\",\"ceritinib\",\"SCN5A\",\"TAOK2\",\"ALK\",\"TAOK2\",\"BLK\",\"ALK|NPM1\",\"ALK\",\"BLK\",\"MAP3K11\",\"CSNK1A1L\",\"TAOK2\",\"ALK\",\"chlorthenoxazine\",\"olaparib\",\"rucaparib\",\"niraparib\",\"PARP10\",\"PARP12\",\"PARP14\",\"PARP15\",\"erlotinib\",\"quercetin\",\"pazopanib\",\"vandetanib\",\"alectinib\",\"BLK\",\"ABCC1\",\"HSD17B2\",\"MMP9\",\"BLK\",\"MAP3K11\",\"TAOK2\",\"BLK\",\"romidepsin\",\"vorinostat\",\"panobinostat\",\"belinostat\",\"amiodarone\",\"aprindine\",\"benzocaine\",\"benzonatate\",\"bepridil\",\"carbamazepine\",\"cocaine\",\"dextropropoxyphene\",\"cinchocaine\",\"hydroquinidine\",\"diprafenone\",\"disopyramide\",\"encainide\",\"etidocaine\",\"flecainide\",\"fosphenytoin\",\"gabapentin\",\"indecainide\",\"lamotrigine\",\"lidocaine\",\"lorcainide\",\"mepivacaine\",\"mexiletine\",\"moracizine\",\"nefopam\",\"orphenadrine\",\"oxcarbazepine\",\"phenytoin\",\"pirmenol\",\"propafenone\",\"quinidine\",\"ranolazine\",\"riluzole\",\"ropivacaine\",\"tetracaine\",\"topiramate\",\"verapamil\",\"SLC7A5\",\"ABCC1\",\"tranylcypromine\",\"dasatinib\",\"gefitinib\",\"imatinib\",\"nilotinib\",\"afatinib\",\"ibrutinib\",\"TAOK2\",\"ABCC1\",\"nicotinamide\",\"suramin\",\"ubenimex\",\"vigabatrin\",\"fluorouracil\",\"anhydrovinblastine\",\"docetaxel\",\"paclitaxel\",\"vinblastine\",\"vincristine\",\"ABCC1\",\"benzbromarone\",\"colchicine\",\"ciclosporin\",\"daunorubicin\",\"doxorubicin\",\"etoposide\",\"etravirine\",\"idarubicin\",\"indomethacin\",\"irinotecan\",\"methotrexate\",\"mezlocillin\",\"mitoxantrone\",\"pimozide\",\"saquinavir\",\"sulfinpyrazone\",\"vinblastine\",\"vincristine\",\"diosmetin\",\"daunorubicinol\",\"ruboxistaurin\",\"acetoxolone\",\"pregabalin\",\"lansoprazole\",\"methylthioninium chloride\",\"tolonium\",\"ivabradine\",\"dronedarone\",\"hydralazine\",\"procainamide\",\"aminoquinuride\",\"beclometasone dipropionate\",\"budesonide\",\"busulfan\",\"cefonicid\",\"cefotetan\",\"cefotiam\",\"cefuroxime\",\"cefalotin\",\"cefradine\",\"chlorhexidine\",\"dacarbazine\",\"econazole\",\"floxacillin\",\"secobarbital\",\"zoledronic acid\",\"prazosin\"],\"start\":[\"CPT2\",\"INSRR\",\"INSRR\",\"INSRR\",\"sunitinib\",\"sunitinib\",\"sunitinib\",\"sunitinib\",\"sunitinib\",\"crizotinib\",\"crizotinib\",\"crizotinib\",\"crizotinib\",\"crizotinib\",\"nintedanib\",\"nintedanib\",\"nintedanib\",\"nintedanib\",\"NTRK1\",\"NTRK1\",\"NTRK1\",\"NTRK1\",\"NTRK1\",\"NTRK1\",\"amitriptyline\",\"sorafenib\",\"ruxolitinib\",\"ruxolitinib\",\"axitinib\",\"bosutinib\",\"bosutinib\",\"bosutinib\",\"bosutinib\",\"bosutinib\",\"bosutinib\",\"ceritinib\",\"PARP1\",\"PARP1\",\"PARP1\",\"PARP1\",\"rucaparib\",\"rucaparib\",\"rucaparib\",\"rucaparib\",\"ALK\",\"ALK\",\"ALK\",\"ALK\",\"ALK\",\"erlotinib\",\"quercetin\",\"quercetin\",\"quercetin\",\"pazopanib\",\"pazopanib\",\"pazopanib\",\"vandetanib\",\"HDAC4\",\"HDAC4\",\"HDAC4\",\"HDAC4\",\"SCN5A\",\"SCN5A\",\"SCN5A\",\"SCN5A\",\"SCN5A\",\"SCN5A\",\"SCN5A\",\"SCN5A\",\"SCN5A\",\"SCN5A\",\"SCN5A\",\"SCN5A\",\"SCN5A\",\"SCN5A\",\"SCN5A\",\"SCN5A\",\"SCN5A\",\"SCN5A\",\"SCN5A\",\"SCN5A\",\"SCN5A\",\"SCN5A\",\"SCN5A\",\"SCN5A\",\"SCN5A\",\"SCN5A\",\"SCN5A\",\"SCN5A\",\"SCN5A\",\"SCN5A\",\"SCN5A\",\"SCN5A\",\"SCN5A\",\"SCN5A\",\"SCN5A\",\"SCN5A\",\"SCN5A\",\"gabapentin\",\"verapamil\",\"KDM1B\",\"BLK\",\"BLK\",\"BLK\",\"BLK\",\"BLK\",\"BLK\",\"dasatinib\",\"imatinib\",\"SIRT1\",\"SIRT1\",\"ANPEP\",\"ABAT\",\"ABCC11\",\"ABCC10\",\"ABCC10\",\"ABCC10\",\"ABCC10\",\"ABCC10\",\"anhydrovinblastine\",\"ABCC1\",\"ABCC1\",\"ABCC1\",\"ABCC1\",\"ABCC1\",\"ABCC1\",\"ABCC1\",\"ABCC1\",\"ABCC1\",\"ABCC1\",\"ABCC1\",\"ABCC1\",\"ABCC1\",\"ABCC1\",\"ABCC1\",\"ABCC1\",\"ABCC1\",\"ABCC1\",\"ABCC1\",\"ABCC1\",\"TAOK2\",\"HSD17B2\",\"SLC7A5\",\"MAPT\",\"MAPT\",\"MAPT\",\"HCN2\",\"HCN2\",\"DNMT3B\",\"DNMT3B\",\"MMP9\",\"MMP9\",\"MMP9\",\"MMP9\",\"MMP9\",\"MMP9\",\"MMP9\",\"MMP9\",\"MMP9\",\"MMP9\",\"MMP9\",\"MMP9\",\"MMP9\",\"MMP9\",\"MMP9\",\"MMP9\",\"MMP9\"]},\"selected\":{\"id\":\"8008\"},\"selection_policy\":{\"id\":\"8007\"}},\"id\":\"7617\",\"type\":\"ColumnDataSource\"},{\"attributes\":{},\"id\":\"7996\",\"type\":\"AllLabels\"},{\"attributes\":{},\"id\":\"7590\",\"type\":\"LinearScale\"},{\"attributes\":{},\"id\":\"7601\",\"type\":\"WheelZoomTool\"},{\"attributes\":{},\"id\":\"7600\",\"type\":\"PanTool\"},{\"attributes\":{\"data_source\":{\"id\":\"7617\"},\"glyph\":{\"id\":\"7626\"},\"hover_glyph\":null,\"muted_glyph\":null,\"view\":{\"id\":\"7619\"}},\"id\":\"7618\",\"type\":\"GlyphRenderer\"},{\"attributes\":{},\"id\":\"7602\",\"type\":\"SaveTool\"},{\"attributes\":{\"line_alpha\":{\"value\":0.5}},\"id\":\"7626\",\"type\":\"MultiLine\"},{\"attributes\":{\"fill_color\":{\"value\":\"skyblue\"},\"size\":{\"value\":15}},\"id\":\"7621\",\"type\":\"Circle\"},{\"attributes\":{\"source\":{\"id\":\"7613\"}},\"id\":\"7615\",\"type\":\"CDSView\"},{\"attributes\":{},\"id\":\"8009\",\"type\":\"UnionRenderers\"},{\"attributes\":{\"text\":\"Drug-Gene Interaction\"},\"id\":\"7584\",\"type\":\"Title\"},{\"attributes\":{\"source\":{\"id\":\"7617\"}},\"id\":\"7619\",\"type\":\"CDSView\"},{\"attributes\":{\"formatter\":{\"id\":\"7992\"},\"major_label_policy\":{\"id\":\"7993\"},\"ticker\":{\"id\":\"7597\"}},\"id\":\"7596\",\"type\":\"LinearAxis\"},{\"attributes\":{},\"id\":\"7588\",\"type\":\"LinearScale\"},{\"attributes\":{\"formatter\":{\"id\":\"7995\"},\"major_label_policy\":{\"id\":\"7996\"},\"ticker\":{\"id\":\"7593\"}},\"id\":\"7592\",\"type\":\"LinearAxis\"},{\"attributes\":{},\"id\":\"8008\",\"type\":\"Selection\"},{\"attributes\":{},\"id\":\"8001\",\"type\":\"NodesOnly\"},{\"attributes\":{\"end\":10.1,\"start\":-10.1},\"id\":\"7582\",\"type\":\"Range1d\"},{\"attributes\":{},\"id\":\"8010\",\"type\":\"Selection\"}],\"root_ids\":[\"7583\"]},\"title\":\"Bokeh Application\",\"version\":\"2.3.2\"}};\n",
       "  var render_items = [{\"docid\":\"cfd334c6-e529-48cb-94c7-eb1281c02ec8\",\"root_ids\":[\"7583\"],\"roots\":{\"7583\":\"acd874a3-9ee3-44cd-a1de-5cd8ca2b0c80\"}}];\n",
       "  root.Bokeh.embed.embed_items_notebook(docs_json, render_items);\n",
       "\n",
       "  }\n",
       "  if (root.Bokeh !== undefined) {\n",
       "    embed_document(root);\n",
       "  } else {\n",
       "    var attempts = 0;\n",
       "    var timer = setInterval(function(root) {\n",
       "      if (root.Bokeh !== undefined) {\n",
       "        clearInterval(timer);\n",
       "        embed_document(root);\n",
       "      } else {\n",
       "        attempts++;\n",
       "        if (attempts > 100) {\n",
       "          clearInterval(timer);\n",
       "          console.log(\"Bokeh: ERROR: Unable to run BokehJS code because BokehJS library is missing\");\n",
       "        }\n",
       "      }\n",
       "    }, 10, root)\n",
       "  }\n",
       "})(window);"
      ],
      "application/vnd.bokehjs_exec.v0+json": ""
     },
     "metadata": {
      "application/vnd.bokehjs_exec.v0+json": {
       "id": "7583"
      }
     },
     "output_type": "display_data"
    }
   ],
   "source": [
    "#Choose a title!\n",
    "title = 'Drug-Gene Interaction'\n",
    "\n",
    "#Establish which categories will appear when hovering over each node\n",
    "HOVER_TOOLTIPS = [(\"Character\", \"@index\")]\n",
    "\n",
    "#Create a plot — set dimensions, toolbar, and title\n",
    "plot = figure(tooltips = HOVER_TOOLTIPS,\n",
    "              tools=\"pan,wheel_zoom,save,reset\", active_scroll='wheel_zoom',\n",
    "            x_range=Range1d(-10.1, 10.1), y_range=Range1d(-10.1, 10.1), title=title) #plot_width=1500, plot_height=1500 크기조절\n",
    "\n",
    "#Create a network graph object with spring layout\n",
    "network_graph = from_networkx(G, networkx.spring_layout, scale=10, center=(0, 0))\n",
    "\n",
    "#Set node size and color\n",
    "network_graph.node_renderer.glyph = Circle(size=15, fill_color='skyblue')\n",
    "\n",
    "#Set edge opacity and width\n",
    "network_graph.edge_renderer.glyph = MultiLine(line_alpha=0.5, line_width=1)\n",
    "\n",
    "#Add network graph to the plot\n",
    "plot.renderers.append(network_graph)\n",
    "\n",
    "show(plot)\n",
    "#save(plot, filename=f\"{title}.html\")"
   ]
  },
  {
   "cell_type": "markdown",
   "id": "6ba49912-b7b3-46f5-bf5a-9c5b8d12effb",
   "metadata": {},
   "source": [
    "## Network with Nodes Sized and Colored By Attribute (Degree)"
   ]
  },
  {
   "cell_type": "code",
   "execution_count": 115,
   "id": "da52ed0f-2427-4891-87b9-b99a2cd6bf05",
   "metadata": {},
   "outputs": [],
   "source": [
    "from bokeh.io import output_notebook, show, save\n",
    "from bokeh.models import Range1d, Circle, ColumnDataSource, MultiLine\n",
    "from bokeh.plotting import figure\n",
    "from bokeh.plotting import from_networkx\n",
    "from bokeh.palettes import Blues8, Reds8, Purples8, Oranges8, Viridis8, Spectral8\n",
    "from bokeh.transform import linear_cmap"
   ]
  },
  {
   "cell_type": "code",
   "execution_count": 116,
   "id": "ca1f50fa-8c40-4262-ad7a-45d2157fecd7",
   "metadata": {},
   "outputs": [],
   "source": [
    "degrees = dict(networkx.degree(G))\n",
    "networkx.set_node_attributes(G, name='degree', values=degrees)"
   ]
  },
  {
   "cell_type": "code",
   "execution_count": 117,
   "id": "6a80f98a-df80-4a7a-b052-1d557de7632e",
   "metadata": {},
   "outputs": [],
   "source": [
    "number_to_adjust_by = 5\n",
    "adjusted_node_size = dict([(node, degree+number_to_adjust_by) for node, degree in networkx.degree(G)])\n",
    "networkx.set_node_attributes(G, name='adjusted_node_size', values=adjusted_node_size)"
   ]
  },
  {
   "cell_type": "code",
   "execution_count": 118,
   "id": "f1f72a54-61e8-4a4d-a6a0-2728234257c3",
   "metadata": {},
   "outputs": [
    {
     "data": {
      "text/html": [
       "\n",
       "\n",
       "\n",
       "\n",
       "\n",
       "\n",
       "  <div class=\"bk-root\" id=\"624131bf-da95-48af-9da9-b934a58c5e27\" data-root-id=\"4706\"></div>\n"
      ]
     },
     "metadata": {},
     "output_type": "display_data"
    },
    {
     "data": {
      "application/javascript": [
       "(function(root) {\n",
       "  function embed_document(root) {\n",
       "    \n",
       "  var docs_json = {\"e08dba28-bd44-4071-9364-765ea24ce41f\":{\"defs\":[],\"roots\":{\"references\":[{\"attributes\":{\"below\":[{\"id\":\"4715\"}],\"center\":[{\"id\":\"4718\"},{\"id\":\"4722\"}],\"left\":[{\"id\":\"4719\"}],\"renderers\":[{\"id\":\"4734\"}],\"title\":{\"id\":\"4707\"},\"toolbar\":{\"id\":\"4728\"},\"x_range\":{\"id\":\"4704\"},\"x_scale\":{\"id\":\"4711\"},\"y_range\":{\"id\":\"4705\"},\"y_scale\":{\"id\":\"4713\"}},\"id\":\"4706\",\"subtype\":\"Figure\",\"type\":\"Plot\"},{\"attributes\":{\"data_source\":{\"id\":\"4736\"},\"glyph\":{\"id\":\"4753\"},\"hover_glyph\":null,\"muted_glyph\":null,\"view\":{\"id\":\"4738\"}},\"id\":\"4737\",\"type\":\"GlyphRenderer\"},{\"attributes\":{\"edge_renderer\":{\"id\":\"4741\"},\"inspection_policy\":{\"id\":\"5012\"},\"layout_provider\":{\"id\":\"4743\"},\"node_renderer\":{\"id\":\"4737\"},\"selection_policy\":{\"id\":\"5007\"}},\"id\":\"4734\",\"type\":\"GraphRenderer\"},{\"attributes\":{\"graph_layout\":{\"ABAT\":[0.4293763907962282,-7.490479964787683],\"ABCC1\":[-1.6229602390423712,-0.989428252111817],\"ABCC10\":[-3.032235116642769,-1.311485136148035],\"ABCC11\":[-3.511547843375039,9.546878662302925],\"ALK\":[-1.7223575786443706,1.858672209881766],\"ALK|NPM1\":[-0.9565163027120399,3.2447056504291507],\"ANPEP\":[-9.058889081129932,1.1361806810228379],\"BLK\":[-0.789574859592283,2.4435182511213625],\"CPT2\":[-6.687800759119394,5.198554667350379],\"CSNK1A1L\":[-1.2788050448465405,3.244661769180307],\"DNMT3B\":[8.215491697672094,3.967010306573122],\"HCN2\":[2.8720871618957564,-7.878927114362361],\"HDAC4\":[-0.20400835018584193,8.710925998354213],\"HSD17B2\":[-3.8176592247126697,0.4517395036710112],\"INSRR\":[-1.1388504012059553,2.907757683810639],\"KDM1B\":[8.424494310773342,-0.41630563263215575],\"MAP3K11\":[-1.4419030797955388,2.855601179722637],\"MAPT\":[5.921442084554943,-6.63198392768888],\"MMP9\":[-5.196076772774624,-1.1556560116567733],\"NTRK1\":[-0.4223610755166016,2.1445690916527678],\"PARP1\":[7.320854169901677,-0.9766139575834226],\"PARP10\":[8.223003774121704,-1.9850668030588716],\"PARP12\":[8.11894577138377,-1.7133394500667516],\"PARP14\":[7.538213755180761,-2.1799828951297076],\"PARP15\":[7.720188504819878,-2.0405834548619004],\"SCN5A\":[2.5350265630740108,-0.15815251004632933],\"SIRT1\":[-6.707406886180019,-6.771358177902037],\"SLC7A5\":[1.093577465658789,0.605386826412681],\"TAOK2\":[-1.1022796418942415,3.1004879407010466],\"acetoxolone\":[-4.349197327165625,0.7829318954074286],\"afatinib\":[-0.515745306708189,3.2964451742015357],\"alectinib\":[-2.3489646306689793,2.169052881399353],\"aminoquinuride\":[-5.997568253099057,-1.4636447952245104],\"amiodarone\":[3.45045066453631,0.13062293282158519],\"amitriptyline\":[1.082703240643058,1.0629204924204374],\"anhydrovinblastine\":[-2.4920032519837605,-1.0098790376062592],\"aprindine\":[2.73350037317202,-0.5291229247461182],\"axitinib\":[-0.23517021933754942,2.4974258858051015],\"beclometasone dipropionate\":[-6.01198013096526,-1.0517975393560737],\"belinostat\":[-0.3109213138807656,9.306788566340053],\"benzbromarone\":[-2.1641013331668386,-1.6170443651753428],\"benzocaine\":[3.2771240019190566,-0.19019863050706948],\"benzonatate\":[2.2999130159273466,0.5215804562911981],\"bepridil\":[3.045764531382636,-0.9445068764951564],\"bosutinib\":[-1.1072004696561168,2.689431016401382],\"budesonide\":[-5.7479919340751975,-1.3485520816605927],\"busulfan\":[-5.415915926873969,-1.722638342087247],\"carbamazepine\":[3.159793520738511,0.5311650017762989],\"cefalotin\":[-5.585536975277862,-1.9152229602413147],\"cefonicid\":[-5.7295049409032055,-1.0550451182954386],\"cefotetan\":[-5.729066198777563,-1.7583264425211071],\"cefotiam\":[-5.764800765188682,-0.7410437773972133],\"cefradine\":[-5.0828898961028255,-1.7910638561621381],\"cefuroxime\":[-5.146028777197836,-1.5356147686423485],\"ceritinib\":[-1.0625842005760213,1.8899482551153142],\"chlorhexidine\":[-5.54826137555494,-1.4909420800534514],\"chlorthenoxazine\":[7.601037040600527,-0.5253268808836044],\"ciclosporin\":[-1.0860878758633377,-1.1665117323713299],\"cinchocaine\":[2.817019066137751,-1.0232234105384477],\"cocaine\":[2.3670480047082387,-0.7745650801934794],\"colchicine\":[-1.5139513031011573,-1.643514551502604],\"crizotinib\":[-0.9908628655135379,2.587025948513738],\"dacarbazine\":[-6.043029824966082,-1.255736609002825],\"dasatinib\":[-0.775255247972838,3.263725165071518],\"daunorubicin\":[-1.0807926885724803,-1.442695658824263],\"daunorubicinol\":[-2.1137517743286875,-0.6944591071930548],\"dextropropoxyphene\":[2.6830435347975277,0.22064581376360004],\"diosmetin\":[-1.8629230896159725,-1.3112859764475207],\"diprafenone\":[2.5847565909235235,-1.0453704301949196],\"disopyramide\":[2.884931814243562,-0.7779611232018344],\"docetaxel\":[-3.5287931278334606,-1.630787468907258],\"doxorubicin\":[-1.3744681983766278,-1.8059537020146244],\"dronedarone\":[2.564780292892123,-7.790774260803301],\"econazole\":[-5.452303195580251,-0.8069080864535904],\"encainide\":[3.0951152717060255,-0.6589230795278679],\"erlotinib\":[-1.3543282784594355,2.1089359918668125],\"etidocaine\":[2.7759482268934184,0.6423089555886435],\"etoposide\":[-1.6269781133049914,-1.8820889024015588],\"etravirine\":[-2.1263883322449972,-1.3648920847294583],\"flecainide\":[2.330151830081603,-0.9928746386614106],\"floxacillin\":[-5.896681404847075,-1.6510093613370003],\"fluorouracil\":[-3.692547257497731,10.0],\"fosphenytoin\":[2.619412041675441,-0.8059864496134777],\"gabapentin\":[1.7347981887288062,0.28454738474486213],\"gefitinib\":[-0.15532753496814092,2.8798648043090083],\"hydralazine\":[8.714531230797952,4.283203595468535],\"hydroquinidine\":[3.017199278612575,-0.37587983225850957],\"ibrutinib\":[-0.2507185714100074,3.1648231414681476],\"idarubicin\":[-1.5329940371751019,-0.577570346135973],\"imatinib\":[-1.2083131060013756,0.7279510686597362],\"indecainide\":[3.011756123805939,-0.04438780154570904],\"indomethacin\":[-1.7380655844070951,-1.5457376306410202],\"irinotecan\":[-1.885355288260786,-0.5280295872967644],\"ivabradine\":[3.157137085592375,-8.040966945260628],\"lamotrigine\":[3.1448751325884716,0.27765386193906294],\"lansoprazole\":[6.296561237483049,-7.096607305118266],\"lidocaine\":[2.1077230559367184,-0.7864876416789958],\"lorcainide\":[1.9909690582855493,-0.530862246706847],\"mepivacaine\":[3.5021167836295906,-0.10421473156122632],\"methotrexate\":[-1.2143531698639847,-1.6334029470030982],\"methylthioninium chloride\":[5.533089137352954,-6.067307415948277],\"mexiletine\":[3.255657238891632,0.05580493124903114],\"mezlocillin\":[-1.197164060234081,-0.8684643266305737],\"mitoxantrone\":[-1.9768759271708825,-1.6884599054406402],\"moracizine\":[3.3396122001392454,0.35013398518055966],\"nefopam\":[2.278360221482846,-0.5143850472590699],\"nicotinamide\":[-6.224989926696226,-6.170916466145221],\"nilotinib\":[-0.39389335644943174,3.0696471129475644],\"nintedanib\":[-1.0990553864946038,2.3489510485643934],\"niraparib\":[7.515865141042207,-0.7648660973583147],\"olaparib\":[7.227062472395961,-0.5556688547690399],\"orphenadrine\":[2.920488061480259,0.3304248165760091],\"oxcarbazepine\":[2.1093812138794483,0.009362794749767922],\"paclitaxel\":[-3.586174986401264,-1.221638419254827],\"panobinostat\":[-0.4846971165209423,8.487051041989833],\"pazopanib\":[-1.4635041900342598,2.6051623156529984],\"perhexiline\":[-6.497441278638973,5.408188646748659],\"phenytoin\":[3.261048241515934,-0.7926878147010181],\"pimozide\":[-1.8500102950531592,-1.838407593338737],\"pirmenol\":[2.0160007449509507,-0.2585087468759022],\"prazosin\":[-5.312732365385714,-1.9360544991875221],\"pregabalin\":[0.5240942863456659,0.8016269972041374],\"procainamide\":[7.872120200550577,3.7853990956517514],\"propafenone\":[3.4861854886936845,-0.3443104766897407],\"quercetin\":[-3.0985500790475067,0.024585378313969668],\"quinidine\":[2.9606291569462364,0.5952022439124369],\"ranolazine\":[2.5556795943392796,0.6637180095213702],\"riluzole\":[2.530820915518002,0.4270377960660862],\"romidepsin\":[-0.1758527387240946,8.011333641453872],\"ropivacaine\":[2.2152572610402026,0.27180475442076213],\"ruboxistaurin\":[-1.2974446408487845,3.9121743573078844],\"rucaparib\":[7.598187896934529,-1.6786321095476413],\"ruxolitinib\":[-1.206364952336427,2.3718326296823355],\"saquinavir\":[-1.3659623659633016,-1.3426648660179634],\"secobarbital\":[-5.969173071159471,-0.8324519313071693],\"sorafenib\":[-0.5534494282383862,2.8386770273379494],\"sulfinpyrazone\":[-2.05839153303145,-1.0232612625963837],\"sunitinib\":[-1.1473899794784166,2.5540097580261825],\"suramin\":[-7.0747152369744,-7.225959408232046],\"tetracaine\":[3.262245521356873,-0.433859292727496],\"tolonium\":[5.590782204780399,-6.517822548580939],\"topiramate\":[3.393936492983711,-0.5935131751232672],\"tranylcypromine\":[8.16110330384479,-0.5545039621990341],\"ubenimex\":[-9.019994247604341,1.4182183277967415],\"vandetanib\":[-1.5371863719964385,2.3093155367737332],\"verapamil\":[0.4409685952581445,-0.6212856978059845],\"vigabatrin\":[0.14824063147073438,-7.493310251281275],\"vinblastine\":[-2.483534499677227,-1.1850375543099116],\"vincristine\":[-2.4701574314738104,-1.3625200855808017],\"vorinostat\":[-0.012424910906109943,9.271840473002538],\"zoledronic acid\":[-5.561612380231558,-0.591651128563354]}},\"id\":\"4743\",\"type\":\"StaticLayoutProvider\"},{\"attributes\":{\"formatter\":{\"id\":\"4998\"},\"major_label_policy\":{\"id\":\"4999\"},\"ticker\":{\"id\":\"4720\"}},\"id\":\"4719\",\"type\":\"LinearAxis\"},{\"attributes\":{},\"id\":\"4713\",\"type\":\"LinearScale\"},{\"attributes\":{\"active_multi\":null,\"active_scroll\":{\"id\":\"4724\"},\"tools\":[{\"id\":\"4723\"},{\"id\":\"4724\"},{\"id\":\"4725\"},{\"id\":\"4726\"},{\"id\":\"4727\"}]},\"id\":\"4728\",\"type\":\"Toolbar\"},{\"attributes\":{},\"id\":\"4998\",\"type\":\"BasicTickFormatter\"},{\"attributes\":{\"source\":{\"id\":\"4736\"}},\"id\":\"4738\",\"type\":\"CDSView\"},{\"attributes\":{\"data\":{\"adjusted_node_size\":[6,6,8,11,11,10,14,7,7,8,7,12,7,9,6,6,10,6,6,6,6,6,16,7,9,9,7,7,6,9,6,6,6,6,43,6,6,6,6,6,6,6,6,6,6,6,6,6,6,6,6,7,6,6,6,6,6,6,6,6,6,6,6,6,6,6,6,6,6,6,6,7,6,6,19,7,6,7,6,6,6,7,6,6,9,7,6,6,6,6,6,6,10,7,29,6,6,6,6,6,6,6,6,6,6,6,6,6,6,6,6,6,6,7,7,6,6,12,6,7,6,7,6,8,6,6,6,7,6,6,7,6,6,23,6,6,6,6,6,6,6,6,6,6,6,6,6,6,6,6,6],\"degree\":[1,1,3,6,6,5,9,2,2,3,2,7,2,4,1,1,5,1,1,1,1,1,11,2,4,4,2,2,1,4,1,1,1,1,38,1,1,1,1,1,1,1,1,1,1,1,1,1,1,1,1,2,1,1,1,1,1,1,1,1,1,1,1,1,1,1,1,1,1,1,1,2,1,1,14,2,1,2,1,1,1,2,1,1,4,2,1,1,1,1,1,1,5,2,24,1,1,1,1,1,1,1,1,1,1,1,1,1,1,1,1,1,1,2,2,1,1,7,1,2,1,2,1,3,1,1,1,2,1,1,2,1,1,18,1,1,1,1,1,1,1,1,1,1,1,1,1,1,1,1,1],\"index\":[\"CPT2\",\"perhexiline\",\"INSRR\",\"sunitinib\",\"crizotinib\",\"nintedanib\",\"NTRK1\",\"amitriptyline\",\"sorafenib\",\"ruxolitinib\",\"axitinib\",\"bosutinib\",\"ceritinib\",\"PARP1\",\"chlorthenoxazine\",\"olaparib\",\"rucaparib\",\"PARP10\",\"PARP12\",\"PARP14\",\"PARP15\",\"niraparib\",\"ALK\",\"erlotinib\",\"quercetin\",\"pazopanib\",\"vandetanib\",\"ALK|NPM1\",\"alectinib\",\"HDAC4\",\"romidepsin\",\"vorinostat\",\"panobinostat\",\"belinostat\",\"SCN5A\",\"amiodarone\",\"aprindine\",\"benzocaine\",\"benzonatate\",\"bepridil\",\"carbamazepine\",\"cocaine\",\"dextropropoxyphene\",\"cinchocaine\",\"hydroquinidine\",\"diprafenone\",\"disopyramide\",\"encainide\",\"etidocaine\",\"flecainide\",\"fosphenytoin\",\"gabapentin\",\"indecainide\",\"lamotrigine\",\"lidocaine\",\"lorcainide\",\"mepivacaine\",\"mexiletine\",\"moracizine\",\"nefopam\",\"orphenadrine\",\"oxcarbazepine\",\"phenytoin\",\"pirmenol\",\"propafenone\",\"quinidine\",\"ranolazine\",\"riluzole\",\"ropivacaine\",\"tetracaine\",\"topiramate\",\"verapamil\",\"KDM1B\",\"tranylcypromine\",\"BLK\",\"dasatinib\",\"gefitinib\",\"imatinib\",\"nilotinib\",\"afatinib\",\"ibrutinib\",\"SIRT1\",\"nicotinamide\",\"suramin\",\"MAP3K11\",\"CSNK1A1L\",\"ANPEP\",\"ubenimex\",\"ABAT\",\"vigabatrin\",\"ABCC11\",\"fluorouracil\",\"ABCC10\",\"anhydrovinblastine\",\"ABCC1\",\"benzbromarone\",\"colchicine\",\"ciclosporin\",\"daunorubicin\",\"docetaxel\",\"doxorubicin\",\"etoposide\",\"etravirine\",\"idarubicin\",\"indomethacin\",\"irinotecan\",\"methotrexate\",\"mezlocillin\",\"mitoxantrone\",\"paclitaxel\",\"pimozide\",\"saquinavir\",\"sulfinpyrazone\",\"vinblastine\",\"vincristine\",\"diosmetin\",\"daunorubicinol\",\"TAOK2\",\"ruboxistaurin\",\"HSD17B2\",\"acetoxolone\",\"SLC7A5\",\"pregabalin\",\"MAPT\",\"lansoprazole\",\"methylthioninium chloride\",\"tolonium\",\"HCN2\",\"ivabradine\",\"dronedarone\",\"DNMT3B\",\"hydralazine\",\"procainamide\",\"MMP9\",\"aminoquinuride\",\"beclometasone dipropionate\",\"budesonide\",\"busulfan\",\"cefonicid\",\"cefotetan\",\"cefotiam\",\"cefuroxime\",\"cefalotin\",\"cefradine\",\"chlorhexidine\",\"dacarbazine\",\"econazole\",\"floxacillin\",\"secobarbital\",\"zoledronic acid\",\"prazosin\"]},\"selected\":{\"id\":\"5016\"},\"selection_policy\":{\"id\":\"5015\"}},\"id\":\"4736\",\"type\":\"ColumnDataSource\"},{\"attributes\":{},\"id\":\"5013\",\"type\":\"UnionRenderers\"},{\"attributes\":{\"text\":\"Drug-Gene Interaction\"},\"id\":\"4707\",\"type\":\"Title\"},{\"attributes\":{},\"id\":\"4999\",\"type\":\"AllLabels\"},{\"attributes\":{},\"id\":\"4724\",\"type\":\"WheelZoomTool\"},{\"attributes\":{\"data\":{\"end\":[\"perhexiline\",\"sunitinib\",\"crizotinib\",\"nintedanib\",\"NTRK1\",\"ALK\",\"BLK\",\"MAP3K11\",\"CSNK1A1L\",\"NTRK1\",\"ALK|NPM1\",\"ALK\",\"BLK\",\"TAOK2\",\"NTRK1\",\"ALK\",\"BLK\",\"MAP3K11\",\"amitriptyline\",\"sorafenib\",\"ruxolitinib\",\"axitinib\",\"bosutinib\",\"ceritinib\",\"SCN5A\",\"TAOK2\",\"ALK\",\"TAOK2\",\"BLK\",\"ALK|NPM1\",\"ALK\",\"BLK\",\"MAP3K11\",\"CSNK1A1L\",\"TAOK2\",\"ALK\",\"chlorthenoxazine\",\"olaparib\",\"rucaparib\",\"niraparib\",\"PARP10\",\"PARP12\",\"PARP14\",\"PARP15\",\"erlotinib\",\"quercetin\",\"pazopanib\",\"vandetanib\",\"alectinib\",\"BLK\",\"ABCC1\",\"HSD17B2\",\"MMP9\",\"BLK\",\"MAP3K11\",\"TAOK2\",\"BLK\",\"romidepsin\",\"vorinostat\",\"panobinostat\",\"belinostat\",\"amiodarone\",\"aprindine\",\"benzocaine\",\"benzonatate\",\"bepridil\",\"carbamazepine\",\"cocaine\",\"dextropropoxyphene\",\"cinchocaine\",\"hydroquinidine\",\"diprafenone\",\"disopyramide\",\"encainide\",\"etidocaine\",\"flecainide\",\"fosphenytoin\",\"gabapentin\",\"indecainide\",\"lamotrigine\",\"lidocaine\",\"lorcainide\",\"mepivacaine\",\"mexiletine\",\"moracizine\",\"nefopam\",\"orphenadrine\",\"oxcarbazepine\",\"phenytoin\",\"pirmenol\",\"propafenone\",\"quinidine\",\"ranolazine\",\"riluzole\",\"ropivacaine\",\"tetracaine\",\"topiramate\",\"verapamil\",\"SLC7A5\",\"ABCC1\",\"tranylcypromine\",\"dasatinib\",\"gefitinib\",\"imatinib\",\"nilotinib\",\"afatinib\",\"ibrutinib\",\"TAOK2\",\"ABCC1\",\"nicotinamide\",\"suramin\",\"ubenimex\",\"vigabatrin\",\"fluorouracil\",\"anhydrovinblastine\",\"docetaxel\",\"paclitaxel\",\"vinblastine\",\"vincristine\",\"ABCC1\",\"benzbromarone\",\"colchicine\",\"ciclosporin\",\"daunorubicin\",\"doxorubicin\",\"etoposide\",\"etravirine\",\"idarubicin\",\"indomethacin\",\"irinotecan\",\"methotrexate\",\"mezlocillin\",\"mitoxantrone\",\"pimozide\",\"saquinavir\",\"sulfinpyrazone\",\"vinblastine\",\"vincristine\",\"diosmetin\",\"daunorubicinol\",\"ruboxistaurin\",\"acetoxolone\",\"pregabalin\",\"lansoprazole\",\"methylthioninium chloride\",\"tolonium\",\"ivabradine\",\"dronedarone\",\"hydralazine\",\"procainamide\",\"aminoquinuride\",\"beclometasone dipropionate\",\"budesonide\",\"busulfan\",\"cefonicid\",\"cefotetan\",\"cefotiam\",\"cefuroxime\",\"cefalotin\",\"cefradine\",\"chlorhexidine\",\"dacarbazine\",\"econazole\",\"floxacillin\",\"secobarbital\",\"zoledronic acid\",\"prazosin\"],\"start\":[\"CPT2\",\"INSRR\",\"INSRR\",\"INSRR\",\"sunitinib\",\"sunitinib\",\"sunitinib\",\"sunitinib\",\"sunitinib\",\"crizotinib\",\"crizotinib\",\"crizotinib\",\"crizotinib\",\"crizotinib\",\"nintedanib\",\"nintedanib\",\"nintedanib\",\"nintedanib\",\"NTRK1\",\"NTRK1\",\"NTRK1\",\"NTRK1\",\"NTRK1\",\"NTRK1\",\"amitriptyline\",\"sorafenib\",\"ruxolitinib\",\"ruxolitinib\",\"axitinib\",\"bosutinib\",\"bosutinib\",\"bosutinib\",\"bosutinib\",\"bosutinib\",\"bosutinib\",\"ceritinib\",\"PARP1\",\"PARP1\",\"PARP1\",\"PARP1\",\"rucaparib\",\"rucaparib\",\"rucaparib\",\"rucaparib\",\"ALK\",\"ALK\",\"ALK\",\"ALK\",\"ALK\",\"erlotinib\",\"quercetin\",\"quercetin\",\"quercetin\",\"pazopanib\",\"pazopanib\",\"pazopanib\",\"vandetanib\",\"HDAC4\",\"HDAC4\",\"HDAC4\",\"HDAC4\",\"SCN5A\",\"SCN5A\",\"SCN5A\",\"SCN5A\",\"SCN5A\",\"SCN5A\",\"SCN5A\",\"SCN5A\",\"SCN5A\",\"SCN5A\",\"SCN5A\",\"SCN5A\",\"SCN5A\",\"SCN5A\",\"SCN5A\",\"SCN5A\",\"SCN5A\",\"SCN5A\",\"SCN5A\",\"SCN5A\",\"SCN5A\",\"SCN5A\",\"SCN5A\",\"SCN5A\",\"SCN5A\",\"SCN5A\",\"SCN5A\",\"SCN5A\",\"SCN5A\",\"SCN5A\",\"SCN5A\",\"SCN5A\",\"SCN5A\",\"SCN5A\",\"SCN5A\",\"SCN5A\",\"SCN5A\",\"gabapentin\",\"verapamil\",\"KDM1B\",\"BLK\",\"BLK\",\"BLK\",\"BLK\",\"BLK\",\"BLK\",\"dasatinib\",\"imatinib\",\"SIRT1\",\"SIRT1\",\"ANPEP\",\"ABAT\",\"ABCC11\",\"ABCC10\",\"ABCC10\",\"ABCC10\",\"ABCC10\",\"ABCC10\",\"anhydrovinblastine\",\"ABCC1\",\"ABCC1\",\"ABCC1\",\"ABCC1\",\"ABCC1\",\"ABCC1\",\"ABCC1\",\"ABCC1\",\"ABCC1\",\"ABCC1\",\"ABCC1\",\"ABCC1\",\"ABCC1\",\"ABCC1\",\"ABCC1\",\"ABCC1\",\"ABCC1\",\"ABCC1\",\"ABCC1\",\"ABCC1\",\"TAOK2\",\"HSD17B2\",\"SLC7A5\",\"MAPT\",\"MAPT\",\"MAPT\",\"HCN2\",\"HCN2\",\"DNMT3B\",\"DNMT3B\",\"MMP9\",\"MMP9\",\"MMP9\",\"MMP9\",\"MMP9\",\"MMP9\",\"MMP9\",\"MMP9\",\"MMP9\",\"MMP9\",\"MMP9\",\"MMP9\",\"MMP9\",\"MMP9\",\"MMP9\",\"MMP9\",\"MMP9\"]},\"selected\":{\"id\":\"5014\"},\"selection_policy\":{\"id\":\"5013\"}},\"id\":\"4740\",\"type\":\"ColumnDataSource\"},{\"attributes\":{},\"id\":\"4723\",\"type\":\"PanTool\"},{\"attributes\":{\"data_source\":{\"id\":\"4740\"},\"glyph\":{\"id\":\"4758\"},\"hover_glyph\":null,\"muted_glyph\":null,\"view\":{\"id\":\"4742\"}},\"id\":\"4741\",\"type\":\"GlyphRenderer\"},{\"attributes\":{},\"id\":\"4716\",\"type\":\"BasicTicker\"},{\"attributes\":{},\"id\":\"4720\",\"type\":\"BasicTicker\"},{\"attributes\":{},\"id\":\"5014\",\"type\":\"Selection\"},{\"attributes\":{},\"id\":\"5001\",\"type\":\"BasicTickFormatter\"},{\"attributes\":{\"callback\":null,\"tooltips\":[[\"Character\",\"@index\"],[\"Degree\",\"@degree\"]]},\"id\":\"4727\",\"type\":\"HoverTool\"},{\"attributes\":{},\"id\":\"4725\",\"type\":\"SaveTool\"},{\"attributes\":{\"formatter\":{\"id\":\"5001\"},\"major_label_policy\":{\"id\":\"5002\"},\"ticker\":{\"id\":\"4716\"}},\"id\":\"4715\",\"type\":\"LinearAxis\"},{\"attributes\":{},\"id\":\"4726\",\"type\":\"ResetTool\"},{\"attributes\":{},\"id\":\"4711\",\"type\":\"LinearScale\"},{\"attributes\":{\"axis\":{\"id\":\"4719\"},\"dimension\":1,\"ticker\":null},\"id\":\"4722\",\"type\":\"Grid\"},{\"attributes\":{\"end\":10.1,\"start\":-10.1},\"id\":\"4705\",\"type\":\"Range1d\"},{\"attributes\":{\"axis\":{\"id\":\"4715\"},\"ticker\":null},\"id\":\"4718\",\"type\":\"Grid\"},{\"attributes\":{},\"id\":\"5015\",\"type\":\"UnionRenderers\"},{\"attributes\":{\"high\":43,\"low\":6,\"palette\":[\"#084594\",\"#2171b5\",\"#4292c6\",\"#6baed6\",\"#9ecae1\",\"#c6dbef\",\"#deebf7\",\"#f7fbff\"]},\"id\":\"4752\",\"type\":\"LinearColorMapper\"},{\"attributes\":{\"end\":10.1,\"start\":-10.1},\"id\":\"4704\",\"type\":\"Range1d\"},{\"attributes\":{},\"id\":\"5016\",\"type\":\"Selection\"},{\"attributes\":{},\"id\":\"5002\",\"type\":\"AllLabels\"},{\"attributes\":{\"source\":{\"id\":\"4740\"}},\"id\":\"4742\",\"type\":\"CDSView\"},{\"attributes\":{\"fill_color\":{\"field\":\"adjusted_node_size\",\"transform\":{\"id\":\"4752\"}},\"size\":{\"field\":\"adjusted_node_size\"}},\"id\":\"4753\",\"type\":\"Circle\"},{\"attributes\":{},\"id\":\"5007\",\"type\":\"NodesOnly\"},{\"attributes\":{\"line_alpha\":{\"value\":0.5}},\"id\":\"4758\",\"type\":\"MultiLine\"},{\"attributes\":{},\"id\":\"5012\",\"type\":\"NodesOnly\"}],\"root_ids\":[\"4706\"]},\"title\":\"Bokeh Application\",\"version\":\"2.3.2\"}};\n",
       "  var render_items = [{\"docid\":\"e08dba28-bd44-4071-9364-765ea24ce41f\",\"root_ids\":[\"4706\"],\"roots\":{\"4706\":\"624131bf-da95-48af-9da9-b934a58c5e27\"}}];\n",
       "  root.Bokeh.embed.embed_items_notebook(docs_json, render_items);\n",
       "\n",
       "  }\n",
       "  if (root.Bokeh !== undefined) {\n",
       "    embed_document(root);\n",
       "  } else {\n",
       "    var attempts = 0;\n",
       "    var timer = setInterval(function(root) {\n",
       "      if (root.Bokeh !== undefined) {\n",
       "        clearInterval(timer);\n",
       "        embed_document(root);\n",
       "      } else {\n",
       "        attempts++;\n",
       "        if (attempts > 100) {\n",
       "          clearInterval(timer);\n",
       "          console.log(\"Bokeh: ERROR: Unable to run BokehJS code because BokehJS library is missing\");\n",
       "        }\n",
       "      }\n",
       "    }, 10, root)\n",
       "  }\n",
       "})(window);"
      ],
      "application/vnd.bokehjs_exec.v0+json": ""
     },
     "metadata": {
      "application/vnd.bokehjs_exec.v0+json": {
       "id": "4706"
      }
     },
     "output_type": "display_data"
    }
   ],
   "source": [
    "#Choose attributes from G network to size and color by — setting manual size (e.g. 10) or color (e.g. 'skyblue') also allowed\n",
    "size_by_this_attribute = 'adjusted_node_size'\n",
    "color_by_this_attribute = 'adjusted_node_size'\n",
    "\n",
    "#Pick a color palette — Blues8, Reds8, Purples8, Oranges8, Viridis8\n",
    "color_palette = Blues8\n",
    "\n",
    "#Choose a title!\n",
    "title = 'Drug-Gene Interaction'\n",
    "\n",
    "#Establish which categories will appear when hovering over each node\n",
    "HOVER_TOOLTIPS = [\n",
    "       (\"Character\", \"@index\"),\n",
    "        (\"Degree\", \"@degree\")\n",
    "]\n",
    "\n",
    "#Create a plot — set dimensions, toolbar, and title\n",
    "plot = figure(tooltips = HOVER_TOOLTIPS,\n",
    "              tools=\"pan,wheel_zoom,save,reset\", active_scroll='wheel_zoom',\n",
    "            x_range=Range1d(-10.1, 10.1), y_range=Range1d(-10.1, 10.1), title=title) #plot_width=1500, plot_height=1500 크기조절\n",
    "\n",
    "#Create a network graph object\n",
    "network_graph = from_networkx(G, networkx.spring_layout, scale=10, center=(0, 0))\n",
    "\n",
    "#Set node sizes and colors according to node degree (color as spectrum of color palette)\n",
    "minimum_value_color = min(network_graph.node_renderer.data_source.data[color_by_this_attribute])\n",
    "maximum_value_color = max(network_graph.node_renderer.data_source.data[color_by_this_attribute])\n",
    "network_graph.node_renderer.glyph = Circle(size=size_by_this_attribute, fill_color=linear_cmap(color_by_this_attribute, color_palette, minimum_value_color, maximum_value_color))\n",
    "\n",
    "#Set edge opacity and width\n",
    "network_graph.edge_renderer.glyph = MultiLine(line_alpha=0.5, line_width=1)\n",
    "\n",
    "plot.renderers.append(network_graph)\n",
    "\n",
    "show(plot)\n",
    "#save(plot, filename=f\"{title}.html\")"
   ]
  },
  {
   "cell_type": "markdown",
   "id": "f0a892e6-09ac-4689-a86e-f1bbb94bdbc4",
   "metadata": {},
   "source": [
    "## Network with Responsive Highlighting"
   ]
  },
  {
   "cell_type": "code",
   "execution_count": 119,
   "id": "d714b599-3970-4e69-9305-1366f671e414",
   "metadata": {},
   "outputs": [],
   "source": [
    "from bokeh.io import output_notebook, show, save\n",
    "from bokeh.models import Range1d, Circle, ColumnDataSource, MultiLine, EdgesAndLinkedNodes, NodesAndLinkedEdges\n",
    "from bokeh.plotting import figure\n",
    "from bokeh.plotting import from_networkx\n",
    "from bokeh.palettes import Blues8, Reds8, Purples8, Oranges8, Viridis8, Spectral8\n",
    "from bokeh.transform import linear_cmap\n",
    "from networkx.algorithms import community"
   ]
  },
  {
   "cell_type": "code",
   "execution_count": 120,
   "id": "a09cdb7a-7f6a-4717-bea0-c615b834cfb0",
   "metadata": {},
   "outputs": [],
   "source": [
    "degrees = dict(networkx.degree(G))\n",
    "networkx.set_node_attributes(G, name='degree', values=degrees)"
   ]
  },
  {
   "cell_type": "code",
   "execution_count": 121,
   "id": "7c771004-6dad-4175-bfa4-6ea33a533ed9",
   "metadata": {},
   "outputs": [],
   "source": [
    "number_to_adjust_by = 5\n",
    "adjusted_node_size = dict([(node, degree+number_to_adjust_by) for node, degree in networkx.degree(G)])\n",
    "networkx.set_node_attributes(G, name='adjusted_node_size', values=adjusted_node_size)"
   ]
  },
  {
   "cell_type": "code",
   "execution_count": 122,
   "id": "4c5d3743-7d68-4dd5-9eec-9bd6ba9f7b21",
   "metadata": {},
   "outputs": [],
   "source": [
    "communities = community.greedy_modularity_communities(G)"
   ]
  },
  {
   "cell_type": "code",
   "execution_count": 123,
   "id": "d6327429-b5d0-4df9-afc9-b5f432aa1cd9",
   "metadata": {},
   "outputs": [],
   "source": [
    "# # Create empty dictionaries\n",
    "# modularity_class = {}\n",
    "# modularity_color = {}\n",
    "# #Loop through each community in the network\n",
    "# for community_number, community in enumerate(communities):\n",
    "#     #For each member of the community, add their community number and a distinct color\n",
    "#     for name in community: \n",
    "#         modularity_class[name] = community_number\n",
    "#         modularity_color[name] = Spectral8[community_number]"
   ]
  },
  {
   "cell_type": "code",
   "execution_count": 124,
   "id": "145ca5a2-acaf-423b-8743-1d99afc35c7b",
   "metadata": {},
   "outputs": [],
   "source": [
    "# Add modularity class and color as attributes from the network above\n",
    "networkx.set_node_attributes(G, modularity_class, 'modularity_class')\n",
    "networkx.set_node_attributes(G, modularity_color, 'modularity_color')"
   ]
  },
  {
   "cell_type": "markdown",
   "id": "ead0a91c-c522-4e45-b9eb-e7ca7cfa02be",
   "metadata": {},
   "source": [
    "## Network with Labels"
   ]
  },
  {
   "cell_type": "code",
   "execution_count": 136,
   "id": "4ce79492-5c9e-4a1c-b65c-f60ae2ab1ae4",
   "metadata": {},
   "outputs": [
    {
     "data": {
      "text/html": [
       "\n",
       "\n",
       "\n",
       "\n",
       "\n",
       "\n",
       "  <div class=\"bk-root\" id=\"6f244f54-b59a-41f6-b76c-c537bd7058ba\" data-root-id=\"8725\"></div>\n"
      ]
     },
     "metadata": {},
     "output_type": "display_data"
    },
    {
     "data": {
      "application/javascript": [
       "(function(root) {\n",
       "  function embed_document(root) {\n",
       "    \n",
       "  var docs_json = {\"5663ce6d-ef8e-4e4f-987d-4072b4e0bbe3\":{\"defs\":[],\"roots\":{\"references\":[{\"attributes\":{\"below\":[{\"id\":\"8734\"}],\"center\":[{\"id\":\"8737\"},{\"id\":\"8741\"}],\"left\":[{\"id\":\"8738\"}],\"renderers\":[{\"id\":\"8753\"},{\"id\":\"8798\"}],\"title\":{\"id\":\"8726\"},\"toolbar\":{\"id\":\"8747\"},\"x_range\":{\"id\":\"8723\"},\"x_scale\":{\"id\":\"8730\"},\"y_range\":{\"id\":\"8724\"},\"y_scale\":{\"id\":\"8732\"}},\"id\":\"8725\",\"subtype\":\"Figure\",\"type\":\"Plot\"},{\"attributes\":{\"data\":{\"adjusted_node_size\":[6,6,8,11,11,10,14,7,7,8,7,12,7,9,6,6,10,6,6,6,6,6,16,7,9,9,7,7,6,9,6,6,6,6,43,6,6,6,6,6,6,6,6,6,6,6,6,6,6,6,6,7,6,6,6,6,6,6,6,6,6,6,6,6,6,6,6,6,6,6,6,7,6,6,19,7,6,7,6,6,6,7,6,6,9,7,6,6,6,6,6,6,10,7,29,6,6,6,6,6,6,6,6,6,6,6,6,6,6,6,6,6,6,7,7,6,6,12,6,7,6,7,6,8,6,6,6,7,6,6,7,6,6,23,6,6,6,6,6,6,6,6,6,6,6,6,6,6,6,6,6],\"degree\":[1,1,3,6,6,5,9,2,2,3,2,7,2,4,1,1,5,1,1,1,1,1,11,2,4,4,2,2,1,4,1,1,1,1,38,1,1,1,1,1,1,1,1,1,1,1,1,1,1,1,1,2,1,1,1,1,1,1,1,1,1,1,1,1,1,1,1,1,1,1,1,2,1,1,14,2,1,2,1,1,1,2,1,1,4,2,1,1,1,1,1,1,5,2,24,1,1,1,1,1,1,1,1,1,1,1,1,1,1,1,1,1,1,2,2,1,1,7,1,2,1,2,1,3,1,1,1,2,1,1,2,1,1,18,1,1,1,1,1,1,1,1,1,1,1,1,1,1,1,1,1],\"index\":[\"CPT2\",\"perhexiline\",\"INSRR\",\"sunitinib\",\"crizotinib\",\"nintedanib\",\"NTRK1\",\"amitriptyline\",\"sorafenib\",\"ruxolitinib\",\"axitinib\",\"bosutinib\",\"ceritinib\",\"PARP1\",\"chlorthenoxazine\",\"olaparib\",\"rucaparib\",\"PARP10\",\"PARP12\",\"PARP14\",\"PARP15\",\"niraparib\",\"ALK\",\"erlotinib\",\"quercetin\",\"pazopanib\",\"vandetanib\",\"ALK|NPM1\",\"alectinib\",\"HDAC4\",\"romidepsin\",\"vorinostat\",\"panobinostat\",\"belinostat\",\"SCN5A\",\"amiodarone\",\"aprindine\",\"benzocaine\",\"benzonatate\",\"bepridil\",\"carbamazepine\",\"cocaine\",\"dextropropoxyphene\",\"cinchocaine\",\"hydroquinidine\",\"diprafenone\",\"disopyramide\",\"encainide\",\"etidocaine\",\"flecainide\",\"fosphenytoin\",\"gabapentin\",\"indecainide\",\"lamotrigine\",\"lidocaine\",\"lorcainide\",\"mepivacaine\",\"mexiletine\",\"moracizine\",\"nefopam\",\"orphenadrine\",\"oxcarbazepine\",\"phenytoin\",\"pirmenol\",\"propafenone\",\"quinidine\",\"ranolazine\",\"riluzole\",\"ropivacaine\",\"tetracaine\",\"topiramate\",\"verapamil\",\"KDM1B\",\"tranylcypromine\",\"BLK\",\"dasatinib\",\"gefitinib\",\"imatinib\",\"nilotinib\",\"afatinib\",\"ibrutinib\",\"SIRT1\",\"nicotinamide\",\"suramin\",\"MAP3K11\",\"CSNK1A1L\",\"ANPEP\",\"ubenimex\",\"ABAT\",\"vigabatrin\",\"ABCC11\",\"fluorouracil\",\"ABCC10\",\"anhydrovinblastine\",\"ABCC1\",\"benzbromarone\",\"colchicine\",\"ciclosporin\",\"daunorubicin\",\"docetaxel\",\"doxorubicin\",\"etoposide\",\"etravirine\",\"idarubicin\",\"indomethacin\",\"irinotecan\",\"methotrexate\",\"mezlocillin\",\"mitoxantrone\",\"paclitaxel\",\"pimozide\",\"saquinavir\",\"sulfinpyrazone\",\"vinblastine\",\"vincristine\",\"diosmetin\",\"daunorubicinol\",\"TAOK2\",\"ruboxistaurin\",\"HSD17B2\",\"acetoxolone\",\"SLC7A5\",\"pregabalin\",\"MAPT\",\"lansoprazole\",\"methylthioninium chloride\",\"tolonium\",\"HCN2\",\"ivabradine\",\"dronedarone\",\"DNMT3B\",\"hydralazine\",\"procainamide\",\"MMP9\",\"aminoquinuride\",\"beclometasone dipropionate\",\"budesonide\",\"busulfan\",\"cefonicid\",\"cefotetan\",\"cefotiam\",\"cefuroxime\",\"cefalotin\",\"cefradine\",\"chlorhexidine\",\"dacarbazine\",\"econazole\",\"floxacillin\",\"secobarbital\",\"zoledronic acid\",\"prazosin\"],\"modularity_class\":[null,null,2,2,2,2,2,2,2,2,2,2,2,4,4,4,4,4,4,4,4,4,2,2,3,2,2,2,2,5,5,5,5,5,0,0,0,0,0,0,0,0,0,0,0,0,0,0,0,0,0,null,0,0,0,0,0,0,0,0,0,0,0,0,0,0,0,0,0,0,0,1,null,null,2,2,2,1,2,2,2,7,7,7,2,2,null,null,null,null,null,null,1,1,1,1,1,1,1,1,1,1,1,1,1,1,1,1,1,1,1,1,1,1,1,1,1,2,2,3,3,8,null,6,6,6,6,null,null,null,null,null,null,3,3,3,3,3,3,3,3,3,3,3,3,3,3,3,3,3,3],\"modularity_color\":[null,null,\"#abdda4\",\"#abdda4\",\"#abdda4\",\"#abdda4\",\"#abdda4\",\"#abdda4\",\"#abdda4\",\"#abdda4\",\"#abdda4\",\"#abdda4\",\"#abdda4\",\"#fee08b\",\"#fee08b\",\"#fee08b\",\"#fee08b\",\"#fee08b\",\"#fee08b\",\"#fee08b\",\"#fee08b\",\"#fee08b\",\"#abdda4\",\"#abdda4\",\"#e6f598\",\"#abdda4\",\"#abdda4\",\"#abdda4\",\"#abdda4\",\"#fdae61\",\"#fdae61\",\"#fdae61\",\"#fdae61\",\"#fdae61\",\"#3288bd\",\"#3288bd\",\"#3288bd\",\"#3288bd\",\"#3288bd\",\"#3288bd\",\"#3288bd\",\"#3288bd\",\"#3288bd\",\"#3288bd\",\"#3288bd\",\"#3288bd\",\"#3288bd\",\"#3288bd\",\"#3288bd\",\"#3288bd\",\"#3288bd\",null,\"#3288bd\",\"#3288bd\",\"#3288bd\",\"#3288bd\",\"#3288bd\",\"#3288bd\",\"#3288bd\",\"#3288bd\",\"#3288bd\",\"#3288bd\",\"#3288bd\",\"#3288bd\",\"#3288bd\",\"#3288bd\",\"#3288bd\",\"#3288bd\",\"#3288bd\",\"#3288bd\",\"#3288bd\",\"#66c2a5\",null,null,\"#abdda4\",\"#abdda4\",\"#abdda4\",\"#66c2a5\",\"#abdda4\",\"#abdda4\",\"#abdda4\",\"#d53e4f\",\"#d53e4f\",\"#d53e4f\",\"#abdda4\",\"#abdda4\",null,null,null,null,null,null,\"#66c2a5\",\"#66c2a5\",\"#66c2a5\",\"#66c2a5\",\"#66c2a5\",\"#66c2a5\",\"#66c2a5\",\"#66c2a5\",\"#66c2a5\",\"#66c2a5\",\"#66c2a5\",\"#66c2a5\",\"#66c2a5\",\"#66c2a5\",\"#66c2a5\",\"#66c2a5\",\"#66c2a5\",\"#66c2a5\",\"#66c2a5\",\"#66c2a5\",\"#66c2a5\",\"#66c2a5\",\"#66c2a5\",\"#66c2a5\",\"#66c2a5\",\"#abdda4\",\"#abdda4\",\"#e6f598\",\"#e6f598\",null,null,\"#f46d43\",\"#f46d43\",\"#f46d43\",\"#f46d43\",null,null,null,null,null,null,\"#e6f598\",\"#e6f598\",\"#e6f598\",\"#e6f598\",\"#e6f598\",\"#e6f598\",\"#e6f598\",\"#e6f598\",\"#e6f598\",\"#e6f598\",\"#e6f598\",\"#e6f598\",\"#e6f598\",\"#e6f598\",\"#e6f598\",\"#e6f598\",\"#e6f598\",\"#e6f598\"]},\"selected\":{\"id\":\"9221\"},\"selection_policy\":{\"id\":\"9220\"}},\"id\":\"8755\",\"type\":\"ColumnDataSource\"},{\"attributes\":{\"data_source\":{\"id\":\"8755\"},\"glyph\":{\"id\":\"8763\"},\"hover_glyph\":{\"id\":\"8768\"},\"muted_glyph\":null,\"selection_glyph\":{\"id\":\"8773\"},\"view\":{\"id\":\"8757\"}},\"id\":\"8756\",\"type\":\"GlyphRenderer\"},{\"attributes\":{},\"id\":\"8743\",\"type\":\"WheelZoomTool\"},{\"attributes\":{},\"id\":\"8793\",\"type\":\"NodesAndLinkedEdges\"},{\"attributes\":{},\"id\":\"8744\",\"type\":\"SaveTool\"},{\"attributes\":{},\"id\":\"9207\",\"type\":\"AllLabels\"},{\"attributes\":{},\"id\":\"8742\",\"type\":\"PanTool\"},{\"attributes\":{},\"id\":\"8795\",\"type\":\"NodesAndLinkedEdges\"},{\"attributes\":{\"axis\":{\"id\":\"8738\"},\"dimension\":1,\"ticker\":null},\"id\":\"8741\",\"type\":\"Grid\"},{\"attributes\":{},\"id\":\"9206\",\"type\":\"BasicTickFormatter\"},{\"attributes\":{\"data\":{\"name\":[\"CPT2\",\"perhexiline\",\"INSRR\",\"sunitinib\",\"crizotinib\",\"nintedanib\",\"NTRK1\",\"amitriptyline\",\"sorafenib\",\"ruxolitinib\",\"axitinib\",\"bosutinib\",\"ceritinib\",\"PARP1\",\"chlorthenoxazine\",\"olaparib\",\"rucaparib\",\"PARP10\",\"PARP12\",\"PARP14\",\"PARP15\",\"niraparib\",\"ALK\",\"erlotinib\",\"quercetin\",\"pazopanib\",\"vandetanib\",\"ALK|NPM1\",\"alectinib\",\"HDAC4\",\"romidepsin\",\"vorinostat\",\"panobinostat\",\"belinostat\",\"SCN5A\",\"amiodarone\",\"aprindine\",\"benzocaine\",\"benzonatate\",\"bepridil\",\"carbamazepine\",\"cocaine\",\"dextropropoxyphene\",\"cinchocaine\",\"hydroquinidine\",\"diprafenone\",\"disopyramide\",\"encainide\",\"etidocaine\",\"flecainide\",\"fosphenytoin\",\"gabapentin\",\"indecainide\",\"lamotrigine\",\"lidocaine\",\"lorcainide\",\"mepivacaine\",\"mexiletine\",\"moracizine\",\"nefopam\",\"orphenadrine\",\"oxcarbazepine\",\"phenytoin\",\"pirmenol\",\"propafenone\",\"quinidine\",\"ranolazine\",\"riluzole\",\"ropivacaine\",\"tetracaine\",\"topiramate\",\"verapamil\",\"KDM1B\",\"tranylcypromine\",\"BLK\",\"dasatinib\",\"gefitinib\",\"imatinib\",\"nilotinib\",\"afatinib\",\"ibrutinib\",\"SIRT1\",\"nicotinamide\",\"suramin\",\"MAP3K11\",\"CSNK1A1L\",\"ANPEP\",\"ubenimex\",\"ABAT\",\"vigabatrin\",\"ABCC11\",\"fluorouracil\",\"ABCC10\",\"anhydrovinblastine\",\"ABCC1\",\"benzbromarone\",\"colchicine\",\"ciclosporin\",\"daunorubicin\",\"docetaxel\",\"doxorubicin\",\"etoposide\",\"etravirine\",\"idarubicin\",\"indomethacin\",\"irinotecan\",\"methotrexate\",\"mezlocillin\",\"mitoxantrone\",\"paclitaxel\",\"pimozide\",\"saquinavir\",\"sulfinpyrazone\",\"vinblastine\",\"vincristine\",\"diosmetin\",\"daunorubicinol\",\"TAOK2\",\"ruboxistaurin\",\"HSD17B2\",\"acetoxolone\",\"SLC7A5\",\"pregabalin\",\"MAPT\",\"lansoprazole\",\"methylthioninium chloride\",\"tolonium\",\"HCN2\",\"ivabradine\",\"dronedarone\",\"DNMT3B\",\"hydralazine\",\"procainamide\",\"MMP9\",\"aminoquinuride\",\"beclometasone dipropionate\",\"budesonide\",\"busulfan\",\"cefonicid\",\"cefotetan\",\"cefotiam\",\"cefuroxime\",\"cefalotin\",\"cefradine\",\"chlorhexidine\",\"dacarbazine\",\"econazole\",\"floxacillin\",\"secobarbital\",\"zoledronic acid\",\"prazosin\"],\"x\":[2.5441265866969807,2.655561906317187,-0.2576377566991779,-0.51074511749051,-0.7662495293407061,-0.43765972196665176,-0.6358850226801848,-0.1352887035270839,-1.3308225769067148,-1.1565366341247916,-0.18196098484833362,-0.8511142636422051,-1.0600703401211995,4.148728871033277,3.6042681047529683,4.383466073613827,4.954703134828503,5.485330436816217,5.5760518304324815,5.240072077972032,5.130610280217603,3.8729832102735835,-0.8899416594834025,-0.6867363390664122,-0.6621040512313751,-0.8767256374587161,-0.43451691339099363,-1.2122819557522406,-1.659628903552461,-5.081071150941667,-5.618017455236253,-5.378591131300763,-4.892386370124588,-4.567145210523519,0.4795565591036692,1.3284443322866928,0.3438409783257272,-0.36097634203003487,0.780705526309743,-0.0036458207241451567,1.4429375414130734,0.03293609171912536,1.1171825024846171,0.31430499116515226,0.2571111779320932,-0.17787939253133625,-0.008687995167665712,1.321493396851874,1.009960719280737,1.3583289196509347,0.5527387069535844,0.5990278135907744,0.0799632991555179,0.9922375901352787,0.9520034514443771,0.021582390775528062,0.4874833996264013,-0.2660200252742542,-0.12927614151984662,-0.4034029492347177,0.6900804742406479,-0.3911577986685014,0.7606049057633945,1.0041949472530558,1.2047670849050305,0.6717517018178478,0.31185099328503574,1.2453256390263308,-0.4836350104153485,-0.20926315766660367,1.0018876520621836,1.3334358520062473,8.098421502735217,7.841523477387391,-0.13830682310310394,-0.8222485184847688,0.024660174342218837,1.0301518999337855,0.40736370100135544,-0.21590186224427252,0.24207959783044605,-6.783122413434945,-7.049937969882541,-6.449482767349362,-0.593119774000582,-0.6961760742271648,-4.823108042819266,-4.590281143335343,3.473538374949755,3.499756586483556,-9.660258764587367,-9.440206166689322,4.087261561645427,3.2513617636289047,2.070801368220935,2.532433637685422,2.444108834786304,2.403449867765206,2.291985352730436,4.895730576921744,1.9110353436062408,2.651872587704779,2.90705506693937,2.7974507217089597,2.732551729995688,2.891435408970678,2.9782292486442348,1.9506190558520324,2.405022068167688,4.860446710634568,2.6644505942237653,2.3185249053902743,2.1287054527348936,3.3158846662927464,3.2860338786219807,1.709290411084156,2.692149366405037,-1.2892021867490864,-1.8353377910918522,-0.4388918733601954,-0.03248633390499642,0.6723410406309234,0.7061912569873044,8.311264455174378,8.130194107721685,7.610524145539387,8.997995841899844,-8.339382012546343,-8.781989629169082,-8.618047701833836,-1.9991418427349543,-2.327963909647302,-1.7606088568909155,-3.3716800674641867,-4.138592337537498,-4.373211302726058,-4.0510264148575885,-3.753423437453042,-3.3834338245052784,-3.9506403323275063,-3.444294160870784,-3.8870475741014126,-4.292505518121634,-3.981603504197432,-3.560070838163002,-3.647213007981179,-4.138611775562911,-3.837878769341918,-4.3095216585604375,-4.181736442769944,-3.8107820072271807],\"y\":[-9.429650549282629,-10.0,-2.3076845886169064,-2.1131917708626595,-2.1899344923924255,-1.9638020007421937,-1.1253148574005087,1.3616007367142227,-1.7783622051660257,-1.8589130980123478,-1.824051820336782,-2.289591978578794,-1.441720832317784,-6.392496497728012,-5.973350109042526,-7.0255431300287094,-6.408804411938108,-6.88283231046449,-6.596798995128916,-7.041693013663442,-5.946924988691142,-6.783023312508278,-2.0387209178195014,-2.892907953535247,-0.7630438499558078,-2.6703995844374844,-2.7694966850324056,-2.7977222689037142,-2.3939905685016227,7.131528977528138,7.563186160269305,7.774297641721995,7.487097101686719,6.3078967044496155,3.8427952627809874,4.427899254545812,4.617216886258128,4.480350037562374,4.653903964599504,3.3896647102736193,4.000607312828929,4.837920344537707,4.057352305679515,4.324553373403377,4.894107370138603,4.6879512846097535,3.734686213638439,3.798718664143285,4.825181289810087,4.214847017502065,4.739660016233526,2.8461905859355237,4.593205774803588,4.286157375268475,3.797883407547632,4.171809950710597,4.965896486544016,3.5340894345830325,4.409520693198935,4.243072294091926,3.397528758396934,3.769714543180988,4.921270508160526,4.544895491829392,4.626465528193829,4.3589144220448715,3.3685823332511813,3.570533368599138,4.016366104880475,3.998405564482315,3.4295775831730233,1.7414850728464402,-9.173460984124716,-9.355204628104051,-2.6459751130844285,-3.1826035828967143,-3.5335429167776606,-1.5900607911468434,-3.247614987897851,-3.5325440858420687,-3.4286923164911443,5.7646255972406495,5.5322765108446195,5.901159578957319,-2.4536872334699473,-2.724724386805042,-9.47882973986208,-9.086790287174358,8.028058660628751,8.358995631951874,4.803332824340834,5.02581394200983,-0.09368756133179197,-0.04050839300618779,-0.37728360930389526,-0.1787761062951501,-0.5987438928360821,-1.1823654087402542,-0.8995110690655167,-0.17493906338417747,-0.9211827494175163,-1.1373051065424211,-0.9476416811307238,-0.049982144340233216,-0.5768793792817589,-0.3684958122249455,-0.6925477178015685,0.11161868921472583,0.10830609103842609,0.13777017745333464,-0.8908433092737174,0.32911439839040413,-1.151746085644905,-0.3771897223133387,-0.2081620041801677,-0.5457010299836486,0.21802363000243014,-2.5800979527668093,-3.2943412340073297,-0.350764022598601,-0.27285133950819634,1.9876850667117683,1.2194195984333744,2.0192444885153007,2.3485810206370408,1.7872419861085622,2.1521347851610346,-4.534351311890691,-4.865736862609907,-4.303686047729151,-9.37442743921983,-9.497157697032574,-9.063494433580868,-0.7103233020808278,-0.1891791126945756,-0.7164918664652031,-1.0049968297926026,-0.25708370748391657,-0.24846548247601716,-1.4057236611826376,-1.2277827845407776,-0.012302241176488428,-0.42784887046342196,-0.4165273946475374,0.0016968183340249322,-1.43907130596625,-0.6790202998673314,-0.7656332574516972,-0.9799752502611349,-1.2420725098552186,-1.1730915003998077]},\"selected\":{\"id\":\"9217\"},\"selection_policy\":{\"id\":\"9216\"}},\"id\":\"8797\",\"type\":\"ColumnDataSource\"},{\"attributes\":{\"source\":{\"id\":\"8759\"}},\"id\":\"8761\",\"type\":\"CDSView\"},{\"attributes\":{\"fill_color\":{\"value\":\"white\"},\"line_width\":{\"value\":2},\"size\":{\"field\":\"adjusted_node_size\"}},\"id\":\"8773\",\"type\":\"Circle\"},{\"attributes\":{\"text\":\"Drug-Gene Interaction\"},\"id\":\"8726\",\"type\":\"Title\"},{\"attributes\":{\"line_width\":{\"value\":2}},\"id\":\"8788\",\"type\":\"MultiLine\"},{\"attributes\":{\"active_multi\":null,\"active_scroll\":{\"id\":\"8743\"},\"tools\":[{\"id\":\"8742\"},{\"id\":\"8743\"},{\"id\":\"8744\"},{\"id\":\"8745\"},{\"id\":\"8746\"}]},\"id\":\"8747\",\"type\":\"Toolbar\"},{\"attributes\":{},\"id\":\"9216\",\"type\":\"UnionRenderers\"},{\"attributes\":{\"data_source\":{\"id\":\"8759\"},\"glyph\":{\"id\":\"8778\"},\"hover_glyph\":{\"id\":\"8788\"},\"muted_glyph\":null,\"selection_glyph\":{\"id\":\"8783\"},\"view\":{\"id\":\"8761\"}},\"id\":\"8760\",\"type\":\"GlyphRenderer\"},{\"attributes\":{},\"id\":\"8730\",\"type\":\"LinearScale\"},{\"attributes\":{\"line_alpha\":{\"value\":0.5}},\"id\":\"8778\",\"type\":\"MultiLine\"},{\"attributes\":{\"formatter\":{\"id\":\"9206\"},\"major_label_policy\":{\"id\":\"9207\"},\"ticker\":{\"id\":\"8735\"}},\"id\":\"8734\",\"type\":\"LinearAxis\"},{\"attributes\":{\"background_fill_alpha\":{\"value\":0.7},\"background_fill_color\":{\"value\":\"white\"},\"source\":{\"id\":\"8797\"},\"text\":{\"field\":\"name\"},\"text_font_size\":{\"value\":\"10px\"},\"x\":{\"field\":\"x\"},\"y\":{\"field\":\"y\"}},\"id\":\"8798\",\"type\":\"LabelSet\"},{\"attributes\":{\"axis\":{\"id\":\"8734\"},\"ticker\":null},\"id\":\"8737\",\"type\":\"Grid\"},{\"attributes\":{\"edge_renderer\":{\"id\":\"8760\"},\"inspection_policy\":{\"id\":\"8795\"},\"layout_provider\":{\"id\":\"8762\"},\"node_renderer\":{\"id\":\"8756\"},\"selection_policy\":{\"id\":\"8793\"}},\"id\":\"8753\",\"type\":\"GraphRenderer\"},{\"attributes\":{},\"id\":\"8745\",\"type\":\"ResetTool\"},{\"attributes\":{},\"id\":\"9204\",\"type\":\"AllLabels\"},{\"attributes\":{\"callback\":null,\"tooltips\":[[\"Character\",\"@index\"],[\"Degree\",\"@degree\"],[\"Modularity Class\",\"@modularity_class\"],[\"Modularity Color\",\"$color[swatch]:modularity_color\"]]},\"id\":\"8746\",\"type\":\"HoverTool\"},{\"attributes\":{},\"id\":\"9217\",\"type\":\"Selection\"},{\"attributes\":{},\"id\":\"9220\",\"type\":\"UnionRenderers\"},{\"attributes\":{},\"id\":\"8735\",\"type\":\"BasicTicker\"},{\"attributes\":{},\"id\":\"9221\",\"type\":\"Selection\"},{\"attributes\":{\"source\":{\"id\":\"8755\"}},\"id\":\"8757\",\"type\":\"CDSView\"},{\"attributes\":{\"fill_color\":{\"field\":\"modularity_color\"},\"size\":{\"field\":\"adjusted_node_size\"}},\"id\":\"8763\",\"type\":\"Circle\"},{\"attributes\":{\"formatter\":{\"id\":\"9203\"},\"major_label_policy\":{\"id\":\"9204\"},\"ticker\":{\"id\":\"8739\"}},\"id\":\"8738\",\"type\":\"LinearAxis\"},{\"attributes\":{},\"id\":\"9203\",\"type\":\"BasicTickFormatter\"},{\"attributes\":{\"end\":10.1,\"start\":-10.1},\"id\":\"8724\",\"type\":\"Range1d\"},{\"attributes\":{},\"id\":\"8739\",\"type\":\"BasicTicker\"},{\"attributes\":{\"fill_color\":{\"value\":\"white\"},\"line_width\":{\"value\":2},\"size\":{\"field\":\"adjusted_node_size\"}},\"id\":\"8768\",\"type\":\"Circle\"},{\"attributes\":{},\"id\":\"8732\",\"type\":\"LinearScale\"},{\"attributes\":{\"line_width\":{\"value\":2}},\"id\":\"8783\",\"type\":\"MultiLine\"},{\"attributes\":{},\"id\":\"9218\",\"type\":\"UnionRenderers\"},{\"attributes\":{\"end\":10.1,\"start\":-10.1},\"id\":\"8723\",\"type\":\"Range1d\"},{\"attributes\":{\"data\":{\"end\":[\"perhexiline\",\"sunitinib\",\"crizotinib\",\"nintedanib\",\"NTRK1\",\"ALK\",\"BLK\",\"MAP3K11\",\"CSNK1A1L\",\"NTRK1\",\"ALK|NPM1\",\"ALK\",\"BLK\",\"TAOK2\",\"NTRK1\",\"ALK\",\"BLK\",\"MAP3K11\",\"amitriptyline\",\"sorafenib\",\"ruxolitinib\",\"axitinib\",\"bosutinib\",\"ceritinib\",\"SCN5A\",\"TAOK2\",\"ALK\",\"TAOK2\",\"BLK\",\"ALK|NPM1\",\"ALK\",\"BLK\",\"MAP3K11\",\"CSNK1A1L\",\"TAOK2\",\"ALK\",\"chlorthenoxazine\",\"olaparib\",\"rucaparib\",\"niraparib\",\"PARP10\",\"PARP12\",\"PARP14\",\"PARP15\",\"erlotinib\",\"quercetin\",\"pazopanib\",\"vandetanib\",\"alectinib\",\"BLK\",\"ABCC1\",\"HSD17B2\",\"MMP9\",\"BLK\",\"MAP3K11\",\"TAOK2\",\"BLK\",\"romidepsin\",\"vorinostat\",\"panobinostat\",\"belinostat\",\"amiodarone\",\"aprindine\",\"benzocaine\",\"benzonatate\",\"bepridil\",\"carbamazepine\",\"cocaine\",\"dextropropoxyphene\",\"cinchocaine\",\"hydroquinidine\",\"diprafenone\",\"disopyramide\",\"encainide\",\"etidocaine\",\"flecainide\",\"fosphenytoin\",\"gabapentin\",\"indecainide\",\"lamotrigine\",\"lidocaine\",\"lorcainide\",\"mepivacaine\",\"mexiletine\",\"moracizine\",\"nefopam\",\"orphenadrine\",\"oxcarbazepine\",\"phenytoin\",\"pirmenol\",\"propafenone\",\"quinidine\",\"ranolazine\",\"riluzole\",\"ropivacaine\",\"tetracaine\",\"topiramate\",\"verapamil\",\"SLC7A5\",\"ABCC1\",\"tranylcypromine\",\"dasatinib\",\"gefitinib\",\"imatinib\",\"nilotinib\",\"afatinib\",\"ibrutinib\",\"TAOK2\",\"ABCC1\",\"nicotinamide\",\"suramin\",\"ubenimex\",\"vigabatrin\",\"fluorouracil\",\"anhydrovinblastine\",\"docetaxel\",\"paclitaxel\",\"vinblastine\",\"vincristine\",\"ABCC1\",\"benzbromarone\",\"colchicine\",\"ciclosporin\",\"daunorubicin\",\"doxorubicin\",\"etoposide\",\"etravirine\",\"idarubicin\",\"indomethacin\",\"irinotecan\",\"methotrexate\",\"mezlocillin\",\"mitoxantrone\",\"pimozide\",\"saquinavir\",\"sulfinpyrazone\",\"vinblastine\",\"vincristine\",\"diosmetin\",\"daunorubicinol\",\"ruboxistaurin\",\"acetoxolone\",\"pregabalin\",\"lansoprazole\",\"methylthioninium chloride\",\"tolonium\",\"ivabradine\",\"dronedarone\",\"hydralazine\",\"procainamide\",\"aminoquinuride\",\"beclometasone dipropionate\",\"budesonide\",\"busulfan\",\"cefonicid\",\"cefotetan\",\"cefotiam\",\"cefuroxime\",\"cefalotin\",\"cefradine\",\"chlorhexidine\",\"dacarbazine\",\"econazole\",\"floxacillin\",\"secobarbital\",\"zoledronic acid\",\"prazosin\"],\"start\":[\"CPT2\",\"INSRR\",\"INSRR\",\"INSRR\",\"sunitinib\",\"sunitinib\",\"sunitinib\",\"sunitinib\",\"sunitinib\",\"crizotinib\",\"crizotinib\",\"crizotinib\",\"crizotinib\",\"crizotinib\",\"nintedanib\",\"nintedanib\",\"nintedanib\",\"nintedanib\",\"NTRK1\",\"NTRK1\",\"NTRK1\",\"NTRK1\",\"NTRK1\",\"NTRK1\",\"amitriptyline\",\"sorafenib\",\"ruxolitinib\",\"ruxolitinib\",\"axitinib\",\"bosutinib\",\"bosutinib\",\"bosutinib\",\"bosutinib\",\"bosutinib\",\"bosutinib\",\"ceritinib\",\"PARP1\",\"PARP1\",\"PARP1\",\"PARP1\",\"rucaparib\",\"rucaparib\",\"rucaparib\",\"rucaparib\",\"ALK\",\"ALK\",\"ALK\",\"ALK\",\"ALK\",\"erlotinib\",\"quercetin\",\"quercetin\",\"quercetin\",\"pazopanib\",\"pazopanib\",\"pazopanib\",\"vandetanib\",\"HDAC4\",\"HDAC4\",\"HDAC4\",\"HDAC4\",\"SCN5A\",\"SCN5A\",\"SCN5A\",\"SCN5A\",\"SCN5A\",\"SCN5A\",\"SCN5A\",\"SCN5A\",\"SCN5A\",\"SCN5A\",\"SCN5A\",\"SCN5A\",\"SCN5A\",\"SCN5A\",\"SCN5A\",\"SCN5A\",\"SCN5A\",\"SCN5A\",\"SCN5A\",\"SCN5A\",\"SCN5A\",\"SCN5A\",\"SCN5A\",\"SCN5A\",\"SCN5A\",\"SCN5A\",\"SCN5A\",\"SCN5A\",\"SCN5A\",\"SCN5A\",\"SCN5A\",\"SCN5A\",\"SCN5A\",\"SCN5A\",\"SCN5A\",\"SCN5A\",\"SCN5A\",\"gabapentin\",\"verapamil\",\"KDM1B\",\"BLK\",\"BLK\",\"BLK\",\"BLK\",\"BLK\",\"BLK\",\"dasatinib\",\"imatinib\",\"SIRT1\",\"SIRT1\",\"ANPEP\",\"ABAT\",\"ABCC11\",\"ABCC10\",\"ABCC10\",\"ABCC10\",\"ABCC10\",\"ABCC10\",\"anhydrovinblastine\",\"ABCC1\",\"ABCC1\",\"ABCC1\",\"ABCC1\",\"ABCC1\",\"ABCC1\",\"ABCC1\",\"ABCC1\",\"ABCC1\",\"ABCC1\",\"ABCC1\",\"ABCC1\",\"ABCC1\",\"ABCC1\",\"ABCC1\",\"ABCC1\",\"ABCC1\",\"ABCC1\",\"ABCC1\",\"ABCC1\",\"TAOK2\",\"HSD17B2\",\"SLC7A5\",\"MAPT\",\"MAPT\",\"MAPT\",\"HCN2\",\"HCN2\",\"DNMT3B\",\"DNMT3B\",\"MMP9\",\"MMP9\",\"MMP9\",\"MMP9\",\"MMP9\",\"MMP9\",\"MMP9\",\"MMP9\",\"MMP9\",\"MMP9\",\"MMP9\",\"MMP9\",\"MMP9\",\"MMP9\",\"MMP9\",\"MMP9\",\"MMP9\"]},\"selected\":{\"id\":\"9219\"},\"selection_policy\":{\"id\":\"9218\"}},\"id\":\"8759\",\"type\":\"ColumnDataSource\"},{\"attributes\":{\"graph_layout\":{\"ABAT\":[3.473538374949755,8.028058660628751],\"ABCC1\":[2.070801368220935,-0.37728360930389526],\"ABCC10\":[4.087261561645427,-0.09368756133179197],\"ABCC11\":[-9.660258764587367,4.803332824340834],\"ALK\":[-0.8899416594834025,-2.0387209178195014],\"ALK|NPM1\":[-1.2122819557522406,-2.7977222689037142],\"ANPEP\":[-4.823108042819266,-9.47882973986208],\"BLK\":[-0.13830682310310394,-2.6459751130844285],\"CPT2\":[2.5441265866969807,-9.429650549282629],\"CSNK1A1L\":[-0.6961760742271648,-2.724724386805042],\"DNMT3B\":[-1.9991418427349543,-9.37442743921983],\"HCN2\":[-8.339382012546343,-4.534351311890691],\"HDAC4\":[-5.081071150941667,7.131528977528138],\"HSD17B2\":[-0.4388918733601954,-0.350764022598601],\"INSRR\":[-0.2576377566991779,-2.3076845886169064],\"KDM1B\":[8.098421502735217,-9.173460984124716],\"MAP3K11\":[-0.593119774000582,-2.4536872334699473],\"MAPT\":[8.311264455174378,2.0192444885153007],\"MMP9\":[-3.3716800674641867,-0.7103233020808278],\"NTRK1\":[-0.6358850226801848,-1.1253148574005087],\"PARP1\":[4.148728871033277,-6.392496497728012],\"PARP10\":[5.485330436816217,-6.88283231046449],\"PARP12\":[5.5760518304324815,-6.596798995128916],\"PARP14\":[5.240072077972032,-7.041693013663442],\"PARP15\":[5.130610280217603,-5.946924988691142],\"SCN5A\":[0.4795565591036692,3.8427952627809874],\"SIRT1\":[-6.783122413434945,5.7646255972406495],\"SLC7A5\":[0.6723410406309234,1.9876850667117683],\"TAOK2\":[-1.2892021867490864,-2.5800979527668093],\"acetoxolone\":[-0.03248633390499642,-0.27285133950819634],\"afatinib\":[-0.21590186224427252,-3.5325440858420687],\"alectinib\":[-1.659628903552461,-2.3939905685016227],\"aminoquinuride\":[-4.138592337537498,-0.1891791126945756],\"amiodarone\":[1.3284443322866928,4.427899254545812],\"amitriptyline\":[-0.1352887035270839,1.3616007367142227],\"anhydrovinblastine\":[3.2513617636289047,-0.04050839300618779],\"aprindine\":[0.3438409783257272,4.617216886258128],\"axitinib\":[-0.18196098484833362,-1.824051820336782],\"beclometasone dipropionate\":[-4.373211302726058,-0.7164918664652031],\"belinostat\":[-4.567145210523519,6.3078967044496155],\"benzbromarone\":[2.532433637685422,-0.1787761062951501],\"benzocaine\":[-0.36097634203003487,4.480350037562374],\"benzonatate\":[0.780705526309743,4.653903964599504],\"bepridil\":[-0.0036458207241451567,3.3896647102736193],\"bosutinib\":[-0.8511142636422051,-2.289591978578794],\"budesonide\":[-4.0510264148575885,-1.0049968297926026],\"busulfan\":[-3.753423437453042,-0.25708370748391657],\"carbamazepine\":[1.4429375414130734,4.000607312828929],\"cefalotin\":[-4.292505518121634,-0.42784887046342196],\"cefonicid\":[-3.3834338245052784,-0.24846548247601716],\"cefotetan\":[-3.9506403323275063,-1.4057236611826376],\"cefotiam\":[-3.444294160870784,-1.2277827845407776],\"cefradine\":[-3.981603504197432,-0.4165273946475374],\"cefuroxime\":[-3.8870475741014126,-0.012302241176488428],\"ceritinib\":[-1.0600703401211995,-1.441720832317784],\"chlorhexidine\":[-3.560070838163002,0.0016968183340249322],\"chlorthenoxazine\":[3.6042681047529683,-5.973350109042526],\"ciclosporin\":[2.403449867765206,-1.1823654087402542],\"cinchocaine\":[0.31430499116515226,4.324553373403377],\"cocaine\":[0.03293609171912536,4.837920344537707],\"colchicine\":[2.444108834786304,-0.5987438928360821],\"crizotinib\":[-0.7662495293407061,-2.1899344923924255],\"dacarbazine\":[-3.647213007981179,-1.43907130596625],\"dasatinib\":[-0.8222485184847688,-3.1826035828967143],\"daunorubicin\":[2.291985352730436,-0.8995110690655167],\"daunorubicinol\":[2.692149366405037,0.21802363000243014],\"dextropropoxyphene\":[1.1171825024846171,4.057352305679515],\"diosmetin\":[1.709290411084156,-0.5457010299836486],\"diprafenone\":[-0.17787939253133625,4.6879512846097535],\"disopyramide\":[-0.008687995167665712,3.734686213638439],\"docetaxel\":[4.895730576921744,-0.17493906338417747],\"doxorubicin\":[1.9110353436062408,-0.9211827494175163],\"dronedarone\":[-8.618047701833836,-4.303686047729151],\"econazole\":[-4.138611775562911,-0.6790202998673314],\"encainide\":[1.321493396851874,3.798718664143285],\"erlotinib\":[-0.6867363390664122,-2.892907953535247],\"etidocaine\":[1.009960719280737,4.825181289810087],\"etoposide\":[2.651872587704779,-1.1373051065424211],\"etravirine\":[2.90705506693937,-0.9476416811307238],\"flecainide\":[1.3583289196509347,4.214847017502065],\"floxacillin\":[-3.837878769341918,-0.7656332574516972],\"fluorouracil\":[-9.440206166689322,5.02581394200983],\"fosphenytoin\":[0.5527387069535844,4.739660016233526],\"gabapentin\":[0.5990278135907744,2.8461905859355237],\"gefitinib\":[0.024660174342218837,-3.5335429167776606],\"hydralazine\":[-2.327963909647302,-9.497157697032574],\"hydroquinidine\":[0.2571111779320932,4.894107370138603],\"ibrutinib\":[0.24207959783044605,-3.4286923164911443],\"idarubicin\":[2.7974507217089597,-0.049982144340233216],\"imatinib\":[1.0301518999337855,-1.5900607911468434],\"indecainide\":[0.0799632991555179,4.593205774803588],\"indomethacin\":[2.732551729995688,-0.5768793792817589],\"irinotecan\":[2.891435408970678,-0.3684958122249455],\"ivabradine\":[-8.781989629169082,-4.865736862609907],\"lamotrigine\":[0.9922375901352787,4.286157375268475],\"lansoprazole\":[8.130194107721685,2.3485810206370408],\"lidocaine\":[0.9520034514443771,3.797883407547632],\"lorcainide\":[0.021582390775528062,4.171809950710597],\"mepivacaine\":[0.4874833996264013,4.965896486544016],\"methotrexate\":[2.9782292486442348,-0.6925477178015685],\"methylthioninium chloride\":[7.610524145539387,1.7872419861085622],\"mexiletine\":[-0.2660200252742542,3.5340894345830325],\"mezlocillin\":[1.9506190558520324,0.11161868921472583],\"mitoxantrone\":[2.405022068167688,0.10830609103842609],\"moracizine\":[-0.12927614151984662,4.409520693198935],\"nefopam\":[-0.4034029492347177,4.243072294091926],\"nicotinamide\":[-7.049937969882541,5.5322765108446195],\"nilotinib\":[0.40736370100135544,-3.247614987897851],\"nintedanib\":[-0.43765972196665176,-1.9638020007421937],\"niraparib\":[3.8729832102735835,-6.783023312508278],\"olaparib\":[4.383466073613827,-7.0255431300287094],\"orphenadrine\":[0.6900804742406479,3.397528758396934],\"oxcarbazepine\":[-0.3911577986685014,3.769714543180988],\"paclitaxel\":[4.860446710634568,0.13777017745333464],\"panobinostat\":[-4.892386370124588,7.487097101686719],\"pazopanib\":[-0.8767256374587161,-2.6703995844374844],\"perhexiline\":[2.655561906317187,-10.0],\"phenytoin\":[0.7606049057633945,4.921270508160526],\"pimozide\":[2.6644505942237653,-0.8908433092737174],\"pirmenol\":[1.0041949472530558,4.544895491829392],\"prazosin\":[-3.8107820072271807,-1.1730915003998077],\"pregabalin\":[0.7061912569873044,1.2194195984333744],\"procainamide\":[-1.7606088568909155,-9.063494433580868],\"propafenone\":[1.2047670849050305,4.626465528193829],\"quercetin\":[-0.6621040512313751,-0.7630438499558078],\"quinidine\":[0.6717517018178478,4.3589144220448715],\"ranolazine\":[0.31185099328503574,3.3685823332511813],\"riluzole\":[1.2453256390263308,3.570533368599138],\"romidepsin\":[-5.618017455236253,7.563186160269305],\"ropivacaine\":[-0.4836350104153485,4.016366104880475],\"ruboxistaurin\":[-1.8353377910918522,-3.2943412340073297],\"rucaparib\":[4.954703134828503,-6.408804411938108],\"ruxolitinib\":[-1.1565366341247916,-1.8589130980123478],\"saquinavir\":[2.3185249053902743,0.32911439839040413],\"secobarbital\":[-4.3095216585604375,-0.9799752502611349],\"sorafenib\":[-1.3308225769067148,-1.7783622051660257],\"sulfinpyrazone\":[2.1287054527348936,-1.151746085644905],\"sunitinib\":[-0.51074511749051,-2.1131917708626595],\"suramin\":[-6.449482767349362,5.901159578957319],\"tetracaine\":[-0.20926315766660367,3.998405564482315],\"tolonium\":[8.997995841899844,2.1521347851610346],\"topiramate\":[1.0018876520621836,3.4295775831730233],\"tranylcypromine\":[7.841523477387391,-9.355204628104051],\"ubenimex\":[-4.590281143335343,-9.086790287174358],\"vandetanib\":[-0.43451691339099363,-2.7694966850324056],\"verapamil\":[1.3334358520062473,1.7414850728464402],\"vigabatrin\":[3.499756586483556,8.358995631951874],\"vinblastine\":[3.3158846662927464,-0.3771897223133387],\"vincristine\":[3.2860338786219807,-0.2081620041801677],\"vorinostat\":[-5.378591131300763,7.774297641721995],\"zoledronic acid\":[-4.181736442769944,-1.2420725098552186]}},\"id\":\"8762\",\"type\":\"StaticLayoutProvider\"},{\"attributes\":{},\"id\":\"9219\",\"type\":\"Selection\"}],\"root_ids\":[\"8725\"]},\"title\":\"Bokeh Application\",\"version\":\"2.3.2\"}};\n",
       "  var render_items = [{\"docid\":\"5663ce6d-ef8e-4e4f-987d-4072b4e0bbe3\",\"root_ids\":[\"8725\"],\"roots\":{\"8725\":\"6f244f54-b59a-41f6-b76c-c537bd7058ba\"}}];\n",
       "  root.Bokeh.embed.embed_items_notebook(docs_json, render_items);\n",
       "\n",
       "  }\n",
       "  if (root.Bokeh !== undefined) {\n",
       "    embed_document(root);\n",
       "  } else {\n",
       "    var attempts = 0;\n",
       "    var timer = setInterval(function(root) {\n",
       "      if (root.Bokeh !== undefined) {\n",
       "        clearInterval(timer);\n",
       "        embed_document(root);\n",
       "      } else {\n",
       "        attempts++;\n",
       "        if (attempts > 100) {\n",
       "          clearInterval(timer);\n",
       "          console.log(\"Bokeh: ERROR: Unable to run BokehJS code because BokehJS library is missing\");\n",
       "        }\n",
       "      }\n",
       "    }, 10, root)\n",
       "  }\n",
       "})(window);"
      ],
      "application/vnd.bokehjs_exec.v0+json": ""
     },
     "metadata": {
      "application/vnd.bokehjs_exec.v0+json": {
       "id": "8725"
      }
     },
     "output_type": "display_data"
    }
   ],
   "source": [
    "from bokeh.models import EdgesAndLinkedNodes, NodesAndLinkedEdges\n",
    "\n",
    "#Choose colors for node and edge highlighting\n",
    "node_highlight_color = 'white'\n",
    "edge_highlight_color = 'black'\n",
    "\n",
    "#Choose attributes from G network to size and color by — setting manual size (e.g. 10) or color (e.g. 'skyblue') also allowed\n",
    "size_by_this_attribute = 'adjusted_node_size'\n",
    "color_by_this_attribute = 'modularity_color'\n",
    "\n",
    "#Pick a color palette — Blues8, Reds8, Purples8, Oranges8, Viridis8\n",
    "color_palette = Blues8\n",
    "\n",
    "#Choose a title!\n",
    "title = 'Drug-Gene Interaction'\n",
    "\n",
    "#Establish which categories will appear when hovering over each node\n",
    "HOVER_TOOLTIPS = [\n",
    "       (\"Character\", \"@index\"),\n",
    "        (\"Degree\", \"@degree\"),\n",
    "         (\"Modularity Class\", \"@modularity_class\"),\n",
    "        (\"Modularity Color\", \"$color[swatch]:modularity_color\"),\n",
    "]\n",
    "\n",
    "#Create a plot — set dimensions, toolbar, and title\n",
    "plot = figure(tooltips = HOVER_TOOLTIPS,\n",
    "              tools=\"pan,wheel_zoom,save,reset\", active_scroll='wheel_zoom',\n",
    "            x_range=Range1d(-10.1, 10.1), y_range=Range1d(-10.1, 10.1), title=title) #plot_width=1500, plot_height=1500 크기조절\n",
    "\n",
    "#Create a network graph object\n",
    "network_graph = from_networkx(G, networkx.spring_layout, scale=10, center=(0, 0))\n",
    "\n",
    "#Set node sizes and colors according to node degree (color as category from attribute)\n",
    "network_graph.node_renderer.glyph = Circle(size=size_by_this_attribute, fill_color=color_by_this_attribute)\n",
    "#Set node highlight colors\n",
    "network_graph.node_renderer.hover_glyph = Circle(size=size_by_this_attribute, fill_color=node_highlight_color, line_width=2)\n",
    "network_graph.node_renderer.selection_glyph = Circle(size=size_by_this_attribute, fill_color=node_highlight_color, line_width=2)\n",
    "\n",
    "#Set edge opacity and width\n",
    "network_graph.edge_renderer.glyph = MultiLine(line_alpha=0.5, line_width=1)\n",
    "#Set edge highlight colors\n",
    "network_graph.edge_renderer.selection_glyph = MultiLine(line_color=edge_highlight_color, line_width=2)\n",
    "network_graph.edge_renderer.hover_glyph = MultiLine(line_color=edge_highlight_color, line_width=2)\n",
    "\n",
    "#Highlight nodes and edges\n",
    "network_graph.selection_policy = NodesAndLinkedEdges()\n",
    "network_graph.inspection_policy = NodesAndLinkedEdges()\n",
    "\n",
    "plot.renderers.append(network_graph)\n",
    "\n",
    "#Add Labels\n",
    "x, y = zip(*network_graph.layout_provider.graph_layout.values())\n",
    "node_labels = list(G.nodes())\n",
    "source = ColumnDataSource({'x': x, 'y': y, 'name': [node_labels[i] for i in range(len(x))]})\n",
    "labels = LabelSet(x='x', y='y', text='name', source=source, background_fill_color='white', text_font_size='10px', background_fill_alpha=.7)\n",
    "plot.renderers.append(labels)\n",
    "\n",
    "show(plot)\n",
    "#save(plot, filename=f\"{title}.html\")"
   ]
  },
  {
   "cell_type": "code",
   "execution_count": null,
   "id": "157b4d25-c74f-44d5-aac8-fcd9092def7a",
   "metadata": {},
   "outputs": [],
   "source": [
    "## reference\n",
    "## https://melaniewalsh.github.io/Intro-Cultural-Analytics/welcome.html"
   ]
  }
 ],
 "metadata": {
  "kernelspec": {
   "display_name": "Python 3",
   "language": "python",
   "name": "python3"
  },
  "language_info": {
   "codemirror_mode": {
    "name": "ipython",
    "version": 3
   },
   "file_extension": ".py",
   "mimetype": "text/x-python",
   "name": "python",
   "nbconvert_exporter": "python",
   "pygments_lexer": "ipython3",
   "version": "3.8.8"
  }
 },
 "nbformat": 4,
 "nbformat_minor": 5
}
